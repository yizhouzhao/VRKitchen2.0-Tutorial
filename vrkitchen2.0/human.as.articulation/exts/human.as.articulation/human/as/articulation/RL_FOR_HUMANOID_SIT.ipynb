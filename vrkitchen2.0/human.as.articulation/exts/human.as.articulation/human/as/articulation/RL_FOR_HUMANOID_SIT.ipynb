{
 "cells": [
  {
   "cell_type": "code",
   "execution_count": 1,
   "id": "06d0df9b",
   "metadata": {},
   "outputs": [],
   "source": [
    "from rl.torch_utils import *\n",
    "from rl.torch_jit_utils import *\n",
    "from rl.trainer import Trainer\n",
    "\n",
    "# trainer = Trainer(57, 21)"
   ]
  },
  {
   "cell_type": "code",
   "execution_count": 2,
   "id": "d0513c1f",
   "metadata": {},
   "outputs": [],
   "source": [
    "import getpass\n",
    "\n",
    "user = getpass.getuser()"
   ]
  },
  {
   "cell_type": "code",
   "execution_count": 3,
   "id": "a03d2f53",
   "metadata": {},
   "outputs": [
    {
     "data": {
      "text/plain": [
       "'yizhou'"
      ]
     },
     "execution_count": 3,
     "metadata": {},
     "output_type": "execute_result"
    }
   ],
   "source": [
    "user"
   ]
  },
  {
   "cell_type": "code",
   "execution_count": 4,
   "id": "5729f128",
   "metadata": {},
   "outputs": [
    {
     "name": "stdout",
     "output_type": "stream",
     "text": [
      "Starting kit application with the fillowing args:  ['/home/yizhou/.local/share/ov/pkg/isaac_sim-2022.1.0/exts/omni.isaac.kit/omni/isaac/kit/simulation_app.py', '/home/yizhou/.local/share/ov/pkg/isaac_sim-2022.1.0/apps/omni.isaac.sim.python.kit', '--/app/tokens/exe-path=/home/yizhou/.local/share/ov/pkg/isaac_sim-2022.1.0/kit', '--/persistent/app/viewport/displayOptions=3094', '--/rtx/materialDb/syncLoads=True', '--/rtx/hydra/materialSyncLoads=True--/omni.kit.plugin/syncUsdLoads=True', '--/app/renderer/resolution/width=1280', '--/app/renderer/resolution/height=720', '--/app/window/width=1440', '--/app/window/height=900', '--/renderer/multiGpu/enabled=True', '--ext-folder', '/home/yizhou/.local/share/ov/pkg/isaac_sim-2022.1.0/exts', '--ext-folder', '/home/yizhou/.local/share/ov/pkg/isaac_sim-2022.1.0/apps', '--portable', '--no-window']\n",
      "Passing the following args to the base kit application:  ['-f', '/home/yizhou/.local/share/jupyter/runtime/kernel-2759bf24-939d-49f0-88f5-69da2fe379f6.json']\n",
      "[Warning] [omni.kit.app.plugin] No crash reporter present, dumps uploading isn't available.\n",
      "[Info] [carb] Logging to file: /home/yizhou/.local/share/ov/pkg/isaac_sim-2022.1.0/kit/logs/Kit/Isaac-Sim/2022.1/kit_20220720_215234.log\n",
      "[0.078s] [ext: omni.stats-0.0.0] startup\n",
      "[0.098s] [ext: omni.gpu_foundation-0.0.0] startup\n",
      "2022-07-21 04:52:35 [99ms] [Warning] [carb] FrameworkImpl::setDefaultPlugin(client: omni.gpu_foundation_factory.plugin, desc : [carb::graphics::Graphics v2.5], plugin : carb.graphics-vulkan.plugin) failed. Plugin selection is locked, because the interface was previously acquired by: \n",
      "[0.113s] [ext: carb.windowing.plugins-1.0.0] startup\n",
      "[0.125s] [ext: omni.assets.plugins-0.0.0] startup\n",
      "[0.126s] [ext: omni.kit.renderer.init-0.0.0] startup\n",
      "\n",
      "|---------------------------------------------------------------------------------------------|\n",
      "| Driver Version: 510.73.5      | Graphics API: Vulkan\n",
      "|=============================================================================================|\n",
      "| GPU | Name                             | Active | LDA | GPU Memory | Vendor-ID | LUID       |\n",
      "|     |                                  |        |     |            | Device-ID | UUID       |\n",
      "|---------------------------------------------------------------------------------------------|\n",
      "| 0   | NVIDIA GeForce RTX 3090          | Yes: 0 |     | 24822   MB | 10de      | 0          |\n",
      "|     |                                  |        |     |            | 2204      | 3f50dd6e.. |\n",
      "|=============================================================================================|\n",
      "| OS: Linux yizhou-Z370-AORUS-Gaming-5, Version: 5.15.0-41-generic\n",
      "| Processor: Intel(R) Core(TM) i7-8700K CPU @ 3.70GHz | Cores: Unknown | Logical: 12\n",
      "|---------------------------------------------------------------------------------------------|\n",
      "| Total Memory (MB): 32046 | Free Memory: 15686\n",
      "| Total Page/Swap (MB): 2047 | Free Page/Swap: 2047\n",
      "|---------------------------------------------------------------------------------------------|\n",
      "2022-07-21 04:52:35 [839ms] [Warning] [carb.cudainterop.plugin] On Linux only, CUDA and the display driver does not support IOMMU-enabled bare-metal PCIe peer to peer memory copy.\n",
      "However, CUDA and the display driver does support IOMMU via VM pass through. As a consequence, users on Linux,\n",
      "when running on a native bare metal system, should disable the IOMMU. The IOMMU should be enabled and the VFIO driver\n",
      "be used as a PCIe pass through for virtual machines.\n",
      "[0.862s] [ext: omni.kit.pipapi-0.0.0] startup\n",
      "[0.873s] [ext: omni.kit.pip_archive-0.0.0] startup\n",
      "[0.878s] [ext: omni.isaac.core_archive-0.3.0] startup\n",
      "[0.896s] [ext: omni.usd.config-1.0.0] startup\n",
      "[0.899s] [ext: omni.usd.libs-1.0.0] startup\n",
      "[1.177s] [ext: omni.isaac.ml_archive-0.1.0] startup\n",
      "[1.225s] [ext: omni.kit.loop-isaac-0.1.0] startup\n",
      "[1.226s] [ext: omni.kit.async_engine-0.0.0] startup\n",
      "[1.228s] [ext: omni.appwindow-1.0.0] startup\n",
      "[1.232s] [ext: omni.client-0.1.0] startup\n",
      "[1.257s] [ext: omni.kit.test-0.0.0] startup\n",
      "[1.288s] [ext: omni.kit.renderer.core-0.0.0] startup\n",
      "[1.368s] [ext: omni.ui-2.10.3] startup\n",
      "[1.397s] [ext: carb.audio-0.1.0] startup\n",
      "[1.423s] [ext: omni.kit.mainwindow-0.0.0] startup\n",
      "[1.426s] [ext: omni.uiaudio-1.0.0] startup\n",
      "[1.428s] [ext: omni.kit.uiapp-0.0.0] startup\n",
      "[1.428s] [ext: omni.usd.schema.physics-1.0.0] startup\n",
      "[1.487s] [ext: omni.usd.schema.audio-0.0.0] startup\n",
      "[1.497s] [ext: omni.usd.schema.semantics-0.0.0] startup\n",
      "[1.512s] [ext: omni.usd.schema.omnigraph-1.0.0] startup\n",
      "[1.524s] [ext: omni.usd.schema.anim-0.0.0] startup\n",
      "[1.625s] [ext: omni.kit.commands-1.2.2] startup\n",
      "[1.631s] [ext: omni.timeline-1.0.2] startup\n",
      "[1.635s] [ext: omni.hydra.scene_delegate-0.2.0] startup\n",
      "[1.648s] [ext: omni.kit.audiodeviceenum-1.0.0] startup\n",
      "[1.651s] [ext: omni.usd-1.5.3] startup\n",
      "[1.771s] [ext: omni.kit.asset_converter-1.2.30] startup\n",
      "[1.801s] [ext: omni.usd.schema.isaac-0.2.0] startup\n",
      "[1.859s] [ext: omni.usd.schema.physx-0.0.0] startup\n",
      "[1.898s] [ext: omni.kit.search_core-1.0.2] startup\n",
      "[1.901s] [ext: omni.renderer-rtx-0.0.0] startup\n",
      "[1.904s] [ext: omni.kit.widget.graph-1.4.2] startup\n",
      "[1.915s] [ext: omni.kit.widget.filebrowser-2.2.26] startup\n",
      "[1.924s] [ext: omni.kit.window.popup_dialog-2.0.7] startup\n",
      "[1.934s] [ext: omni.mdl.neuraylib-0.1.0] startup\n",
      "[1.939s] [ext: omni.kit.widget.path_field-2.0.3] startup\n",
      "[1.941s] [ext: omni.kit.widget.versioning-1.3.8] startup\n",
      "[1.945s] [ext: omni.kit.notification_manager-1.0.5] startup\n",
      "[1.948s] [ext: omni.kit.widget.browser_bar-2.0.3] startup\n",
      "[1.950s] [ext: omni.kit.menu.utils-1.2.11] startup\n",
      "[1.965s] [ext: omni.kit.window.filepicker-2.4.29] startup\n"
     ]
    },
    {
     "name": "stderr",
     "output_type": "stream",
     "text": [
      "OmniAssetFileFormat\n"
     ]
    },
    {
     "name": "stdout",
     "output_type": "stream",
     "text": [
      "[2.040s] [ext: omni.mdl-0.1.0] startup\n",
      "[2.067s] [ext: omni.kit.menu.create-1.0.2] startup\n",
      "[2.069s] [ext: omni.kit.window.file_exporter-1.0.4] startup\n",
      "[2.070s] [ext: omni.kit.window.drop_support-1.0.0] startup\n",
      "[2.072s] [ext: omni.kit.material.library-1.3.10] startup\n",
      "[2.075s] [ext: omni.kit.window.property-1.6.3] startup\n",
      "[2.078s] [ext: omni.kit.context_menu-1.3.9] startup\n",
      "[2.083s] [ext: omni.kit.window.file_importer-1.0.4] startup\n",
      "[2.084s] [ext: omni.kit.stage_templates-1.1.2] startup\n",
      "[2.087s] [ext: omni.kit.widget.stage-2.6.15] startup\n",
      "[2.093s] [ext: omni.kit.window.file-1.3.16] startup\n",
      "[2.096s] [ext: omni.debugdraw-0.1.0] startup\n",
      "[2.104s] [ext: omni.kit.window.content_browser-2.4.28] startup\n",
      "[2.118s] [ext: omni.kit.widget.prompt-1.0.1] startup\n",
      "[2.119s] [ext: omni.kit.property.usd-3.14.8] startup\n",
      "[2.158s] [ext: omni.hydra.engine.stats-1.0.0] startup\n",
      "[2.166s] [ext: omni.kit.widget.settings-1.0.0] startup\n",
      "[2.168s] [ext: omni.graph.tools-1.3.5] startup\n",
      "[2.198s] [ext: omni.graph.core-2.27.0] startup\n",
      "[2.205s] [ext: omni.hydra.rtx-0.1.0] startup\n",
      "[2.230s] [ext: omni.kit.viewport.legacy_gizmos-1.0.0] startup\n",
      "[2.234s] [ext: omni.ui_query-1.1.1] startup\n",
      "[2.237s] [ext: omni.graph-1.22.1] startup\n",
      "[2.349s] [ext: omni.kit.window.viewport-0.0.0] startup\n"
     ]
    },
    {
     "name": "stderr",
     "output_type": "stream",
     "text": [
      "2022-07-21 04:52:37 [2,461ms] [Error] [rtx.neuraylib.plugin] [DYNLIB:IO]   0.1   DYNLIB io   error: /home/yizhou/.local/share/ov/pkg/isaac_sim-2022.1.0/kit/python/bin/libs/iray/libnvindex.so: cannot open shared object file: No such file or directory\n",
      "2022-07-21 04:52:37 [2,462ms] [Error] [rtx.neuraylib.plugin] [INDEX:MAIN]   0.1   INDEX  main error: Failed to load /home/yizhou/.local/share/ov/pkg/isaac_sim-2022.1.0/kit/python/bin/libs/iray/libnvindex.so\n"
     ]
    },
    {
     "name": "stdout",
     "output_type": "stream",
     "text": [
      "Warp initialized:\n",
      "   Version: 0.2.1\n",
      "   Using CUDA device: NVIDIA GeForce RTX 3090\n",
      "   Using CPU compiler: /usr/bin/g++\n",
      "[7.657s] [ext: omni.kit.window.preferences-1.2.1] startup\n",
      "[7.696s] [ext: omni.kit.ui_test-1.2.0] startup\n",
      "[7.699s] [ext: omni.graph.ui-1.6.1] startup\n",
      "[7.735s] [ext: omni.kvdb-0.0.0] startup\n",
      "[7.740s] [ext: omni.kit.widget.searchfield-1.0.6] startup\n",
      "[7.742s] [ext: omni.convexdecomposition-1.4.12] startup\n",
      "[7.746s] [ext: omni.graph.action-1.17.0] startup\n",
      "[7.763s] [ext: omni.localcache-0.0.0] startup\n",
      "[7.768s] [ext: omni.usdphysics-1.4.12] startup\n",
      "[7.771s] [ext: omni.graph.scriptnode-0.5.0] startup\n",
      "[7.776s] [ext: omni.physx-1.4.12-5.1] startup\n",
      "2022-07-21 04:52:42 [7,789ms] [Warning] [omni.kvdb.plugin] wasn't able to load the meta database, trying to repair it ...\n",
      "2022-07-21 04:52:42 [7,846ms] [Warning] [omni.kvdb.plugin] repair failed\n",
      "[7.858s] [ext: omni.kit.usd_undo-0.1.0] startup\n",
      "[7.861s] [ext: omni.graph.nodes-1.25.0] startup\n",
      "[7.887s] [ext: omni.physx.commands-1.4.12-5.1] startup\n",
      "[7.893s] [ext: omni.syntheticdata-0.2.1] startup\n",
      "[7.954s] [ext: omni.physx.ui-1.4.12-5.1] startup\n",
      "[8.044s] [ext: omni.warp-0.2.1] startup\n",
      "[9.725s] [ext: omni.kit.renderer.capture-0.0.0] startup\n",
      "[9.730s] [ext: omni.kit.property.material-1.8.5] startup\n",
      "[9.735s] [ext: omni.physx.demos-1.4.12-5.1] startup\n",
      "[9.738s] [ext: omni.physics.tensors-0.1.0] startup\n",
      "[9.749s] [ext: omni.kit.property.physx-0.1.0] startup\n",
      "2022-07-21 04:52:44 [9,881ms] [Warning] [omni.physx.plugin] Deprecated: getSimulationEventStream is deprecated, please use getSimulationEventStreamV2\n",
      "[9.894s] [ext: omni.kit.window.toolbar-1.2.4] startup\n",
      "[9.902s] [ext: omni.physx.tensors-0.1.0] startup\n",
      "[9.912s] [ext: omni.physx.vehicle-1.4.12-5.1] startup\n",
      "[9.928s] [ext: omni.physx.tests-1.4.12-5.1] startup\n",
      "[9.998s] [ext: omni.kit.numpy.common-0.1.0] startup\n",
      "[10.001s] [ext: omni.physx.camera-1.4.12-5.1] startup\n",
      "[10.011s] [ext: omni.physx.cct-1.4.12-5.1] startup\n",
      "[10.102s] [ext: omni.isaac.version-1.0.0] startup\n",
      "[10.103s] [ext: omni.isaac.dynamic_control-1.0.0] startup\n",
      "[10.117s] [ext: omni.physx.bundle-1.4.12-5.1] startup\n",
      "[10.117s] [ext: omni.kit.primitive.mesh-1.0.0] startup\n",
      "[10.124s] [ext: omni.command.usd-1.0.1] startup\n",
      "[10.128s] [ext: omni.isaac.core-1.15.1] startup\n",
      "[10.200s] [ext: omni.replicator.core-1.2.0] startup\n",
      "[10.325s] [ext: omni.kit.window.extensions-1.1.0] startup\n",
      "[10.332s] [ext: omni.isaac.core_nodes-0.9.0] startup\n",
      "[10.347s] [ext: omni.isaac.ui-0.2.1] startup\n",
      "[10.350s] [ext: omni.kit.window.script_editor-1.6.2] startup\n",
      "[10.361s] [ext: omni.isaac.wheeled_robots-0.5.4] startup\n",
      "[10.377s] [ext: omni.kit.menu.common-1.0.0] startup\n",
      "[10.379s] [ext: omni.kit.graph.delegate.default-1.0.15] startup\n",
      "[10.382s] [ext: omni.kit.graph.delegate.modern-1.6.0] startup\n",
      "[10.385s] [ext: omni.kit.widget.zoombar-1.0.3] startup\n",
      "[10.387s] [ext: omni.kit.graph.editor.core-1.3.3] startup\n",
      "[10.390s] [ext: omni.kit.widget.stage_icons-1.0.2] startup\n",
      "[10.393s] [ext: omni.kit.browser.core-2.0.12] startup\n",
      "[10.399s] [ext: omni.kit.graph.widget.variables-2.0.2] startup\n",
      "[10.402s] [ext: omni.kit.window.stage-2.3.7] startup\n",
      "[10.406s] [ext: omni.kit.browser.folder.core-1.1.13] startup\n",
      "[10.410s] [ext: omni.graph.window.core-1.22.1] startup\n",
      "[10.419s] [ext: omni.isaac.lula-1.1.0] startup\n",
      "[10.436s] [ext: omni.graph.instancing-1.1.4] startup\n",
      "[10.445s] [ext: omni.graph.window.action-1.3.8] startup\n",
      "[10.447s] [ext: omni.graph.tutorials-1.1.2] startup\n",
      "[10.469s] [ext: omni.rtx.window.settings-0.6.1] startup\n",
      "[10.476s] [ext: omni.isaac.motion_planning-0.2.0] startup\n",
      "[10.487s] [ext: omni.graph.bundle.action-1.0.0] startup\n",
      "[10.487s] [ext: omni.rtx.settings.core-0.5.5] startup\n",
      "[10.494s] [ext: omni.isaac.motion_generation-3.1.2] startup\n",
      "[10.501s] [ext: omni.isaac.kit-0.1.9] startup\n",
      "[10.502s] [ext: omni.isaac.debug_draw-0.1.2] startup\n",
      "[10.511s] [ext: omni.kit.selection-0.1.0] startup\n",
      "[10.512s] [ext: omni.isaac.franka-0.0.0] startup\n",
      "[10.514s] [ext: omni.kit.widget.layers-1.5.17] startup\n",
      "[10.539s] [ext: omni.kit.menu.edit-1.0.6] startup\n",
      "[10.543s] [ext: omni.isaac.isaac_sensor-0.3.4] startup\n",
      "2022-07-21 04:52:45 [10,542ms] [Warning] [omni.physx.plugin] Deprecated: getSimulationEventStream is deprecated, please use getSimulationEventStreamV2\n",
      "[10.557Opening usd file at  omniverse://localhost/Users/yizhou/test_humanoid_sit.usd  ...Done.\n",
      "Saving a temp livesync stage at  omniverse://localhost/Users/yizhou/test_humanoid_sit.usd  ...Done.\n"
     ]
    }
   ],
   "source": [
    "from omni.isaac.kit import SimulationApp\n",
    "\n",
    "simulation_app = SimulationApp({\"headless\": True, \"open_usd\": f\"omniverse://localhost/Users/{user}/test_humanoid_sit.usd\", \n",
    "                                \"livesync_usd\": f\"omniverse://localhost/Users/{user}/test_humanoid_sit.usd\"})\n"
   ]
  },
  {
   "cell_type": "code",
   "execution_count": 5,
   "id": "df5e8e28",
   "metadata": {},
   "outputs": [],
   "source": [
    "import omni\n",
    "from omni.isaac.core import World\n",
    "from pxr import Gf, Sdf, UsdGeom, UsdShade\n",
    "\n",
    "import torch\n",
    "import numpy as np"
   ]
  },
  {
   "cell_type": "code",
   "execution_count": 6,
   "id": "a526dc79",
   "metadata": {},
   "outputs": [],
   "source": [
    "world = World(physics_dt= 1.0 / 60, backend = \"torch\")"
   ]
  },
  {
   "cell_type": "code",
   "execution_count": 7,
   "id": "946bc535",
   "metadata": {},
   "outputs": [],
   "source": [
    "from omni.isaac.core.utils.stage import set_stage_up_axis\n",
    "\n",
    "set_stage_up_axis(\"y\")\n",
    "world.get_physics_context().set_gravity(-9.81)"
   ]
  },
  {
   "cell_type": "code",
   "execution_count": 8,
   "id": "d39ebae0",
   "metadata": {},
   "outputs": [
    {
     "data": {
      "text/plain": [
       "'Y'"
      ]
     },
     "execution_count": 8,
     "metadata": {},
     "output_type": "execute_result"
    }
   ],
   "source": [
    "from omni.isaac.core.utils.stage import get_current_stage\n",
    "UsdGeom.GetStageUpAxis(get_current_stage())"
   ]
  },
  {
   "cell_type": "code",
   "execution_count": 9,
   "id": "04aa76f2",
   "metadata": {},
   "outputs": [
    {
     "data": {
      "text/plain": [
       "Gf.Vec3f(0.0, -1.0, 0.0)"
      ]
     },
     "execution_count": 9,
     "metadata": {},
     "output_type": "execute_result"
    }
   ],
   "source": [
    "world.get_physics_context()._physics_scene.GetGravityDirectionAttr().Get()"
   ]
  },
  {
   "cell_type": "code",
   "execution_count": 10,
   "id": "be5c294e",
   "metadata": {
    "scrolled": true
   },
   "outputs": [],
   "source": [
    "# world.scene.add_default_ground_plane()"
   ]
  },
  {
   "cell_type": "code",
   "execution_count": 11,
   "id": "8cceb442",
   "metadata": {},
   "outputs": [
    {
     "data": {
      "text/plain": [
       "856"
      ]
     },
     "execution_count": 11,
     "metadata": {},
     "output_type": "execute_result"
    }
   ],
   "source": [
    "# get prims\n",
    "len(list(world.scene.stage.TraverseAll()))"
   ]
  },
  {
   "cell_type": "code",
   "execution_count": 12,
   "id": "8f3940b5",
   "metadata": {},
   "outputs": [],
   "source": [
    "world.render()"
   ]
  },
  {
   "cell_type": "code",
   "execution_count": 13,
   "id": "f41cb92a",
   "metadata": {},
   "outputs": [],
   "source": [
    "from rl.robot_env import RobotEnv\n",
    "\n",
    "env = RobotEnv(\"/World/envs/*/humanoid/torso\")"
   ]
  },
  {
   "cell_type": "code",
   "execution_count": 14,
   "id": "4b138557",
   "metadata": {},
   "outputs": [],
   "source": [
    "world.render()"
   ]
  },
  {
   "cell_type": "code",
   "execution_count": 15,
   "id": "b845560e",
   "metadata": {},
   "outputs": [],
   "source": [
    "world.reset()"
   ]
  },
  {
   "cell_type": "code",
   "execution_count": 16,
   "id": "ecae9acc",
   "metadata": {},
   "outputs": [
    {
     "name": "stdout",
     "output_type": "stream",
     "text": [
      "simlation context torch None\n",
      "num_envs 8\n",
      "default joint state tensor([[0., 0., 0., 0., 0., 0., 0., 0., 0., 0., 0., 0., 0., 0., 0., 0., 0., 0., 0., 0., 0.],\n",
      "        [0., 0., 0., 0., 0., 0., 0., 0., 0., 0., 0., 0., 0., 0., 0., 0., 0., 0., 0., 0., 0.],\n",
      "        [0., 0., 0., 0., 0., 0., 0., 0., 0., 0., 0., 0., 0., 0., 0., 0., 0., 0., 0., 0., 0.],\n",
      "        [0., 0., 0., 0., 0., 0., 0., 0., 0., 0., 0., 0., 0., 0., 0., 0., 0., 0., 0., 0., 0.],\n",
      "        [0., 0., 0., 0., 0., 0., 0., 0., 0., 0., 0., 0., 0., 0., 0., 0., 0., 0., 0., 0., 0.],\n",
      "        [0., 0., 0., 0., 0., 0., 0., 0., 0., 0., 0., 0., 0., 0., 0., 0., 0., 0., 0., 0., 0.],\n",
      "        [0., 0., 0., 0., 0., 0., 0., 0., 0., 0., 0., 0., 0., 0., 0., 0., 0., 0., 0., 0., 0.],\n",
      "        [0., 0., 0., 0., 0., 0., 0., 0., 0., 0., 0., 0., 0., 0., 0., 0., 0., 0., 0., 0., 0.]]) tensor([[0., 0., 0., 0., 0., 0., 0., 0., 0., 0., 0., 0., 0., 0., 0., 0., 0., 0., 0., 0., 0.],\n",
      "        [0., 0., 0., 0., 0., 0., 0., 0., 0., 0., 0., 0., 0., 0., 0., 0., 0., 0., 0., 0., 0.],\n",
      "        [0., 0., 0., 0., 0., 0., 0., 0., 0., 0., 0., 0., 0., 0., 0., 0., 0., 0., 0., 0., 0.],\n",
      "        [0., 0., 0., 0., 0., 0., 0., 0., 0., 0., 0., 0., 0., 0., 0., 0., 0., 0., 0., 0., 0.],\n",
      "        [0., 0., 0., 0., 0., 0., 0., 0., 0., 0., 0., 0., 0., 0., 0., 0., 0., 0., 0., 0., 0.],\n",
      "        [0., 0., 0., 0., 0., 0., 0., 0., 0., 0., 0., 0., 0., 0., 0., 0., 0., 0., 0., 0., 0.],\n",
      "        [0., 0., 0., 0., 0., 0., 0., 0., 0., 0., 0., 0., 0., 0., 0., 0., 0., 0., 0., 0., 0.],\n",
      "        [0., 0., 0., 0., 0., 0., 0., 0., 0., 0., 0., 0., 0., 0., 0., 0., 0., 0., 0., 0., 0.]]) tensor([[0., 0., 0., 0., 0., 0., 0., 0., 0., 0., 0., 0., 0., 0., 0., 0., 0., 0., 0., 0., 0.],\n",
      "        [0., 0., 0., 0., 0., 0., 0., 0., 0., 0., 0., 0., 0., 0., 0., 0., 0., 0., 0., 0., 0.],\n",
      "        [0., 0., 0., 0., 0., 0., 0., 0., 0., 0., 0., 0., 0., 0., 0., 0., 0., 0., 0., 0., 0.],\n",
      "        [0., 0., 0., 0., 0., 0., 0., 0., 0., 0., 0., 0., 0., 0., 0., 0., 0., 0., 0., 0., 0.],\n",
      "        [0., 0., 0., 0., 0., 0., 0., 0., 0., 0., 0., 0., 0., 0., 0., 0., 0., 0., 0., 0., 0.],\n",
      "        [0., 0., 0., 0., 0., 0., 0., 0., 0., 0., 0., 0., 0., 0., 0., 0., 0., 0., 0., 0., 0.],\n",
      "        [0., 0., 0., 0., 0., 0., 0., 0., 0., 0., 0., 0., 0., 0., 0., 0., 0., 0., 0., 0., 0.],\n",
      "        [0., 0., 0., 0., 0., 0., 0., 0., 0., 0., 0., 0., 0., 0., 0., 0., 0., 0., 0., 0., 0.]])\n"
     ]
    }
   ],
   "source": [
    "env.start()"
   ]
  },
  {
   "cell_type": "code",
   "execution_count": 17,
   "id": "59de5019",
   "metadata": {},
   "outputs": [
    {
     "data": {
      "text/plain": [
       "<omni.isaac.core.robots.robot_view.RobotView at 0x7f12f813dc90>"
      ]
     },
     "execution_count": 17,
     "metadata": {},
     "output_type": "execute_result"
    }
   ],
   "source": [
    "world.scene.add(env.robots)"
   ]
  },
  {
   "cell_type": "code",
   "execution_count": 18,
   "id": "c4ae521b",
   "metadata": {},
   "outputs": [],
   "source": [
    "total_step = 0"
   ]
  },
  {
   "cell_type": "code",
   "execution_count": 19,
   "id": "42c0d2ed",
   "metadata": {},
   "outputs": [],
   "source": [
    "# step\n",
    "def step(env, trainer, warm_up_steps = 2000):\n",
    "    # action shape\n",
    "    action_shape = env.action_shape\n",
    "    \n",
    "    # env step\n",
    "    env.progress_buf += 1\n",
    "    if total_step < warm_up_steps or np.random.rand() < 1000 / total_step:\n",
    "        actions =  (2 * torch.rand(action_shape) - 1) / 10\n",
    "    elif np.random.rand() < 1000 / total_step:\n",
    "        actions =  (2 * torch.rand(action_shape) - 1)\n",
    "    else:\n",
    "        actions =  trainer.sample_action(current_obs.to(trainer.device))\n",
    "        \n",
    "    env.robots.set_joint_efforts(efforts = actions * env.motor_efforts)\n",
    "    \n",
    "    return actions"
   ]
  },
  {
   "cell_type": "code",
   "execution_count": 20,
   "id": "4ce607b1",
   "metadata": {},
   "outputs": [],
   "source": [
    "# observation\n",
    "def get_obs(env):\n",
    "    \"\"\"\n",
    "    Get robot states\n",
    "    \"\"\"\n",
    "    \n",
    "    # root position\n",
    "    torso_position, torso_rotation  = env.robots.get_world_poses()\n",
    "    torso_local_position = torso_position - torch.tensor([[2.0 * (j % 4), 0.0 , 2.0 * (j // 4)] for j in range(env.num_envs)])\n",
    "\n",
    "    index = torch.LongTensor([1, 2, 3, 0])\n",
    "    torso_rotation = torch.index_select(torso_rotation, 1, index) # WXYZ -> XYZW\n",
    "    \n",
    "    up_vec = quat_rotate(torso_rotation, torch.tensor([0.0, 0.0, 1.0]).repeat((env.num_envs, 1)))[...,[1]]\n",
    "    forward_vec = quat_rotate(torso_rotation, torch.tensor([1.0, 0.0, 0.0]).repeat((env.num_envs, 1)))[...,[2]]\n",
    "    \n",
    "    # root velocity\n",
    "    root_velocity = env.robots.get_velocities()\n",
    "    velocity = root_velocity[:, 0:3]\n",
    "    ang_velocity = env.angular_velocity_scale * root_velocity[:, 3:] # scaled\n",
    "    \n",
    "    # joint position and velocity\n",
    "    dof_pos = (2 * env.robots.get_joint_positions() - env.joint_upper_limit - env.joint_lower_limit) / (env.joint_upper_limit - env.joint_lower_limit) # scale to [-1, 1]\n",
    "    dof_vel = env.robots.get_joint_velocities() * env.dof_vel_scale # scaled\n",
    "    \n",
    "    # get obs\n",
    "    obs = torch.cat([up_vec, forward_vec, torso_local_position, torso_rotation, velocity, ang_velocity, dof_pos, dof_vel], dim = 1)\n",
    "    \n",
    "    return obs"
   ]
  },
  {
   "cell_type": "code",
   "execution_count": 21,
   "id": "833d57ed",
   "metadata": {},
   "outputs": [
    {
     "data": {
      "text/plain": [
       "torch.Size([8, 57])"
      ]
     },
     "execution_count": 21,
     "metadata": {},
     "output_type": "execute_result"
    }
   ],
   "source": [
    "get_obs(env).shape"
   ]
  },
  {
   "cell_type": "code",
   "execution_count": 22,
   "id": "95b04955",
   "metadata": {},
   "outputs": [],
   "source": [
    "dof_pos = (2 * env.robots.get_joint_positions() - env.joint_upper_limit - env.joint_lower_limit) / (env.joint_upper_limit - env.joint_lower_limit) # scale to [-1, 1]"
   ]
  },
  {
   "cell_type": "code",
   "execution_count": 23,
   "id": "3eaac858",
   "metadata": {
    "scrolled": true
   },
   "outputs": [],
   "source": [
    "sit_position_target = torch.tensor([-0.1300, -1.3069,  0.1894,  0.1213,  0.0355,  0.1059,  0.2064, -0.7359,\n",
    "        -0.7594,  0.0979, -0.7716,  0.0067, -0.0837, -0.7800, -0.0659, -0.8800,\n",
    "        -0.9257,  0.2923,  0.0162,  0.2884, -0.0267]).repeat(env.num_envs, 1)"
   ]
  },
  {
   "cell_type": "code",
   "execution_count": 24,
   "id": "659c615a",
   "metadata": {},
   "outputs": [],
   "source": [
    "# sit_position_target"
   ]
  },
  {
   "cell_type": "code",
   "execution_count": 25,
   "id": "3048b79b",
   "metadata": {},
   "outputs": [],
   "source": [
    "# init root dist\n",
    "torso_position, torso_rotation  = env.robots.get_world_poses()\n",
    "torso_local_position = torso_position - torch.tensor([[2.0 * (j % 4), 0.0 , 2.0 * (j // 4)] for j in range(env.num_envs)])\n",
    "target_local_position = torch.tensor([0.0, 0.9, -0.4]).repeat(env.num_envs, 1)\n",
    "\n",
    "\n",
    "root_dist = torch.sum((torso_local_position - target_local_position)**2, dim = 1)\n",
    "\n",
    "env.last_root_dist = root_dist"
   ]
  },
  {
   "cell_type": "code",
   "execution_count": 26,
   "id": "9cf8e555",
   "metadata": {},
   "outputs": [
    {
     "data": {
      "text/plain": [
       "tensor([0.2910, 0.2910, 0.2910, 0.2910, 0.2910, 0.2910, 0.2910, 0.2910])"
      ]
     },
     "execution_count": 26,
     "metadata": {},
     "output_type": "execute_result"
    }
   ],
   "source": [
    "env.last_root_dist"
   ]
  },
  {
   "cell_type": "code",
   "execution_count": 27,
   "id": "0df63121",
   "metadata": {},
   "outputs": [],
   "source": [
    "# debug\n",
    "# env.last_root_dist  = 0"
   ]
  },
  {
   "cell_type": "code",
   "execution_count": 28,
   "id": "2ff6f74b",
   "metadata": {},
   "outputs": [
    {
     "data": {
      "text/plain": [
       "tensor([[ 0.0979, -0.7716,  0.0067, -0.0837, -0.7800, -0.0659, -0.8800, -0.9257,\n",
       "          0.2923,  0.0162,  0.2884, -0.0267],\n",
       "        [ 0.0979, -0.7716,  0.0067, -0.0837, -0.7800, -0.0659, -0.8800, -0.9257,\n",
       "          0.2923,  0.0162,  0.2884, -0.0267],\n",
       "        [ 0.0979, -0.7716,  0.0067, -0.0837, -0.7800, -0.0659, -0.8800, -0.9257,\n",
       "          0.2923,  0.0162,  0.2884, -0.0267],\n",
       "        [ 0.0979, -0.7716,  0.0067, -0.0837, -0.7800, -0.0659, -0.8800, -0.9257,\n",
       "          0.2923,  0.0162,  0.2884, -0.0267],\n",
       "        [ 0.0979, -0.7716,  0.0067, -0.0837, -0.7800, -0.0659, -0.8800, -0.9257,\n",
       "          0.2923,  0.0162,  0.2884, -0.0267],\n",
       "        [ 0.0979, -0.7716,  0.0067, -0.0837, -0.7800, -0.0659, -0.8800, -0.9257,\n",
       "          0.2923,  0.0162,  0.2884, -0.0267],\n",
       "        [ 0.0979, -0.7716,  0.0067, -0.0837, -0.7800, -0.0659, -0.8800, -0.9257,\n",
       "          0.2923,  0.0162,  0.2884, -0.0267],\n",
       "        [ 0.0979, -0.7716,  0.0067, -0.0837, -0.7800, -0.0659, -0.8800, -0.9257,\n",
       "          0.2923,  0.0162,  0.2884, -0.0267]])"
      ]
     },
     "execution_count": 28,
     "metadata": {},
     "output_type": "execute_result"
    }
   ],
   "source": [
    "sit_position_target[...,9:]"
   ]
  },
  {
   "cell_type": "code",
   "execution_count": 29,
   "id": "9247102a",
   "metadata": {},
   "outputs": [],
   "source": [
    "def get_reward_done(env, verbose = False):\n",
    "    # root position\n",
    "    torso_position, torso_rotation  = env.robots.get_world_poses()\n",
    "    index = torch.LongTensor([1, 2, 3, 0])\n",
    "    torso_rotation = torch.index_select(torso_rotation, 1, index) # WXYZ -> XYZW\n",
    "    \n",
    "    # get reward \n",
    "    torso_local_position = torso_position - torch.tensor([[2.0 * (j % 4), 0.0 , 2.0 * (j // 4)] for j in range(env.num_envs)])\n",
    "    target_local_position = torch.tensor([0.0, 0.8, -0.5]).repeat(env.num_envs, 1)\n",
    "    \n",
    "    root_dist = torch.sum((torso_local_position - target_local_position)**2, dim = 1)\n",
    "    up_vec = quat_rotate(torso_rotation, torch.tensor([0.0, 0.0, 1.0]).repeat((env.num_envs, 1)))[...,[1]].view(-1)\n",
    "    \n",
    "    joint_positions = env.robots.get_joint_positions() \n",
    "    joint_dist = torch.sum((joint_positions - sit_position_target)**2 / \\\n",
    "                           (env.joint_upper_limit - env.joint_lower_limit)**2\n",
    "                           , dim = 1)\n",
    "    \n",
    "    root_velocity = torch.sum(env.robots.get_velocities()[...,:3]**2, dim = 1)\n",
    "    \n",
    "    # reward = torch.exp(-joint_dist) * up_vec  * torch.exp(- root_dist) * torch.exp(-root_velocity) \n",
    "    reward = torch.exp(-root_dist * 2) * torch.exp(-joint_dist) # * torch.exp(-root_velocity) \n",
    "\n",
    "    \n",
    "    if verbose:\n",
    "        print(\"reward\", reward.tolist(), \"; root_velocity: \", root_velocity.tolist(), \"; joint_dist: \", joint_dist.tolist(), \\\n",
    "             \"; root_dist: \", root_dist.tolist(), \"; up_vec:\", up_vec.tolist())\n",
    "    \n",
    "    # get done\n",
    "    done = torch.where(torso_position[...,1] < 0.6, 1.0, 0.0)\n",
    "    done = torch.where(env.progress_buf > 300, torch.ones(done.shape[0]), done)\n",
    "    \n",
    "    reward = torch.where(torso_position[...,1] < 0.7, -1.0, reward.double()).float()\n",
    "    # done = torch.where(env.progress_buf > 300, 1.0, 0.0)\n",
    "    \n",
    "    \n",
    "    \n",
    "    return reward, done"
   ]
  },
  {
   "cell_type": "code",
   "execution_count": 30,
   "id": "8a77fc34",
   "metadata": {
    "scrolled": false
   },
   "outputs": [
    {
     "name": "stdout",
     "output_type": "stream",
     "text": [
      "reward [0.1264093965291977, 0.12640942633152008, 0.12641264498233795, 0.1264093518257141, 0.12640909850597382, 0.1264084428548813, 0.12641331553459167, 0.12641021609306335] ; root_velocity:  [0.005010411608964205, 0.005008046515285969, 0.004997488111257553, 0.005019723903387785, 0.005025562830269337, 0.004997221287339926, 0.005026194266974926, 0.00502060679718852] ; joint_dist:  [1.1415057182312012, 1.1415084600448608, 1.141480565071106, 1.1415098905563354, 1.1415107250213623, 1.1415139436721802, 1.1414793729782104, 1.1415038108825684] ; root_dist:  [0.4633618891239166, 0.46336036920547485, 0.46336159110069275, 0.4633600115776062, 0.4633605480194092, 0.4633615016937256, 0.4633595943450928, 0.4633595943450928] ; up_vec: [0.9993165135383606, 0.9993165731430054, 0.9993168115615845, 0.9993167519569397, 0.9993163347244263, 0.9993165731430054, 0.9993165731430054, 0.9993164539337158]\n"
     ]
    },
    {
     "data": {
      "text/plain": [
       "(tensor([0.1264, 0.1264, 0.1264, 0.1264, 0.1264, 0.1264, 0.1264, 0.1264]),\n",
       " tensor([0., 0., 0., 0., 0., 0., 0., 0.]))"
      ]
     },
     "execution_count": 30,
     "metadata": {},
     "output_type": "execute_result"
    }
   ],
   "source": [
    "get_reward_done(env, True)"
   ]
  },
  {
   "cell_type": "code",
   "execution_count": 31,
   "id": "1258578d",
   "metadata": {},
   "outputs": [],
   "source": [
    "# need to reset\n",
    "def reset(done):\n",
    "    if torch.sum(done) >= 1:\n",
    "        env_ids = []\n",
    "        for i in range(len(done)):\n",
    "            if done[i] > 0:\n",
    "                env_ids.append(i)\n",
    "        # print(\"reset: \", env_ids)\n",
    "        env.reset_idx(env_ids)"
   ]
  },
  {
   "cell_type": "code",
   "execution_count": 32,
   "id": "821d856c",
   "metadata": {},
   "outputs": [],
   "source": [
    "trainer = Trainer(57, 21, use_tensorboard=True)"
   ]
  },
  {
   "cell_type": "code",
   "execution_count": 33,
   "id": "a76887c7",
   "metadata": {},
   "outputs": [],
   "source": [
    "trainer.add_env(env)"
   ]
  },
  {
   "cell_type": "code",
   "execution_count": 34,
   "id": "9e380958",
   "metadata": {},
   "outputs": [],
   "source": [
    "# trainer.policy.load_state_dict(torch.load(\"/home/yizhou/Research/Data/720_stand_latest.pth\"))"
   ]
  },
  {
   "cell_type": "code",
   "execution_count": 35,
   "id": "137ed4a1",
   "metadata": {},
   "outputs": [],
   "source": [
    "total_step = 0 # reset "
   ]
  },
  {
   "cell_type": "code",
   "execution_count": null,
   "id": "fd97fcc7",
   "metadata": {
    "scrolled": true
   },
   "outputs": [
    {
     "name": "stdout",
     "output_type": "stream",
     "text": [
      "9 reward 0.04883845895528793 0.46894288063049316\n",
      "9 max Obs tensor(2.1577) tensor(1.8839)\n",
      "1009 reward -0.29572466015815735 0.20444411039352417\n",
      "1009 max Obs tensor(1.2612) tensor(1.2609)\n",
      "s] [ext: omni.kit.widget.live-0.1.0] startup\n",
      "[10.567s] [ext: omni.isaac.surface_gripper-0.1.2] startup\n",
      "[10.578s] [ext: omni.kit.property.layer-1.1.2] startup\n",
      "[10.582s] [ext: omni.isaac.range_sensor-0.4.2] startup\n",
      "[10.617s] [ext: omni.graph.window.generic-1.3.8] startup\n",
      "[10.619s] [ext: omni.isaac.utils-0.1.11] startup\n",
      "[10.625s] [ext: omni.isaac.universal_robots-0.2.1] startup\n",
      "[10.627s] [ext: omni.kit.property.audio-1.0.5] startup\n",
      "[10.629s] [ext: omni.kit.property.skel-1.0.1] startup\n",
      "[10.632s] [ext: omni.kit.property.render-1.1.0] startup\n",
      "[10.634s] [ext: omni.kit.property.camera-1.0.3] startup\n",
      "[10.635s] [ext: omni.kit.property.geometry-1.2.0] startup\n",
      "[10.638s] [ext: omni.kit.property.light-1.0.5] startup\n",
      "[10.641s] [ext: omni.kit.property.transform-1.0.2] startup\n",
      "[10.645s] [ext: omni.isaac.occupancy_map-0.2.4] startup\n",
      "[10.664s] [ext: omni.ui.scene-1.4.6] startup\n",
      "[10.673s] [ext: omni.kit.window.console-0.2.0] startup\n",
      "[10.681s] [ext: omni.kit.window.status_bar-0.1.1] startup\n",
      "[10.688s] [ext: omni.kit.property.bundle-1.2.4] startup\n",
      "[10.690s] [ext: omni.kit.menu.file-1.0.8] startup\n",
      "[10.692s] [ext: omni.kit.manipulator.viewport-1.0.6] startup\n",
      "[10.695s] [ext: omni.isaac.urdf-0.2.2] startup\n",
      "[10.731s] [ext: omni.isaac.dofbot-0.2.0] startup\n",
      "[10.733s] [ext: omni.kit.window.title-1.1.1] startup\n",
      "[10.734s] [ext: omni.kit.profiler.window-1.4.4] startup\n",
      "[10.739s] [ext: omni.graph.visualization.nodes-1.1.1] startup\n",
      "[10.744s] [ext: omni.isaac.synthetic_utils-0.2.1] startup\n",
      "[10.757s] [ext: semantics.schema.editor-0.2.2] startup\n",
      "[10.762s] [ext: omni.isaac.sim.python-2022.1.0] startup\n",
      "[10.763s] Simulation App Starting\n",
      "2022-07-21 04:52:45 [10,791ms] [Warning] [omni.client.plugin]  Tick: authentication: Discovery(ws://localhost/omni/discovery): Error creating Auth/Credentials search: Not connected\n",
      "2022-07-21 04:52:45 [10,791ms] [Warning] [omni.client.plugin]  Tick: authentication: Discovery(ws://localhost/omni/discovery): Error creating Auth/Tokens search: Not connected\n",
      "2022-07-21 04:52:45 [10,791ms] [Warning] [omni.client.plugin]  Tick: authentication: Discovery(ws://localhost/omni/discovery): Error creating Api/Connection search: Not connected\n",
      "2022-07-21 04:52:46 [11,517ms] [Warning] [omni.usd] Default value for render setting \"/rtx/shaderDb/cachePermutationIndex\" not found\n",
      "2022-07-21 04:52:46 [11,517ms] [Warning] [omni.usd] Default value for render setting \"/rtx/resourcemanager/uploadPooledBuffers/framesToEvict\" not found\n",
      "2022-07-21 04:52:46 [11,517ms] [Warning] [omni.usd] Default value for render setting \"/rtx/resourcemanager/uploadPooledBuffers/uploadSize\" not found\n",
      "2022-07-21 04:52:46 [11,517ms] [Warning] [omni.usd] Default value for render setting \"/rtx/pathtracing/nrc/canRun\" not found\n",
      "[18.054s] app ready\n",
      "[18.217s] Simulation App Startup Complete\n",
      "2022-07-21 04:53:01 [26,478ms] [Warning] [carb.flatcache.plugin] Type tag does not have a corresponding USD type\n",
      "2009 reward -0.19629836082458496 2.3324482440948486\n",
      "2009 max Obs tensor(1.6957) tensor(1.6917)\n",
      "3009 reward 0.07036308944225311 1.4090543985366821\n",
      "3009 max Obs tensor(1.2572) tensor(1.2468)\n",
      "4009 reward 0.04926329106092453 1.8121137619018555\n",
      "4009 max Obs tensor(1.5280) tensor(1.4750)\n",
      "5009 reward 0.018245123326778412 1.0787006616592407\n",
      "5009 max Obs tensor(1.3701) tensor(1.4445)\n",
      "6009 reward 0.0061811464838683605 1.5317599773406982\n",
      "6009 max Obs tensor(1.7066) tensor(1.6968)\n",
      "7009 reward 0.019147291779518127 1.0989326238632202\n",
      "7009 max Obs tensor(1.6782) tensor(1.6621)\n",
      "8009 reward -0.11955764889717102 1.060193419456482\n",
      "8009 max Obs tensor(2.6059) tensor(1.2448)\n",
      "9009 reward -0.07334020733833313 1.6047605276107788\n",
      "9009 max Obs tensor(2.1353) tensor(2.1273)\n",
      "10009 reward 0.04938329756259918 1.9359667301177979\n",
      "10009 max Obs tensor(1.3916) tensor(1.6224)\n",
      "11009 reward -0.09133774042129517 0.8902310132980347\n",
      "11009 max Obs tensor(1.2679) tensor(2.4783)\n",
      "12009 reward -0.09666285663843155 1.2769666910171509\n",
      "12009 max Obs tensor(1.1773) tensor(1.2678)\n",
      "13009 reward -0.10609747469425201 0.7668307423591614\n",
      "13009 max Obs tensor(2.1319) tensor(1.8459)\n",
      "14009 reward 0.052166637033224106 -8.088911056518555\n",
      "14009 max Obs tensor(1.2058) tensor(1.2688)\n",
      "15009 reward 0.0470237135887146 2.6870691776275635\n",
      "15009 max Obs tensor(1.2982) tensor(1.2073)\n",
      "16009 reward -0.055812910199165344 4.339059352874756\n",
      "16009 max Obs tensor(1.1135) tensor(1.2138)\n"
     ]
    }
   ],
   "source": [
    "for i in range(30000):\n",
    "    total_step += 1\n",
    "    \n",
    "    # step\n",
    "    current_obs = get_obs(env).clone()\n",
    "    actions = step(env,trainer=trainer) # HAS TRAINER\n",
    "    world.step(render=False)\n",
    "    \n",
    "    # continue\n",
    "\n",
    "    # get obs\n",
    "    new_obs = get_obs(env).clone()\n",
    "    \n",
    "    # get reward done\n",
    "    reward, done = get_reward_done(env)\n",
    "    env.reward_buf += reward\n",
    "    # print(total_step, \"reward, done\", done)\n",
    "    \n",
    "    # reset\n",
    "    reset(done)\n",
    "    \n",
    "    ## another step (controll frequency 1/30)\n",
    "    # world.step(render=False)\n",
    "    \n",
    "    # buffer\n",
    "    trainer.buf.add_batch(current_obs, actions, new_obs, reward, done)\n",
    "    # print(total_step, \"current_obs, actions, new_obs, reward, done \\n\\n\", current_obs, actions, new_obs, reward, done)\n",
    "    \n",
    "\n",
    "    # debug\n",
    "    if total_step % 1000 == 9:\n",
    "        # env.reset_idx([0,1,2])\n",
    "        print(total_step, \"reward\", torch.mean(reward).tolist(), torch.mean(env.reward_buf).tolist())\n",
    "        print(total_step, \"max Obs\", torch.max(current_obs), torch.max(new_obs))\n",
    "        world.render()\n",
    "    \n",
    "    # train\n",
    "    if total_step > 2000:\n",
    "        trainer.train(batch_size = 16)\n",
    "        \n",
    "        if total_step % 100 == 0:\n",
    "            trainer.write_summary()\n",
    "        \n",
    "        if total_step % 10000 == 0:\n",
    "            torch.save(trainer.policy.state_dict(), \"/home/yizhou/Research/Data/720_sit_latest.pth\")\n",
    "    \n",
    "    "
   ]
  },
  {
   "cell_type": "code",
   "execution_count": null,
   "id": "e6584ef0",
   "metadata": {},
   "outputs": [],
   "source": [
    "world._physics_context.is_gpu_dynamics_enabled()"
   ]
  },
  {
   "cell_type": "code",
   "execution_count": null,
   "id": "95de461e",
   "metadata": {},
   "outputs": [],
   "source": [
    "world.step(render=True)"
   ]
  },
  {
   "cell_type": "code",
   "execution_count": null,
   "id": "52c61c3e",
   "metadata": {},
   "outputs": [],
   "source": [
    "world.render()"
   ]
  },
  {
   "cell_type": "code",
   "execution_count": 24,
   "id": "3aef5f1d",
   "metadata": {},
   "outputs": [],
   "source": [
    "world.reset()\n",
    "env.reset_idx([_ for _ in range(8)])"
   ]
  },
  {
   "cell_type": "code",
   "execution_count": 76,
   "id": "ac16912a",
   "metadata": {},
   "outputs": [],
   "source": [
    "env.reward_buf[[_ for _ in range(8)]] = 0"
   ]
  },
  {
   "cell_type": "code",
   "execution_count": 77,
   "id": "6361a1c1",
   "metadata": {},
   "outputs": [],
   "source": [
    "# torch.save(trainer.policy.state_dict(), \"/home/yizhou/Research/Data/718.pth\")"
   ]
  },
  {
   "cell_type": "code",
   "execution_count": 79,
   "id": "0acf093d",
   "metadata": {},
   "outputs": [],
   "source": [
    "# test\n",
    "for i in range(100):\n",
    "    total_step += 1\n",
    "    \n",
    "    # step\n",
    "    current_obs = get_obs(env).clone()\n",
    "    actions, _, _, _  = trainer.policy.actor(current_obs.to(trainer.device), compute_pi=False, compute_log_pi=False)\n",
    "    # env.robots.set_joint_efforts(efforts = actions.cpu().data * env.motor_efforts)\n",
    "    reward, done = get_reward_done(env, verbose=False)\n",
    "    env.reward_buf += reward\n",
    "    \n",
    "    world.step(render=True)"
   ]
  },
  {
   "cell_type": "code",
   "execution_count": null,
   "id": "577b6205",
   "metadata": {},
   "outputs": [],
   "source": [
    "print(total_step, \"reward\", torch.mean(reward).tolist(), env.reward_buf.tolist())"
   ]
  },
  {
   "cell_type": "code",
   "execution_count": 80,
   "id": "d305b6e1",
   "metadata": {},
   "outputs": [],
   "source": [
    "world.reset()"
   ]
  },
  {
   "cell_type": "code",
   "execution_count": null,
   "id": "fbd9154d",
   "metadata": {},
   "outputs": [],
   "source": [
    "# trainer.policy.actor(current_obs.cuda())"
   ]
  },
  {
   "cell_type": "markdown",
   "id": "4e582522",
   "metadata": {},
   "source": [
    "# Debug"
   ]
  },
  {
   "cell_type": "code",
   "execution_count": null,
   "id": "69523d01",
   "metadata": {},
   "outputs": [],
   "source": [
    "world.reset()"
   ]
  },
  {
   "cell_type": "code",
   "execution_count": null,
   "id": "2823d06d",
   "metadata": {},
   "outputs": [],
   "source": [
    "for debug in range(30):\n",
    "    action_shape = env.action_shape\n",
    "    \n",
    "    # if debug % 10 == 0:\n",
    "    actions =  2 * torch.rand(action_shape) - 1\n",
    "\n",
    "    # env.robots.set_joint_efforts(efforts = actions *  env.motor_efforts) #.repeat(8, 1)\n",
    "    # env.robots.set_joint_velocity_targets(actions * 1)\n",
    "\n",
    "    world.step(render=True)"
   ]
  },
  {
   "cell_type": "code",
   "execution_count": null,
   "id": "bd1f0d93",
   "metadata": {
    "scrolled": true
   },
   "outputs": [],
   "source": [
    "env.reset_idx([1])\n",
    "# env.reset()\n",
    "# world.step(render=True)"
   ]
  },
  {
   "cell_type": "code",
   "execution_count": null,
   "id": "bcec2e01",
   "metadata": {},
   "outputs": [],
   "source": [
    "world.step(render=True)"
   ]
  },
  {
   "cell_type": "code",
   "execution_count": null,
   "id": "73c6bc80",
   "metadata": {},
   "outputs": [],
   "source": [
    "get_obs(env)[1]"
   ]
  },
  {
   "cell_type": "code",
   "execution_count": null,
   "id": "dd412ddd",
   "metadata": {},
   "outputs": [],
   "source": [
    "\n",
    "torso_position, torso_rotation  = env.robots.get_world_poses()\n",
    "torso_local_position = torso_position - torch.tensor([[2.0 * (j % 4), 0.0 , 2.0 * (j // 4)] for j in range(env.num_envs)])\n",
    "\n",
    "index = torch.LongTensor([1, 2, 3, 0])\n",
    "torso_rotation = torch.index_select(torso_rotation, 1, index) # WXYZ -> XYZW\n",
    "\n",
    "up_vec = quat_rotate(torso_rotation, torch.tensor([0.0, 0.0, 1.0]).repeat((env.num_envs, 1)))[...,[1]]\n",
    "forward_vec = quat_rotate(torso_rotation, torch.tensor([1.0, 0.0, 0.0]).repeat((env.num_envs, 1)))[...,[2]]\n",
    "\n",
    "# root velocity\n",
    "root_velocity = env.robots.get_velocities()\n",
    "velocity = root_velocity[:, 0:3]\n",
    "ang_velocity = env.angular_velocity_scale * root_velocity[:, 3:] # scaled\n",
    "\n",
    "# joint position and velocity\n",
    "dof_pos = (2 * env.robots.get_joint_positions() - env.joint_upper_limit - env.joint_lower_limit) / (env.joint_upper_limit - env.joint_lower_limit) # scale to [-1, 1]\n",
    "dof_vel = env.robots.get_joint_velocities() * env.dof_vel_scale # scaled\n",
    "\n",
    "# get obs\n",
    "obs = torch.cat([up_vec, forward_vec, torso_local_position, torso_rotation, velocity, ang_velocity, dof_pos, dof_vel], dim = 1)\n"
   ]
  },
  {
   "cell_type": "code",
   "execution_count": null,
   "id": "b08b0f74",
   "metadata": {},
   "outputs": [],
   "source": [
    "torso_local_position[1]"
   ]
  },
  {
   "cell_type": "code",
   "execution_count": null,
   "id": "6116a378",
   "metadata": {},
   "outputs": [],
   "source": [
    "torso_rotation[1]"
   ]
  },
  {
   "cell_type": "code",
   "execution_count": null,
   "id": "5f6f37d3",
   "metadata": {},
   "outputs": [],
   "source": [
    "velocity[1]"
   ]
  },
  {
   "cell_type": "code",
   "execution_count": null,
   "id": "ec93a86a",
   "metadata": {},
   "outputs": [],
   "source": [
    "ang_velocity[1]"
   ]
  },
  {
   "cell_type": "code",
   "execution_count": null,
   "id": "2ccbb6e6",
   "metadata": {},
   "outputs": [],
   "source": [
    "env.robots.get_joint_positions()[1]"
   ]
  },
  {
   "cell_type": "code",
   "execution_count": null,
   "id": "7c0c1b15",
   "metadata": {},
   "outputs": [],
   "source": [
    "dof_vel[1]"
   ]
  },
  {
   "cell_type": "code",
   "execution_count": null,
   "id": "475f4a9f",
   "metadata": {},
   "outputs": [],
   "source": [
    "env.robots._physics_view.get_root_velocities()[1]"
   ]
  },
  {
   "cell_type": "code",
   "execution_count": null,
   "id": "9de779f5",
   "metadata": {},
   "outputs": [],
   "source": [
    "# env.robots._default_state"
   ]
  },
  {
   "cell_type": "code",
   "execution_count": null,
   "id": "75c9f86e",
   "metadata": {},
   "outputs": [],
   "source": [
    "dof_pos[1]"
   ]
  },
  {
   "cell_type": "code",
   "execution_count": null,
   "id": "252e1346",
   "metadata": {},
   "outputs": [],
   "source": [
    "torso_local_position"
   ]
  },
  {
   "cell_type": "code",
   "execution_count": null,
   "id": "fa60c3ff",
   "metadata": {},
   "outputs": [],
   "source": [
    "# root position\n",
    "torso_position, torso_rotation  = env.robots.get_world_poses()\n",
    "index = torch.LongTensor([1, 2, 3, 0])\n",
    "torso_rotation = torch.index_select(torso_rotation, 1, index) # WXYZ -> XYZW\n",
    "\n",
    "# get reward \n",
    "torso_local_position = torso_position - torch.tensor([[2.0 * (j % 4), 0.0 , 2.0 * (j // 4)] for j in range(env.num_envs)])\n",
    "target_local_position = torch.tensor([0.0, 0.9, -0.4]).repeat(env.num_envs, 1)\n",
    "\n",
    "root_dist = torch.sum((torso_local_position - target_local_position)**2, dim = 1)\n",
    "up_vec = quat_rotate(torso_rotation, torch.tensor([0.0, 0.0, 1.0]).repeat((env.num_envs, 1)))[...,[1]].view(-1)\n",
    "\n",
    "joint_positions = env.robots.get_joint_positions() \n",
    "joint_dist = torch.sum((joint_positions - sit_position_target)**2 / (env.joint_upper_limit - env.joint_lower_limit)**2, \\\n",
    "                       dim = 1)\n",
    "\n",
    "root_velocity = torch.sum(env.robots.get_velocities()[...,:3]**2, dim = 1)\n",
    "\n",
    "# reward = torch.exp(-joint_dist) * up_vec  * torch.exp(-root_dist) * torch.exp(-root_velocity) \n",
    "reward = up_vec  * torch.exp(-root_dist * 5) * torch.exp(-joint_dist)\n"
   ]
  },
  {
   "cell_type": "code",
   "execution_count": null,
   "id": "d0f4b150",
   "metadata": {},
   "outputs": [],
   "source": [
    "get_reward_done(env, True)"
   ]
  },
  {
   "cell_type": "code",
   "execution_count": null,
   "id": "56b039b9",
   "metadata": {
    "scrolled": true
   },
   "outputs": [],
   "source": [
    "joint_positions- sit_position_target"
   ]
  },
  {
   "cell_type": "code",
   "execution_count": null,
   "id": "56b00cda",
   "metadata": {},
   "outputs": [],
   "source": [
    "sit_position_target"
   ]
  },
  {
   "cell_type": "code",
   "execution_count": null,
   "id": "f792f6a1",
   "metadata": {},
   "outputs": [],
   "source": [
    "env.robots.get_joint_positions()[0]"
   ]
  },
  {
   "cell_type": "code",
   "execution_count": null,
   "id": "86ba9188",
   "metadata": {},
   "outputs": [],
   "source": [
    "sit_position_target[0]"
   ]
  },
  {
   "cell_type": "code",
   "execution_count": null,
   "id": "f2f246d2",
   "metadata": {},
   "outputs": [],
   "source": []
  }
 ],
 "metadata": {
  "kernelspec": {
   "display_name": "Isaac Sim Python 3",
   "language": "python",
   "name": "isaac_sim_python3"
  },
  "language_info": {
   "codemirror_mode": {
    "name": "ipython",
    "version": 3
   },
   "file_extension": ".py",
   "mimetype": "text/x-python",
   "name": "python",
   "nbconvert_exporter": "python",
   "pygments_lexer": "ipython3",
   "version": "3.7.13"
  }
 },
 "nbformat": 4,
 "nbformat_minor": 5
}
