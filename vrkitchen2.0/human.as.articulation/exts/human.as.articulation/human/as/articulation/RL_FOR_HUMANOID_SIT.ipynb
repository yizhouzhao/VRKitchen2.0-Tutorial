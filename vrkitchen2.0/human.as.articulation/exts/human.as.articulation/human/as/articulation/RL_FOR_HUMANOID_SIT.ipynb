{
 "cells": [
  {
   "cell_type": "code",
   "execution_count": 1,
   "id": "06d0df9b",
   "metadata": {},
   "outputs": [],
   "source": [
    "from rl.torch_utils import *\n",
    "from rl.torch_jit_utils import *\n",
    "from rl.trainer import Trainer\n",
    "\n",
    "# trainer = Trainer(57, 21)"
   ]
  },
  {
   "cell_type": "code",
   "execution_count": 2,
   "id": "d0513c1f",
   "metadata": {},
   "outputs": [],
   "source": [
    "import getpass\n",
    "\n",
    "user = getpass.getuser()"
   ]
  },
  {
   "cell_type": "code",
   "execution_count": 3,
   "id": "a03d2f53",
   "metadata": {},
   "outputs": [
    {
     "data": {
      "text/plain": [
       "'yizhou'"
      ]
     },
     "execution_count": 3,
     "metadata": {},
     "output_type": "execute_result"
    }
   ],
   "source": [
    "user"
   ]
  },
  {
   "cell_type": "code",
   "execution_count": null,
   "id": "5729f128",
   "metadata": {},
   "outputs": [
    {
     "name": "stdout",
     "output_type": "stream",
     "text": [
      "Starting kit application with the fillowing args:  ['/home/yizhou/.local/share/ov/pkg/isaac_sim-2022.1.0/exts/omni.isaac.kit/omni/isaac/kit/simulation_app.py', '/home/yizhou/.local/share/ov/pkg/isaac_sim-2022.1.0/apps/omni.isaac.sim.python.kit', '--/app/tokens/exe-path=/home/yizhou/.local/share/ov/pkg/isaac_sim-2022.1.0/kit', '--/persistent/app/viewport/displayOptions=3094', '--/rtx/materialDb/syncLoads=True', '--/rtx/hydra/materialSyncLoads=True--/omni.kit.plugin/syncUsdLoads=True', '--/app/renderer/resolution/width=1280', '--/app/renderer/resolution/height=720', '--/app/window/width=1440', '--/app/window/height=900', '--/renderer/multiGpu/enabled=True', '--ext-folder', '/home/yizhou/.local/share/ov/pkg/isaac_sim-2022.1.0/exts', '--ext-folder', '/home/yizhou/.local/share/ov/pkg/isaac_sim-2022.1.0/apps', '--portable', '--no-window']\n",
      "Passing the following args to the base kit application:  ['-f', '/home/yizhou/.local/share/jupyter/runtime/kernel-c68cf885-e0af-4799-995a-e685bffd4e8b.json']\n",
      "[Warning] [omni.kit.app.plugin] No crash reporter present, dumps uploading isn't available.\n",
      "[Info] [carb] Logging to file: /home/yizhou/.local/share/ov/pkg/isaac_sim-2022.1.0/kit/logs/Kit/Isaac-Sim/2022.1/kit_20220719_172448.log\n",
      "[0.077s] [ext: omni.stats-0.0.0] startup\n",
      "[0.120s] [ext: omni.gpu_foundation-0.0.0] startup\n",
      "2022-07-20 00:24:48 [125ms] [Warning] [carb] FrameworkImpl::setDefaultPlugin(client: omni.gpu_foundation_factory.plugin, desc : [carb::graphics::Graphics v2.5], plugin : carb.graphics-vulkan.plugin) failed. Plugin selection is locked, because the interface was previously acquired by: \n",
      "[0.137s] [ext: carb.windowing.plugins-1.0.0] startup\n",
      "[0.148s] [ext: omni.assets.plugins-0.0.0] startup\n",
      "[0.150s] [ext: omni.kit.renderer.init-0.0.0] startup\n",
      "\n",
      "|---------------------------------------------------------------------------------------------|\n",
      "| Driver Version: 510.73.5      | Graphics API: Vulkan\n",
      "|=============================================================================================|\n",
      "| GPU | Name                             | Active | LDA | GPU Memory | Vendor-ID | LUID       |\n",
      "|     |                                  |        |     |            | Device-ID | UUID       |\n",
      "|---------------------------------------------------------------------------------------------|\n",
      "| 0   | NVIDIA GeForce RTX 3090          | Yes: 0 |     | 24822   MB | 10de      | 0          |\n",
      "|     |                                  |        |     |            | 2204      | 3f50dd6e.. |\n",
      "|=============================================================================================|\n",
      "| OS: Linux yizhou-Z370-AORUS-Gaming-5, Version: 5.15.0-41-generic\n",
      "| Processor: Intel(R) Core(TM) i7-8700K CPU @ 3.70GHz | Cores: Unknown | Logical: 12\n",
      "|---------------------------------------------------------------------------------------------|\n",
      "| Total Memory (MB): 32046 | Free Memory: 11285\n",
      "| Total Page/Swap (MB): 2047 | Free Page/Swap: 2047\n",
      "|---------------------------------------------------------------------------------------------|\n",
      "2022-07-20 00:24:48 [921ms] [Warning] [carb.cudainterop.plugin] On Linux only, CUDA and the display driver does not support IOMMU-enabled bare-metal PCIe peer to peer memory copy.\n",
      "However, CUDA and the display driver does support IOMMU via VM pass through. As a consequence, users on Linux,\n",
      "when running on a native bare metal system, should disable the IOMMU. The IOMMU should be enabled and the VFIO driver\n",
      "be used as a PCIe pass through for virtual machines.\n",
      "[0.944s] [ext: omni.kit.pipapi-0.0.0] startup\n",
      "[0.957s] [ext: omni.kit.pip_archive-0.0.0] startup\n",
      "[0.963s] [ext: omni.isaac.core_archive-0.3.0] startup\n",
      "[0.986s] [ext: omni.usd.config-1.0.0] startup\n",
      "[0.988s] [ext: omni.usd.libs-1.0.0] startup\n",
      "[1.211s] [ext: omni.isaac.ml_archive-0.1.0] startup\n",
      "[1.264s] [ext: omni.kit.loop-isaac-0.1.0] startup\n",
      "[1.265s] [ext: omni.kit.async_engine-0.0.0] startup\n",
      "[1.267s] [ext: omni.appwindow-1.0.0] startup\n",
      "[1.270s] [ext: omni.client-0.1.0] startup\n",
      "[1.286s] [ext: omni.kit.test-0.0.0] startup\n",
      "[1.315s] [ext: omni.kit.renderer.core-0.0.0] startup\n",
      "[1.426s] [ext: omni.ui-2.10.3] startup\n",
      "[1.448s] [ext: carb.audio-0.1.0] startup\n",
      "[1.470s] [ext: omni.kit.mainwindow-0.0.0] startup\n",
      "[1.473s] [ext: omni.uiaudio-1.0.0] startup\n",
      "[1.475s] [ext: omni.kit.uiapp-0.0.0] startup\n",
      "[1.475s] [ext: omni.usd.schema.physics-1.0.0] startup\n",
      "[1.526s] [ext: omni.usd.schema.audio-0.0.0] startup\n",
      "[1.534s] [ext: omni.usd.schema.semantics-0.0.0] startup\n",
      "[1.548s] [ext: omni.usd.schema.omnigraph-1.0.0] startup\n",
      "[1.559s] [ext: omni.usd.schema.anim-0.0.0] startup\n",
      "[1.607s] [ext: omni.kit.commands-1.2.2] startup\n",
      "[1.613s] [ext: omni.timeline-1.0.2] startup\n",
      "[1.616s] [ext: omni.hydra.scene_delegate-0.2.0] startup\n",
      "[1.627s] [ext: omni.kit.audiodeviceenum-1.0.0] startup\n",
      "[1.629s] [ext: omni.usd-1.5.3] startup\n",
      "[1.707s] [ext: omni.kit.asset_converter-1.2.30] startup\n",
      "[1.736s] [ext: omni.usd.schema.isaac-0.2.0] startup\n",
      "[1.791s] [ext: omni.usd.schema.physx-0.0.0] startup\n",
      "[1.829s] [ext: omni.kit.search_core-1.0.2] startup\n",
      "[1.831s] [ext: omni.renderer-rtx-0.0.0] startup\n",
      "[1.834s] [ext: omni.kit.widget.graph-1.4.2] startup\n",
      "[1.843s] [ext: omni.kit.widget.filebrowser-2.2.26] startup\n",
      "[1.898s] [ext: omni.kit.window.popup_dialog-2.0.7] startup\n",
      "[1.904s] [ext: omni.mdl.neuraylib-0.1.0] startup\n",
      "[1.910s] [ext: omni.kit.widget.path_field-2.0.3] startup\n",
      "[1.912s] [ext: omni.kit.widget.versioning-1.3.8] startup\n",
      "[1.915s] [ext: omni.kit.notification_manager-1.0.5] startup\n",
      "[1.919s] [ext: omni.kit.widget.browser_bar-2.0.3] startup\n",
      "[1.921s] [ext: omni.kit.menu.utils-1.2.11] startup\n",
      "[1.936s] [ext: omni.kit.window.filepicker-2.4.29] startup\n"
     ]
    },
    {
     "name": "stderr",
     "output_type": "stream",
     "text": [
      "OmniAssetFileFormat\n"
     ]
    },
    {
     "name": "stdout",
     "output_type": "stream",
     "text": [
      "[2.002s] [ext: omni.mdl-0.1.0] startup\n",
      "[2.038s] [ext: omni.kit.menu.create-1.0.2] startup\n",
      "[2.041s] [ext: omni.kit.window.file_exporter-1.0.4] startup\n",
      "[2.043s] [ext: omni.kit.window.drop_support-1.0.0] startup\n",
      "[2.045s] [ext: omni.kit.material.library-1.3.10] startup\n",
      "[2.050s] [ext: omni.kit.window.property-1.6.3] startup\n",
      "[2.053s] [ext: omni.kit.context_menu-1.3.9] startup\n",
      "[2.060s] [ext: omni.kit.window.file_importer-1.0.4] startup\n",
      "[2.061s] [ext: omni.kit.stage_templates-1.1.2] startup\n",
      "[2.064s] [ext: omni.kit.widget.stage-2.6.15] startup\n",
      "[2.071s] [ext: omni.kit.window.file-1.3.16] startup\n",
      "[2.075s] [ext: omni.debugdraw-0.1.0] startup\n",
      "[2.084s] [ext: omni.kit.window.content_browser-2.4.28] startup\n",
      "[2.097s] [ext: omni.kit.widget.prompt-1.0.1] startup\n",
      "[2.099s] [ext: omni.kit.property.usd-3.14.8] startup\n",
      "[2.145s] [ext: omni.hydra.engine.stats-1.0.0] startup\n",
      "[2.153s] [ext: omni.kit.widget.settings-1.0.0] startup\n",
      "[2.156s] [ext: omni.graph.tools-1.3.5] startup\n",
      "[2.188s] [ext: omni.graph.core-2.27.0] startup\n",
      "[2.194s] [ext: omni.hydra.rtx-0.1.0] startup\n",
      "[2.214s] [ext: omni.kit.viewport.legacy_gizmos-1.0.0] startup\n",
      "[2.219s] [ext: omni.ui_query-1.1.1] startup\n",
      "[2.222s] [ext: omni.graph-1.22.1] startup\n",
      "[2.291s] [ext: omni.kit.window.viewport-0.0.0] startup\n"
     ]
    },
    {
     "name": "stderr",
     "output_type": "stream",
     "text": [
      "2022-07-20 00:24:50 [2,417ms] [Error] [rtx.neuraylib.plugin] [DYNLIB:IO]   0.1   DYNLIB io   error: /home/yizhou/.local/share/ov/pkg/isaac_sim-2022.1.0/kit/python/bin/libs/iray/libnvindex.so: cannot open shared object file: No such file or directory\n",
      "2022-07-20 00:24:50 [2,417ms] [Error] [rtx.neuraylib.plugin] [INDEX:MAIN]   0.1   INDEX  main error: Failed to load /home/yizhou/.local/share/ov/pkg/isaac_sim-2022.1.0/kit/python/bin/libs/iray/libnvindex.so\n"
     ]
    },
    {
     "name": "stdout",
     "output_type": "stream",
     "text": [
      "Warp initialized:\n",
      "   Version: 0.2.1\n",
      "   Using CUDA device: NVIDIA GeForce RTX 3090\n",
      "   Using CPU compiler: /usr/bin/g++\n",
      "[7.622s] [ext: omni.kit.window.preferences-1.2.1] startup\n",
      "[7.713s] [ext: omni.kit.ui_test-1.2.0] startup\n",
      "[7.716s] [ext: omni.graph.ui-1.6.1] startup\n",
      "[7.746s] [ext: omni.kvdb-0.0.0] startup\n",
      "[7.750s] [ext: omni.kit.widget.searchfield-1.0.6] startup\n",
      "[7.753s] [ext: omni.convexdecomposition-1.4.12] startup\n",
      "[7.757s] [ext: omni.graph.action-1.17.0] startup\n",
      "[7.774s] [ext: omni.localcache-0.0.0] startup\n",
      "[7.778s] [ext: omni.usdphysics-1.4.12] startup\n",
      "[7.783s] [ext: omni.graph.scriptnode-0.5.0] startup\n",
      "[7.786s] [ext: omni.physx-1.4.12-5.1] startup\n",
      "2022-07-20 00:24:55 [7,795ms] [Warning] [omni.kvdb.plugin] wasn't able to load the meta database, trying to repair it ...\n",
      "2022-07-20 00:24:55 [7,854ms] [Warning] [omni.kvdb.plugin] repair failed\n",
      "[7.864s] [ext: omni.kit.usd_undo-0.1.0] startup\n",
      "[7.867s] [ext: omni.graph.nodes-1.25.0] startup\n",
      "[7.899s] [ext: omni.physx.commands-1.4.12-5.1] startup\n",
      "[7.905s] [ext: omni.syntheticdata-0.2.1] startup\n",
      "[7.964s] [ext: omni.physx.ui-1.4.12-5.1] startup\n",
      "[8.050s] [ext: omni.warp-0.2.1] startup\n",
      "[9.676s] [ext: omni.kit.renderer.capture-0.0.0] startup\n",
      "[9.681s] [ext: omni.kit.property.material-1.8.5] startup\n",
      "[9.684s] [ext: omni.physx.demos-1.4.12-5.1] startup\n",
      "[9.687s] [ext: omni.physics.tensors-0.1.0] startup\n",
      "[9.697s] [ext: omni.kit.property.physx-0.1.0] startup\n",
      "2022-07-20 00:24:57 [9,755ms] [Warning] [omni.physx.plugin] Deprecated: getSimulationEventStream is deprecated, please use getSimulationEventStreamV2\n",
      "[9.767s] [ext: omni.kit.window.toolbar-1.2.4] startup\n",
      "[9.774s] [ext: omni.physx.tensors-0.1.0] startup\n",
      "[9.783s] [ext: omni.physx.vehicle-1.4.12-5.1] startup\n",
      "[9.798s] [ext: omni.physx.tests-1.4.12-5.1] startup\n",
      "[9.932s] [ext: omni.kit.numpy.common-0.1.0] startup\n",
      "[9.936s] [ext: omni.physx.camera-1.4.12-5.1] startup\n",
      "[9.944s] [ext: omni.physx.cct-1.4.12-5.1] startup\n",
      "[10.018s] [ext: omni.isaac.version-1.0.0] startup\n",
      "[10.019s] [ext: omni.isaac.dynamic_control-1.0.0] startup\n",
      "[10.031s] [ext: omni.physx.bundle-1.4.12-5.1] startup\n",
      "[10.031s] [ext: omni.kit.primitive.mesh-1.0.0] startup\n",
      "[10.037s] [ext: omni.command.usd-1.0.1] startup\n",
      "[10.041s] [ext: omni.isaac.core-1.15.1] startup\n",
      "[10.112s] [ext: omni.replicator.core-1.2.0] startup\n",
      "[10.230s] [ext: omni.kit.window.extensions-1.1.0] startup\n",
      "[10.237s] [ext: omni.isaac.core_nodes-0.9.0] startup\n",
      "[10.251s] [ext: omni.isaac.ui-0.2.1] startup\n",
      "[10.254s] [ext: omni.kit.window.script_editor-1.6.2] startup\n",
      "[10.264s] [ext: omni.isaac.wheeled_robots-0.5.4] startup\n",
      "[10.278s] [ext: omni.kit.menu.common-1.0.0] startup\n",
      "[10.281s] [ext: omni.kit.graph.delegate.default-1.0.15] startup\n",
      "[10.283s] [ext: omni.kit.graph.delegate.modern-1.6.0] startup\n",
      "[10.285s] [ext: omni.kit.widget.zoombar-1.0.3] startup\n",
      "[10.287s] [ext: omni.kit.graph.editor.core-1.3.3] startup\n",
      "[10.291s] [ext: omni.kit.widget.stage_icons-1.0.2] startup\n",
      "[10.293s] [ext: omni.kit.browser.core-2.0.12] startup\n",
      "[10.299s] [ext: omni.kit.graph.widget.variables-2.0.2] startup\n",
      "[10.300s] [ext: omni.kit.window.stage-2.3.7] startup\n",
      "[10.305s] [ext: omni.kit.browser.folder.core-1.1.13] startup\n",
      "[10.308s] [ext: omni.graph.window.core-1.22.1] startup\n",
      "[10.316s] [ext: omni.isaac.lula-1.1.0] startup\n",
      "[10.332s] [ext: omni.graph.instancing-1.1.4] startup\n",
      "[10.341s] [ext: omni.graph.window.action-1.3.8] startup\n",
      "[10.343s] [ext: omni.graph.tutorials-1.1.2] startup\n",
      "[10.364s] [ext: omni.rtx.window.settings-0.6.1] startup\n",
      "[10.370s] [ext: omni.isaac.motion_planning-0.2.0] startup\n",
      "[10.381s] [ext: omni.graph.bundle.action-1.0.0] startup\n",
      "[10.382s] [ext: omni.rtx.settings.core-0.5.5] startup\n",
      "[10.388s] [ext: omni.isaac.motion_generation-3.1.2] startup\n",
      "[10.394s] [ext: omni.isaac.kit-0.1.9] startup\n",
      "[10.395s] [ext: omni.isaac.debug_draw-0.1.2] startup\n",
      "[10.403s] [ext: omni.kit.selection-0.1.0] startup\n",
      "[10.405s] [ext: omni.isaac.franka-0.0.0] startup\n",
      "[10.406s] [ext: omni.kit.widget.layers-1.5.17] startup\n",
      "[10.428s] [ext: omni.kit.menu.edit-1.0.6] startup\n",
      "[10.431s] [ext: omni.isaac.isaac_sensor-0.3.4] startup\n",
      "2022-07-20 00:24:58 [10,431ms] [Warning] [omni.physx.plugin] Deprecated: getSimulationEventStream is deprecated, please use getSimulationEventStreamV2\n",
      "[10.442s]Opening usd file at  omniverse://localhost/Users/yizhou/test_humanoid_sit.usd  ...Done.\n",
      "Saving a temp livesync stage at  omniverse://localhost/Users/yizhou/test_humanoid_sit.usd  ...Done.\n"
     ]
    }
   ],
   "source": [
    "from omni.isaac.kit import SimulationApp\n",
    "\n",
    "simulation_app = SimulationApp({\"headless\": True, \"open_usd\": f\"omniverse://localhost/Users/{user}/test_humanoid_sit.usd\", \n",
    "                                \"livesync_usd\": f\"omniverse://localhost/Users/{user}/test_humanoid_sit.usd\"})\n"
   ]
  },
  {
   "cell_type": "code",
   "execution_count": null,
   "id": "df5e8e28",
   "metadata": {},
   "outputs": [],
   "source": [
    "import omni\n",
    "from omni.isaac.core import World\n",
    "from pxr import Gf, Sdf, UsdGeom, UsdShade\n",
    "\n",
    "import torch\n",
    "import numpy as np"
   ]
  },
  {
   "cell_type": "code",
   "execution_count": null,
   "id": "a526dc79",
   "metadata": {},
   "outputs": [],
   "source": [
    "world = World(physics_dt= 1.0 / 60, backend = \"torch\")"
   ]
  },
  {
   "cell_type": "code",
   "execution_count": null,
   "id": "946bc535",
   "metadata": {},
   "outputs": [],
   "source": [
    "from omni.isaac.core.utils.stage import set_stage_up_axis\n",
    "\n",
    "set_stage_up_axis(\"y\")\n",
    "world.get_physics_context().set_gravity(-9.81)"
   ]
  },
  {
   "cell_type": "code",
   "execution_count": null,
   "id": "d39ebae0",
   "metadata": {},
   "outputs": [],
   "source": [
    "from omni.isaac.core.utils.stage import get_current_stage\n",
    "UsdGeom.GetStageUpAxis(get_current_stage())"
   ]
  },
  {
   "cell_type": "code",
   "execution_count": null,
   "id": "04aa76f2",
   "metadata": {},
   "outputs": [],
   "source": [
    "world.get_physics_context()._physics_scene.GetGravityDirectionAttr().Get()"
   ]
  },
  {
   "cell_type": "code",
   "execution_count": null,
   "id": "be5c294e",
   "metadata": {
    "scrolled": true
   },
   "outputs": [],
   "source": [
    "# world.scene.add_default_ground_plane()"
   ]
  },
  {
   "cell_type": "code",
   "execution_count": null,
   "id": "8cceb442",
   "metadata": {},
   "outputs": [],
   "source": [
    "# get prims\n",
    "len(list(world.scene.stage.TraverseAll()))"
   ]
  },
  {
   "cell_type": "code",
   "execution_count": null,
   "id": "8f3940b5",
   "metadata": {},
   "outputs": [],
   "source": [
    "world.render()"
   ]
  },
  {
   "cell_type": "code",
   "execution_count": null,
   "id": "f41cb92a",
   "metadata": {},
   "outputs": [],
   "source": [
    "from rl.robot_env import RobotEnv\n",
    "\n",
    "env = RobotEnv(\"/World/envs/*/humanoid/torso\")"
   ]
  },
  {
   "cell_type": "code",
   "execution_count": null,
   "id": "4b138557",
   "metadata": {},
   "outputs": [],
   "source": [
    "world.render()"
   ]
  },
  {
   "cell_type": "code",
   "execution_count": null,
   "id": "b845560e",
   "metadata": {},
   "outputs": [],
   "source": [
    "world.reset()"
   ]
  },
  {
   "cell_type": "code",
   "execution_count": null,
   "id": "ecae9acc",
   "metadata": {},
   "outputs": [],
   "source": [
    "env.start()"
   ]
  },
  {
   "cell_type": "code",
   "execution_count": null,
   "id": "59de5019",
   "metadata": {},
   "outputs": [],
   "source": [
    "world.scene.add(env.robots)"
   ]
  },
  {
   "cell_type": "code",
   "execution_count": null,
   "id": "c4ae521b",
   "metadata": {},
   "outputs": [],
   "source": [
    "total_step = 0"
   ]
  },
  {
   "cell_type": "code",
   "execution_count": null,
   "id": "94d422b6",
   "metadata": {},
   "outputs": [],
   "source": [
    "# env.motor_efforts"
   ]
  },
  {
   "cell_type": "code",
   "execution_count": null,
   "id": "42c0d2ed",
   "metadata": {},
   "outputs": [],
   "source": [
    "# step\n",
    "def step(env, trainer, warm_up_steps = 2000):\n",
    "    # action shape\n",
    "    action_shape = env.action_shape\n",
    "    \n",
    "    # env step\n",
    "    env.progress_buf += 1\n",
    "    if total_step < warm_up_steps or np.random.rand() < 10 / total_step:\n",
    "        actions =  2 * torch.rand(action_shape) - 1\n",
    "    else:\n",
    "        actions =  trainer.sample_action(current_obs.to(trainer.device))\n",
    "        \n",
    "    env.robots.set_joint_efforts(efforts = actions * env.motor_efforts)\n",
    "    \n",
    "    return actions"
   ]
  },
  {
   "cell_type": "code",
   "execution_count": null,
   "id": "4ce607b1",
   "metadata": {},
   "outputs": [],
   "source": [
    "# observation\n",
    "def get_obs(env):\n",
    "    \"\"\"\n",
    "    Get robot states\n",
    "    \"\"\"\n",
    "    \n",
    "    # root position\n",
    "    torso_position, torso_rotation  = env.robots.get_world_poses()\n",
    "    index = torch.LongTensor([1, 2, 3, 0])\n",
    "    torso_rotation = torch.index_select(torso_rotation, 1, index) # WXYZ -> XYZW\n",
    "    \n",
    "    up_vec = quat_rotate(torso_rotation, torch.tensor([0.0, 0.0, 1.0]).repeat((env.num_envs, 1)))[...,[1]]\n",
    "    forward_vec = quat_rotate(torso_rotation, torch.tensor([1.0, 0.0, 0.0]).repeat((env.num_envs, 1)))[...,[2]]\n",
    "    \n",
    "    # root velocity\n",
    "    root_velocity = env.robots.get_velocities()\n",
    "    velocity = root_velocity[:, 0:3]\n",
    "    ang_velocity = env.angular_velocity_scale * root_velocity[:, 3:] # scaled\n",
    "    \n",
    "    # joint position and velocity\n",
    "    dof_pos = (2 * env.robots.get_joint_positions() - env.joint_upper_limit - env.joint_lower_limit) / (env.joint_upper_limit - env.joint_lower_limit) # scale to [-1, 1]\n",
    "    dof_vel = env.robots.get_joint_velocities() * env.dof_vel_scale # scaled\n",
    "    \n",
    "    # get obs\n",
    "    obs = torch.cat([up_vec, forward_vec, torso_position, torso_rotation, velocity, ang_velocity, dof_pos, dof_vel], dim = 1)\n",
    "    \n",
    "    return obs"
   ]
  },
  {
   "cell_type": "code",
   "execution_count": null,
   "id": "95b04955",
   "metadata": {},
   "outputs": [],
   "source": [
    "dof_pos = (2 * env.robots.get_joint_positions() - env.joint_upper_limit - env.joint_lower_limit) / (env.joint_upper_limit - env.joint_lower_limit) # scale to [-1, 1]\n"
   ]
  },
  {
   "cell_type": "code",
   "execution_count": null,
   "id": "3eaac858",
   "metadata": {
    "scrolled": true
   },
   "outputs": [],
   "source": [
    "sit_position_target = torch.tensor([0., 0., 0., 0., 0., \n",
    "                        0., 0., -1.5, -1.5, 0., \n",
    "                        -1.5, 0., 0., -1.5, 0., \n",
    "                        -1.5, -1.5, 0., 0., 0., \n",
    "                        0.]).repeat(env.num_envs, 1)"
   ]
  },
  {
   "cell_type": "code",
   "execution_count": null,
   "id": "659c615a",
   "metadata": {},
   "outputs": [],
   "source": [
    "# sit_position_target"
   ]
  },
  {
   "cell_type": "code",
   "execution_count": null,
   "id": "3048b79b",
   "metadata": {},
   "outputs": [],
   "source": [
    "# init root dist\n",
    "torso_position, torso_rotation  = env.robots.get_world_poses()\n",
    "torso_local_position = torso_position - torch.tensor([[2.0 * (j % 4), 0.0 , 2.0 * (j // 4)] for j in range(env.num_envs)])\n",
    "target_local_position = torch.tensor([0.0, 0.9, -0.4]).repeat(env.num_envs, 1)\n",
    "\n",
    "\n",
    "root_dist = torch.sum((torso_local_position - target_local_position)**2, dim = 1)\n",
    "\n",
    "env.last_root_dist = root_dist"
   ]
  },
  {
   "cell_type": "code",
   "execution_count": null,
   "id": "9cf8e555",
   "metadata": {},
   "outputs": [],
   "source": [
    "env.last_root_dist"
   ]
  },
  {
   "cell_type": "code",
   "execution_count": null,
   "id": "9247102a",
   "metadata": {},
   "outputs": [],
   "source": [
    "def get_reward_done(env, verbose = False):\n",
    "    # root position\n",
    "    torso_position, torso_rotation  = env.robots.get_world_poses()\n",
    "    index = torch.LongTensor([1, 2, 3, 0])\n",
    "    torso_rotation = torch.index_select(torso_rotation, 1, index) # WXYZ -> XYZW\n",
    "    \n",
    "    # get reward \n",
    "    torso_local_position = torso_position - torch.tensor([[2.0 * (j % 4), 0.0 , 2.0 * (j // 4)] for j in range(env.num_envs)])\n",
    "    target_local_position = torch.tensor([0.0, 0.9, -0.4]).repeat(env.num_envs, 1)\n",
    "    \n",
    "    root_dist = torch.sum((torso_local_position - target_local_position)**2, dim = 1)\n",
    "    up_vec = quat_rotate(torso_rotation, torch.tensor([0.0, 0.0, 1.0]).repeat((env.num_envs, 1)))[...,[1]].view(-1)\n",
    "    \n",
    "    joint_positions = env.robots.get_joint_positions() \n",
    "    joint_dist = torch.sum((joint_positions - sit_position_target)**2 / (env.joint_upper_limit - env.joint_lower_limit)**2, \\\n",
    "                           dim = 1)\n",
    "    \n",
    "    root_velocity = torch.sum(env.robots.get_velocities()[...,:3]**2, dim = 1)\n",
    "    \n",
    "    # reward = torch.exp(-joint_dist) * up_vec * torch.exp(-root_dist) * torch.exp(-root_velocity) \n",
    "    \n",
    "    # reward = 10 * (env.last_root_dist - root_dist).clone()\n",
    "    # env.last_root_dist = root_dist\n",
    "    \n",
    "    # reward = torch.where(env.last_root_dist < 0.05, 1.0, reward.double()).float()\n",
    "    # reward = torch.where(reward > 0.0, up_vec * reward.double(), reward.double()).float()\n",
    "    \n",
    "    reward = torso_local_position[...,-1]\n",
    "    \n",
    "    if verbose:\n",
    "        print(\"reward\", reward.tolist(), \"; root_velocity: \", root_velocity.tolist(), \"; joint_dist: \", joint_dist.tolist(), \\\n",
    "             \"; root_dist: \", root_dist.tolist(), \"; up_vec:\", up_vec.tolist())\n",
    "    \n",
    "    # get done\n",
    "    done = torch.where(torso_position[...,1] < 0.5, 1.0, 0.0)\n",
    "    done = torch.where(env.progress_buf > 300, torch.ones(done.shape[0]), done)\n",
    "    # done = torch.where(env.progress_buf > 200, 1.0, 0.0)\n",
    "    \n",
    "    \n",
    "    \n",
    "    return reward, done"
   ]
  },
  {
   "cell_type": "code",
   "execution_count": null,
   "id": "8a77fc34",
   "metadata": {
    "scrolled": false
   },
   "outputs": [],
   "source": [
    "get_reward_done(env, True)"
   ]
  },
  {
   "cell_type": "code",
   "execution_count": null,
   "id": "1258578d",
   "metadata": {},
   "outputs": [],
   "source": [
    "# need to reset\n",
    "def reset(done):\n",
    "    if torch.sum(done) >= 1:\n",
    "        env_ids = []\n",
    "        for i in range(len(done)):\n",
    "            if done[i] > 0:\n",
    "                env_ids.append(i)\n",
    "        # print(\"reset: \", env_ids)\n",
    "        env.reset_idx(env_ids)"
   ]
  },
  {
   "cell_type": "code",
   "execution_count": null,
   "id": "821d856c",
   "metadata": {},
   "outputs": [],
   "source": [
    "trainer = Trainer(57, 21)"
   ]
  },
  {
   "cell_type": "code",
   "execution_count": null,
   "id": "137ed4a1",
   "metadata": {},
   "outputs": [],
   "source": [
    "total_step = 0 # reset "
   ]
  },
  {
   "cell_type": "code",
   "execution_count": null,
   "id": "fd97fcc7",
   "metadata": {
    "scrolled": true
   },
   "outputs": [],
   "source": [
    "for i in range(50000):\n",
    "    total_step += 1\n",
    "    \n",
    "    # step\n",
    "    current_obs = get_obs(env).clone()\n",
    "    actions = step(env,trainer=trainer) # HAS TRAINER\n",
    "    world.step(render=False)\n",
    "    \n",
    "    # continue\n",
    "    \n",
    "    # get obs\n",
    "    new_obs = get_obs(env).clone()\n",
    "    \n",
    "    # get reward done\n",
    "    reward, done = get_reward_done(env)\n",
    "    env.reward_buf += reward\n",
    "    # print(total_step, \"reward, done\", done)\n",
    "    \n",
    "    # reset\n",
    "    reset(done)\n",
    "    \n",
    "    # buffer\n",
    "    trainer.buf.add_batch(current_obs, actions, new_obs, reward, done)\n",
    "    # print(total_step, \"current_obs, actions, new_obs, reward, done \\n\\n\", current_obs, actions, new_obs, reward, done)\n",
    "    \n",
    "\n",
    "    # debug\n",
    "    if total_step % 1000 == 9:\n",
    "        # env.reset_idx([0,1,2])\n",
    "        print(total_step, \"reward\", torch.mean(reward).tolist(), torch.mean(env.reward_buf).tolist())\n",
    "        world.render()\n",
    "    \n",
    "    # train\n",
    "    if total_step > 2000:\n",
    "        trainer.train_debug(batch_size = 24)\n",
    "    \n",
    "    "
   ]
  },
  {
   "cell_type": "code",
   "execution_count": null,
   "id": "e6584ef0",
   "metadata": {},
   "outputs": [],
   "source": [
    "world._physics_context.is_gpu_dynamics_enabled()"
   ]
  },
  {
   "cell_type": "code",
   "execution_count": null,
   "id": "95de461e",
   "metadata": {},
   "outputs": [],
   "source": [
    "world.step(render=True)"
   ]
  },
  {
   "cell_type": "code",
   "execution_count": null,
   "id": "52c61c3e",
   "metadata": {},
   "outputs": [],
   "source": [
    "world.render()"
   ]
  },
  {
   "cell_type": "code",
   "execution_count": null,
   "id": "3aef5f1d",
   "metadata": {},
   "outputs": [],
   "source": [
    "world.reset()\n",
    "# env.robots.initialize()"
   ]
  },
  {
   "cell_type": "code",
   "execution_count": null,
   "id": "6361a1c1",
   "metadata": {},
   "outputs": [],
   "source": [
    "# torch.save(trainer.policy.state_dict(), \"/home/yizhou/Research/Data/718.pth\")"
   ]
  },
  {
   "cell_type": "code",
   "execution_count": null,
   "id": "0acf093d",
   "metadata": {},
   "outputs": [],
   "source": []
  },
  {
   "cell_type": "code",
   "execution_count": null,
   "id": "d305b6e1",
   "metadata": {},
   "outputs": [],
   "source": []
  },
  {
   "cell_type": "code",
   "execution_count": null,
   "id": "fbd9154d",
   "metadata": {},
   "outputs": [],
   "source": [
    "# trainer.policy.actor(current_obs.cuda())"
   ]
  },
  {
   "cell_type": "code",
   "execution_count": null,
   "id": "2823d06d",
   "metadata": {},
   "outputs": [],
   "source": []
  }
 ],
 "metadata": {
  "kernelspec": {
   "display_name": "Isaac Sim Python 3",
   "language": "python",
   "name": "isaac_sim_python3"
  },
  "language_info": {
   "codemirror_mode": {
    "name": "ipython",
    "version": 3
   },
   "file_extension": ".py",
   "mimetype": "text/x-python",
   "name": "python",
   "nbconvert_exporter": "python",
   "pygments_lexer": "ipython3",
   "version": "3.7.13"
  }
 },
 "nbformat": 4,
 "nbformat_minor": 5
}
