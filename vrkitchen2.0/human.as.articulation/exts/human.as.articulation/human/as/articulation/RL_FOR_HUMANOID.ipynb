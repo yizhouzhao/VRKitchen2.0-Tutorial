{
 "cells": [
  {
   "cell_type": "code",
   "execution_count": 1,
   "id": "d0513c1f",
   "metadata": {},
   "outputs": [],
   "source": [
    "import getpass\n",
    "\n",
    "user = getpass.getuser()"
   ]
  },
  {
   "cell_type": "code",
   "execution_count": 2,
   "id": "a03d2f53",
   "metadata": {},
   "outputs": [
    {
     "data": {
      "text/plain": [
       "'yizhou'"
      ]
     },
     "execution_count": 2,
     "metadata": {},
     "output_type": "execute_result"
    }
   ],
   "source": [
    "user"
   ]
  },
  {
   "cell_type": "code",
   "execution_count": 3,
   "id": "5729f128",
   "metadata": {},
   "outputs": [
    {
     "name": "stdout",
     "output_type": "stream",
     "text": [
      "Starting kit application with the fillowing args:  ['/home/yizhou/.local/share/ov/pkg/isaac_sim-2022.1.0/exts/omni.isaac.kit/omni/isaac/kit/simulation_app.py', '/home/yizhou/.local/share/ov/pkg/isaac_sim-2022.1.0/apps/omni.isaac.sim.python.kit', '--/app/tokens/exe-path=/home/yizhou/.local/share/ov/pkg/isaac_sim-2022.1.0/kit', '--/persistent/app/viewport/displayOptions=3094', '--/rtx/materialDb/syncLoads=True', '--/rtx/hydra/materialSyncLoads=True--/omni.kit.plugin/syncUsdLoads=True', '--/app/renderer/resolution/width=1280', '--/app/renderer/resolution/height=720', '--/app/window/width=1440', '--/app/window/height=900', '--/renderer/multiGpu/enabled=True', '--ext-folder', '/home/yizhou/.local/share/ov/pkg/isaac_sim-2022.1.0/exts', '--ext-folder', '/home/yizhou/.local/share/ov/pkg/isaac_sim-2022.1.0/apps', '--portable', '--no-window']\n",
      "Passing the following args to the base kit application:  ['-f', '/home/yizhou/.local/share/jupyter/runtime/kernel-75bbbdd9-0855-4c1d-9b2d-e0820e50f2c8.json']\n",
      "[Warning] [omni.kit.app.plugin] No crash reporter present, dumps uploading isn't available.\n",
      "[Info] [carb] Logging to file: /home/yizhou/.local/share/ov/pkg/isaac_sim-2022.1.0/kit/logs/Kit/Isaac-Sim/2022.1/kit_20220715_102430.log\n",
      "[0.079s] [ext: omni.stats-0.0.0] startup\n",
      "[0.117s] [ext: omni.gpu_foundation-0.0.0] startup\n",
      "2022-07-15 17:24:30 [115ms] [Warning] [carb] FrameworkImpl::setDefaultPlugin(client: omni.gpu_foundation_factory.plugin, desc : [carb::graphics::Graphics v2.5], plugin : carb.graphics-vulkan.plugin) failed. Plugin selection is locked, because the interface was previously acquired by: \n",
      "[0.124s] [ext: carb.windowing.plugins-1.0.0] startup\n",
      "2022-07-15 17:24:30 [126ms] [Warning] [carb.windowing-glfw.gamepad] Joystick with unknown remapping detected (will be ignored):  Microsoft Xbox One X pad [030000005e040000120b000009050000]\n",
      "[0.133s] [ext: omni.assets.plugins-0.0.0] startup\n",
      "[0.134s] [ext: omni.kit.renderer.init-0.0.0] startup\n",
      "\n",
      "|---------------------------------------------------------------------------------------------|\n",
      "| Driver Version: 510.73.5      | Graphics API: Vulkan\n",
      "|=============================================================================================|\n",
      "| GPU | Name                             | Active | LDA | GPU Memory | Vendor-ID | LUID       |\n",
      "|     |                                  |        |     |            | Device-ID | UUID       |\n",
      "|---------------------------------------------------------------------------------------------|\n",
      "| 0   | NVIDIA GeForce RTX 3090          | Yes: 0 |     | 24822   MB | 10de      | 0          |\n",
      "|     |                                  |        |     |            | 2204      | 3f50dd6e.. |\n",
      "|=============================================================================================|\n",
      "| OS: Linux yizhou-Z370-AORUS-Gaming-5, Version: 5.15.0-41-generic\n",
      "| Processor: Intel(R) Core(TM) i7-8700K CPU @ 3.70GHz | Cores: Unknown | Logical: 12\n",
      "|---------------------------------------------------------------------------------------------|\n",
      "| Total Memory (MB): 32046 | Free Memory: 16244\n",
      "| Total Page/Swap (MB): 2047 | Free Page/Swap: 2047\n",
      "|---------------------------------------------------------------------------------------------|\n",
      "2022-07-15 17:24:30 [689ms] [Warning] [carb.cudainterop.plugin] On Linux only, CUDA and the display driver does not support IOMMU-enabled bare-metal PCIe peer to peer memory copy.\n",
      "However, CUDA and the display driver does support IOMMU via VM pass through. As a consequence, users on Linux,\n",
      "when running on a native bare metal system, should disable the IOMMU. The IOMMU should be enabled and the VFIO driver\n",
      "be used as a PCIe pass through for virtual machines.\n",
      "[0.708s] [ext: omni.kit.pipapi-0.0.0] startup\n",
      "[0.718s] [ext: omni.kit.pip_archive-0.0.0] startup\n",
      "[0.722s] [ext: omni.isaac.core_archive-0.3.0] startup\n",
      "[0.832s] [ext: omni.usd.config-1.0.0] startup\n",
      "[0.834s] [ext: omni.usd.libs-1.0.0] startup\n",
      "[0.969s] [ext: omni.isaac.ml_archive-0.1.0] startup\n",
      "[1.016s] [ext: omni.kit.loop-isaac-0.1.0] startup\n",
      "[1.018s] [ext: omni.kit.async_engine-0.0.0] startup\n",
      "[1.019s] [ext: omni.appwindow-1.0.0] startup\n",
      "[1.022s] [ext: omni.client-0.1.0] startup\n",
      "[1.032s] [ext: omni.kit.test-0.0.0] startup\n",
      "[1.055s] [ext: omni.kit.renderer.core-0.0.0] startup\n",
      "[1.131s] [ext: omni.ui-2.10.3] startup\n",
      "[1.151s] [ext: carb.audio-0.1.0] startup\n",
      "[1.171s] [ext: omni.kit.mainwindow-0.0.0] startup\n",
      "[1.174s] [ext: omni.uiaudio-1.0.0] startup\n",
      "[1.176s] [ext: omni.kit.uiapp-0.0.0] startup\n",
      "[1.176s] [ext: omni.usd.schema.physics-1.0.0] startup\n",
      "[1.228s] [ext: omni.usd.schema.audio-0.0.0] startup\n",
      "[1.235s] [ext: omni.usd.schema.semantics-0.0.0] startup\n",
      "[1.246s] [ext: omni.usd.schema.omnigraph-1.0.0] startup\n",
      "[1.255s] [ext: omni.usd.schema.anim-0.0.0] startup\n",
      "[1.296s] [ext: omni.kit.commands-1.2.2] startup\n",
      "[1.301s] [ext: omni.timeline-1.0.2] startup\n",
      "[1.303s] [ext: omni.hydra.scene_delegate-0.2.0] startup\n",
      "[1.310s] [ext: omni.kit.audiodeviceenum-1.0.0] startup\n",
      "[1.311s] [ext: omni.usd-1.5.3] startup\n",
      "[1.425s] [ext: omni.kit.asset_converter-1.2.30] startup\n",
      "[1.442s] [ext: omni.usd.schema.isaac-0.2.0] startup\n",
      "[1.483s] [ext: omni.usd.schema.physx-0.0.0] startup\n",
      "[1.510s] [ext: omni.kit.search_core-1.0.2] startup\n",
      "[1.512s] [ext: omni.renderer-rtx-0.0.0] startup\n",
      "[1.513s] [ext: omni.kit.widget.graph-1.4.2] startup\n",
      "[1.519s] [ext: omni.kit.widget.filebrowser-2.2.26] startup\n",
      "[1.525s] [ext: omni.kit.window.popup_dialog-2.0.7] startup\n",
      "[1.531s] [ext: omni.mdl.neuraylib-0.1.0] startup\n",
      "[1.535s] [ext: omni.kit.widget.path_field-2.0.3] startup\n",
      "[1.536s] [ext: omni.kit.widget.versioning-1.3.8] startup\n",
      "[1.538s] [ext: omni.kit.notification_manager-1.0.5] startup\n",
      "[1.540s] [ext: omni.kit.widget.browser_bar-2.0.3] startup\n",
      "[1.541s] [ext: omni.kit.menu.utils-1.2.11] startup\n",
      "[1.551s] [ext: omni.kit.window.filepicker-2.4.29] startup\n"
     ]
    },
    {
     "name": "stderr",
     "output_type": "stream",
     "text": [
      "OmniAssetFileFormat\n"
     ]
    },
    {
     "name": "stdout",
     "output_type": "stream",
     "text": [
      "[1.603s] [ext: omni.mdl-0.1.0] startup\n",
      "[1.624s] [ext: omni.kit.menu.create-1.0.2] startup\n",
      "[1.625s] [ext: omni.kit.window.file_exporter-1.0.4] startup\n",
      "[1.627s] [ext: omni.kit.window.drop_support-1.0.0] startup\n",
      "[1.628s] [ext: omni.kit.material.library-1.3.10] startup\n",
      "[1.631s] [ext: omni.kit.window.property-1.6.3] startup\n",
      "[1.632s] [ext: omni.kit.context_menu-1.3.9] startup\n",
      "[1.635s] [ext: omni.kit.window.file_importer-1.0.4] startup\n",
      "[1.636s] [ext: omni.kit.stage_templates-1.1.2] startup\n",
      "[1.638s] [ext: omni.kit.widget.stage-2.6.15] startup\n",
      "[1.642s] [ext: omni.kit.window.file-1.3.16] startup\n",
      "[1.645s] [ext: omni.debugdraw-0.1.0] startup\n",
      "[1.650s] [ext: omni.kit.window.content_browser-2.4.28] startup\n",
      "[1.662s] [ext: omni.kit.widget.prompt-1.0.1] startup\n",
      "[1.663s] [ext: omni.kit.property.usd-3.14.8] startup\n",
      "[1.699s] [ext: omni.hydra.engine.stats-1.0.0] startup\n",
      "[1.706s] [ext: omni.kit.widget.settings-1.0.0] startup\n",
      "[1.708s] [ext: omni.graph.tools-1.3.5] startup\n",
      "[1.732s] [ext: omni.graph.core-2.27.0] startup\n",
      "[1.736s] [ext: omni.hydra.rtx-0.1.0] startup\n",
      "[1.745s] [ext: omni.kit.viewport.legacy_gizmos-1.0.0] startup\n",
      "[1.748s] [ext: omni.ui_query-1.1.1] startup\n",
      "[1.750s] [ext: omni.graph-1.22.1] startup\n",
      "[1.844s] [ext: omni.kit.window.viewport-0.0.0] startup\n"
     ]
    },
    {
     "name": "stderr",
     "output_type": "stream",
     "text": [
      "2022-07-15 17:24:32 [1,922ms] [Error] [rtx.neuraylib.plugin] [DYNLIB:IO]   0.1   DYNLIB io   error: /home/yizhou/.local/share/ov/pkg/isaac_sim-2022.1.0/kit/python/bin/libs/iray/libnvindex.so: cannot open shared object file: No such file or directory\n",
      "2022-07-15 17:24:32 [1,922ms] [Error] [rtx.neuraylib.plugin] [INDEX:MAIN]   0.1   INDEX  main error: Failed to load /home/yizhou/.local/share/ov/pkg/isaac_sim-2022.1.0/kit/python/bin/libs/iray/libnvindex.so\n"
     ]
    },
    {
     "name": "stdout",
     "output_type": "stream",
     "text": [
      "Warp initialized:\n",
      "   Version: 0.2.1\n",
      "   Using CUDA device: NVIDIA GeForce RTX 3090\n",
      "   Using CPU compiler: /usr/bin/g++\n",
      "[2.759s] [ext: omni.kit.window.preferences-1.2.1] startup\n",
      "[2.799s] [ext: omni.kit.ui_test-1.2.0] startup\n",
      "[2.802s] [ext: omni.graph.ui-1.6.1] startup\n",
      "[2.827s] [ext: omni.kvdb-0.0.0] startup\n",
      "[2.831s] [ext: omni.kit.widget.searchfield-1.0.6] startup\n",
      "[2.833s] [ext: omni.convexdecomposition-1.4.12] startup\n",
      "[2.837s] [ext: omni.graph.action-1.17.0] startup\n",
      "[2.852s] [ext: omni.localcache-0.0.0] startup\n",
      "[2.855s] [ext: omni.usdphysics-1.4.12] startup\n",
      "[2.858s] [ext: omni.graph.scriptnode-0.5.0] startup\n",
      "[2.861s] [ext: omni.physx-1.4.12-5.1] startup\n",
      "2022-07-15 17:24:33 [2,869ms] [Warning] [omni.kvdb.plugin] wasn't able to load the meta database, trying to repair it ...\n",
      "2022-07-15 17:24:33 [2,908ms] [Warning] [omni.kvdb.plugin] repair failed\n",
      "[2.916s] [ext: omni.kit.usd_undo-0.1.0] startup\n",
      "[2.918s] [ext: omni.graph.nodes-1.25.0] startup\n",
      "[2.938s] [ext: omni.physx.commands-1.4.12-5.1] startup\n",
      "[2.947s] [ext: omni.syntheticdata-0.2.1] startup\n",
      "[2.997s] [ext: omni.physx.ui-1.4.12-5.1] startup\n",
      "[3.089s] [ext: omni.warp-0.2.1] startup\n",
      "[4.976s] [ext: omni.kit.renderer.capture-0.0.0] startup\n",
      "[4.980s] [ext: omni.kit.property.material-1.8.5] startup\n",
      "[4.983s] [ext: omni.physx.demos-1.4.12-5.1] startup\n",
      "[4.985s] [ext: omni.physics.tensors-0.1.0] startup\n",
      "[4.994s] [ext: omni.kit.property.physx-0.1.0] startup\n",
      "2022-07-15 17:24:35 [5,052ms] [Warning] [omni.physx.plugin] Deprecated: getSimulationEventStream is deprecated, please use getSimulationEventStreamV2\n",
      "[5.062s] [ext: omni.kit.window.toolbar-1.2.4] startup\n",
      "[5.071s] [ext: omni.physx.tensors-0.1.0] startup\n",
      "[5.076s] [ext: omni.physx.vehicle-1.4.12-5.1] startup\n",
      "[5.087s] [ext: omni.physx.tests-1.4.12-5.1] startup\n",
      "[5.141s] [ext: omni.kit.numpy.common-0.1.0] startup\n",
      "[5.144s] [ext: omni.physx.camera-1.4.12-5.1] startup\n",
      "[5.152s] [ext: omni.physx.cct-1.4.12-5.1] startup\n",
      "[5.223s] [ext: omni.isaac.version-1.0.0] startup\n",
      "[5.224s] [ext: omni.isaac.dynamic_control-1.0.0] startup\n",
      "[5.232s] [ext: omni.physx.bundle-1.4.12-5.1] startup\n",
      "[5.232s] [ext: omni.kit.primitive.mesh-1.0.0] startup\n",
      "[5.236s] [ext: omni.command.usd-1.0.1] startup\n",
      "[5.239s] [ext: omni.isaac.core-1.15.1] startup\n",
      "[5.472s] [ext: omni.replicator.core-1.2.0] startup\n",
      "[5.572s] [ext: omni.kit.window.extensions-1.1.0] startup\n",
      "[5.577s] [ext: omni.isaac.core_nodes-0.9.0] startup\n",
      "[5.587s] [ext: omni.isaac.ui-0.2.1] startup\n",
      "[5.589s] [ext: omni.kit.window.script_editor-1.6.2] startup\n",
      "[5.598s] [ext: omni.isaac.wheeled_robots-0.5.4] startup\n",
      "[5.608s] [ext: omni.kit.menu.common-1.0.0] startup\n",
      "[5.610s] [ext: omni.kit.graph.delegate.default-1.0.15] startup\n",
      "[5.613s] [ext: omni.kit.graph.delegate.modern-1.6.0] startup\n",
      "[5.615s] [ext: omni.kit.widget.zoombar-1.0.3] startup\n",
      "[5.617s] [ext: omni.kit.graph.editor.core-1.3.3] startup\n",
      "[5.619s] [ext: omni.kit.widget.stage_icons-1.0.2] startup\n",
      "[5.621s] [ext: omni.kit.browser.core-2.0.12] startup\n",
      "[5.625s] [ext: omni.kit.graph.widget.variables-2.0.2] startup\n",
      "[5.627s] [ext: omni.kit.window.stage-2.3.7] startup\n",
      "[5.630s] [ext: omni.kit.browser.folder.core-1.1.13] startup\n",
      "[5.632s] [ext: omni.graph.window.core-1.22.1] startup\n",
      "[5.639s] [ext: omni.isaac.lula-1.1.0] startup\n",
      "[5.665s] [ext: omni.graph.instancing-1.1.4] startup\n",
      "[5.671s] [ext: omni.graph.window.action-1.3.8] startup\n",
      "[5.672s] [ext: omni.graph.tutorials-1.1.2] startup\n",
      "[5.686s] [ext: omni.rtx.window.settings-0.6.1] startup\n",
      "[5.692s] [ext: omni.isaac.motion_planning-0.2.0] startup\n",
      "[5.700s] [ext: omni.graph.bundle.action-1.0.0] startup\n",
      "[5.700s] [ext: omni.rtx.settings.core-0.5.5] startup\n",
      "[5.705s] [ext: omni.isaac.motion_generation-3.1.2] startup\n",
      "[5.709s] [ext: omni.isaac.kit-0.1.9] startup\n",
      "[5.710s] [ext: omni.isaac.debug_draw-0.1.2] startup\n",
      "[5.716s] [ext: omni.kit.selection-0.1.0] startup\n",
      "[5.717s] [ext: omni.isaac.franka-0.0.0] startup\n",
      "[5.718s] [ext: omni.kit.widget.layers-1.5.17] startup\n",
      "[5.732s] [ext: omni.kit.menu.edit-1.0.6] startup\n",
      "[5.733s] [ext: omni.isaac.isaac_sensor-0.3.4] startup\n",
      "2022-07-15 17:24:35 [5,732ms] [Warning] [omni.physx.plugin] Deprecated: getSimulationEventStream is deprecated, please use getSimulationEventStreamV2\n",
      "[5.741s] [ext: omni.kit.widget.live-0.1.0] startuOpening usd file at  omniverse://localhost/Users/yizhou/test_humanoid.usd  ...Done.\n",
      "Saving a temp livesync stage at  omniverse://localhost/Users/yizhou/test_humanoid.usd  ...Done.\n"
     ]
    }
   ],
   "source": [
    "from omni.isaac.kit import SimulationApp\n",
    "\n",
    "simulation_app = SimulationApp({\"headless\": True, \"open_usd\": f\"omniverse://localhost/Users/{user}/test_humanoid.usd\", \n",
    "                                \"livesync_usd\": f\"omniverse://localhost/Users/{user}/test_humanoid.usd\"})\n"
   ]
  },
  {
   "cell_type": "code",
   "execution_count": 4,
   "id": "df5e8e28",
   "metadata": {},
   "outputs": [],
   "source": [
    "import omni\n",
    "from omni.isaac.core import World\n",
    "from pxr import Gf, Sdf, UsdGeom, UsdShade\n",
    "\n",
    "import torch\n",
    "import numpy as np"
   ]
  },
  {
   "cell_type": "code",
   "execution_count": 5,
   "id": "a526dc79",
   "metadata": {},
   "outputs": [],
   "source": [
    "world = World(physics_dt= 1.0 / 60, backend = \"torch\")"
   ]
  },
  {
   "cell_type": "code",
   "execution_count": 6,
   "id": "946bc535",
   "metadata": {},
   "outputs": [],
   "source": [
    "from omni.isaac.core.utils.stage import set_stage_up_axis\n",
    "\n",
    "set_stage_up_axis(\"y\")\n",
    "world.get_physics_context().set_gravity(-9.81)"
   ]
  },
  {
   "cell_type": "code",
   "execution_count": 7,
   "id": "d39ebae0",
   "metadata": {},
   "outputs": [
    {
     "data": {
      "text/plain": [
       "'Y'"
      ]
     },
     "execution_count": 7,
     "metadata": {},
     "output_type": "execute_result"
    }
   ],
   "source": [
    "from omni.isaac.core.utils.stage import get_current_stage\n",
    "UsdGeom.GetStageUpAxis(get_current_stage())"
   ]
  },
  {
   "cell_type": "code",
   "execution_count": 8,
   "id": "04aa76f2",
   "metadata": {},
   "outputs": [
    {
     "data": {
      "text/plain": [
       "Gf.Vec3f(0.0, -1.0, 0.0)"
      ]
     },
     "execution_count": 8,
     "metadata": {},
     "output_type": "execute_result"
    }
   ],
   "source": [
    "world.get_physics_context()._physics_scene.GetGravityDirectionAttr().Get()"
   ]
  },
  {
   "cell_type": "code",
   "execution_count": 9,
   "id": "be5c294e",
   "metadata": {
    "scrolled": true
   },
   "outputs": [],
   "source": [
    "# world.scene.add_default_ground_plane()"
   ]
  },
  {
   "cell_type": "code",
   "execution_count": 10,
   "id": "8cceb442",
   "metadata": {},
   "outputs": [
    {
     "data": {
      "text/plain": [
       "847"
      ]
     },
     "execution_count": 10,
     "metadata": {},
     "output_type": "execute_result"
    }
   ],
   "source": [
    "# get prims\n",
    "len(list(world.scene.stage.TraverseAll()))"
   ]
  },
  {
   "cell_type": "code",
   "execution_count": 11,
   "id": "8f3940b5",
   "metadata": {},
   "outputs": [],
   "source": [
    "world.render()"
   ]
  },
  {
   "cell_type": "code",
   "execution_count": 12,
   "id": "f41cb92a",
   "metadata": {},
   "outputs": [],
   "source": [
    "from rl.humanoid_env import HumanoidEnv\n",
    "\n",
    "env = HumanoidEnv(\"/World/envs/*/humanoid/torso\")"
   ]
  },
  {
   "cell_type": "code",
   "execution_count": 6,
   "id": "f67fbb1b",
   "metadata": {},
   "outputs": [],
   "source": [
    "from rl.trainer import Trainer"
   ]
  },
  {
   "cell_type": "code",
   "execution_count": 7,
   "id": "e6225e81",
   "metadata": {},
   "outputs": [],
   "source": [
    "trainer = Trainer(54, 21)"
   ]
  },
  {
   "cell_type": "code",
   "execution_count": 15,
   "id": "b845560e",
   "metadata": {},
   "outputs": [],
   "source": [
    "world.reset()"
   ]
  },
  {
   "cell_type": "code",
   "execution_count": 16,
   "id": "ecae9acc",
   "metadata": {},
   "outputs": [
    {
     "name": "stdout",
     "output_type": "stream",
     "text": [
      "simlation context torch None\n",
      "num_envs 8\n",
      "default joint state tensor([[0., 0., 0., 0., 0., 0., 0., 0., 0., 0., 0., 0., 0., 0., 0., 0., 0., 0., 0., 0., 0.],\n",
      "        [0., 0., 0., 0., 0., 0., 0., 0., 0., 0., 0., 0., 0., 0., 0., 0., 0., 0., 0., 0., 0.],\n",
      "        [0., 0., 0., 0., 0., 0., 0., 0., 0., 0., 0., 0., 0., 0., 0., 0., 0., 0., 0., 0., 0.],\n",
      "        [0., 0., 0., 0., 0., 0., 0., 0., 0., 0., 0., 0., 0., 0., 0., 0., 0., 0., 0., 0., 0.],\n",
      "        [0., 0., 0., 0., 0., 0., 0., 0., 0., 0., 0., 0., 0., 0., 0., 0., 0., 0., 0., 0., 0.],\n",
      "        [0., 0., 0., 0., 0., 0., 0., 0., 0., 0., 0., 0., 0., 0., 0., 0., 0., 0., 0., 0., 0.],\n",
      "        [0., 0., 0., 0., 0., 0., 0., 0., 0., 0., 0., 0., 0., 0., 0., 0., 0., 0., 0., 0., 0.],\n",
      "        [0., 0., 0., 0., 0., 0., 0., 0., 0., 0., 0., 0., 0., 0., 0., 0., 0., 0., 0., 0., 0.]]) tensor([[0., 0., 0., 0., 0., 0., 0., 0., 0., 0., 0., 0., 0., 0., 0., 0., 0., 0., 0., 0., 0.],\n",
      "        [0., 0., 0., 0., 0., 0., 0., 0., 0., 0., 0., 0., 0., 0., 0., 0., 0., 0., 0., 0., 0.],\n",
      "        [0., 0., 0., 0., 0., 0., 0., 0., 0., 0., 0., 0., 0., 0., 0., 0., 0., 0., 0., 0., 0.],\n",
      "        [0., 0., 0., 0., 0., 0., 0., 0., 0., 0., 0., 0., 0., 0., 0., 0., 0., 0., 0., 0., 0.],\n",
      "        [0., 0., 0., 0., 0., 0., 0., 0., 0., 0., 0., 0., 0., 0., 0., 0., 0., 0., 0., 0., 0.],\n",
      "        [0., 0., 0., 0., 0., 0., 0., 0., 0., 0., 0., 0., 0., 0., 0., 0., 0., 0., 0., 0., 0.],\n",
      "        [0., 0., 0., 0., 0., 0., 0., 0., 0., 0., 0., 0., 0., 0., 0., 0., 0., 0., 0., 0., 0.],\n",
      "        [0., 0., 0., 0., 0., 0., 0., 0., 0., 0., 0., 0., 0., 0., 0., 0., 0., 0., 0., 0., 0.]]) tensor([[0., 0., 0., 0., 0., 0., 0., 0., 0., 0., 0., 0., 0., 0., 0., 0., 0., 0., 0., 0., 0.],\n",
      "        [0., 0., 0., 0., 0., 0., 0., 0., 0., 0., 0., 0., 0., 0., 0., 0., 0., 0., 0., 0., 0.],\n",
      "        [0., 0., 0., 0., 0., 0., 0., 0., 0., 0., 0., 0., 0., 0., 0., 0., 0., 0., 0., 0., 0.],\n",
      "        [0., 0., 0., 0., 0., 0., 0., 0., 0., 0., 0., 0., 0., 0., 0., 0., 0., 0., 0., 0., 0.],\n",
      "        [0., 0., 0., 0., 0., 0., 0., 0., 0., 0., 0., 0., 0., 0., 0., 0., 0., 0., 0., 0., 0.],\n",
      "        [0., 0., 0., 0., 0., 0., 0., 0., 0., 0., 0., 0., 0., 0., 0., 0., 0., 0., 0., 0., 0.],\n",
      "        [0., 0., 0., 0., 0., 0., 0., 0., 0., 0., 0., 0., 0., 0., 0., 0., 0., 0., 0., 0., 0.],\n",
      "        [0., 0., 0., 0., 0., 0., 0., 0., 0., 0., 0., 0., 0., 0., 0., 0., 0., 0., 0., 0., 0.]])\n"
     ]
    }
   ],
   "source": [
    "env.start()"
   ]
  },
  {
   "cell_type": "code",
   "execution_count": 17,
   "id": "59de5019",
   "metadata": {},
   "outputs": [
    {
     "data": {
      "text/plain": [
       "<omni.isaac.core.robots.robot_view.RobotView at 0x7f9f5005cf10>"
      ]
     },
     "execution_count": 17,
     "metadata": {},
     "output_type": "execute_result"
    }
   ],
   "source": [
    "world.scene.add(env.robots)"
   ]
  },
  {
   "cell_type": "code",
   "execution_count": 18,
   "id": "c4ae521b",
   "metadata": {},
   "outputs": [],
   "source": [
    "total_step = 0"
   ]
  },
  {
   "cell_type": "code",
   "execution_count": null,
   "id": "fd97fcc7",
   "metadata": {
    "scrolled": true
   },
   "outputs": [
    {
     "name": "stdout",
     "output_type": "stream",
     "text": [
      "total_step: 19400 13.581930160522461\n",
      "total_step: 19500 8.384346008300781\n",
      "total_step: 19600 10.080562591552734\n",
      "total_step: 19700 12.008214950561523\n",
      "total_step: 19800 8.374459266662598\n",
      "total_step: 19900 6.593589782714844\n",
      "total_step: 20000 7.812499523162842\n",
      "total_step: 20100 6.3965654373168945\n",
      "total_step: 20200 4.648714065551758\n",
      "total_step: 20300 5.558215618133545\n",
      "total_step: 20400 6.8087358474731445\n",
      "total_step: 20500 8.109797477722168\n",
      "total_step: 20600 6.837268829345703\n",
      "total_step: 20700 6.8780436515808105\n",
      "total_step: 20800 7.141067028045654\n",
      "total_step: 20900 2.0374999046325684\n"
     ]
    }
   ],
   "source": [
    "for i in range(50000):\n",
    "    total_step += 1\n",
    "    # copy old obs\n",
    "    old_obs_buf = env.obs_buf.clone()\n",
    "    \n",
    "    # step\n",
    "    if total_step < trainer.warm_up_steps or np.random.rand() < 1000 / total_step:\n",
    "        actions = 2 * torch.rand(env.num_envs, 21) - 1\n",
    "        actions = actions.to(env.device)\n",
    "    else:\n",
    "        actions = trainer.sample_action(old_obs_buf)\n",
    "        \n",
    "    env.step(actions)\n",
    "    world.step(render=False)\n",
    "    \n",
    "    # renew obs\n",
    "    env.compute_observations()\n",
    "    new_obs_buf = env.obs_buf.clone()\n",
    "    reward, done = env.compute_reward()\n",
    "    \n",
    "    # stack memory\n",
    "    if torch.max(new_obs_buf) < 1e3:\n",
    "        # only record reasonble results\n",
    "        trainer.buf.add_batch(old_obs_buf, actions, new_obs_buf, reward, done)\n",
    "    \n",
    "    if total_step % 100 == 0:\n",
    "        world.render()\n",
    "        # print(total_step, \"obs peek\", \"reward: \", *reward.tolist(), \"\\n done: \", *done.tolist())\n",
    "        print(\"total_step:\", total_step, torch.mean(env.reward_buf).item())\n",
    "        \n",
    "    if total_step % 1000 < 30:\n",
    "        world.render()\n",
    "    \n",
    "    # need to reset\n",
    "    if torch.sum(done) >= 1:\n",
    "        env_ids = []\n",
    "        for i in range(len(done)):\n",
    "            if done[i] > 0:\n",
    "                env_ids.append(i)\n",
    "\n",
    "        env.reset_idx(env_ids)\n",
    "        \n",
    "    # train\n",
    "    if trainer.buf.size > 1000:\n",
    "        # print(\"training sac\")\n",
    "        trainer.train_debug()"
   ]
  },
  {
   "cell_type": "code",
   "execution_count": null,
   "id": "52c61c3e",
   "metadata": {},
   "outputs": [],
   "source": [
    "world.render()"
   ]
  },
  {
   "cell_type": "code",
   "execution_count": 22,
   "id": "3aef5f1d",
   "metadata": {},
   "outputs": [],
   "source": [
    "world.reset()\n",
    "# env.robots.initialize()"
   ]
  },
  {
   "cell_type": "code",
   "execution_count": null,
   "id": "e005eb20",
   "metadata": {},
   "outputs": [],
   "source": [
    "env.compute_observations()"
   ]
  },
  {
   "cell_type": "code",
   "execution_count": null,
   "id": "52020266",
   "metadata": {},
   "outputs": [],
   "source": [
    "actions = trainer.sample_action(old_obs_buf)"
   ]
  },
  {
   "cell_type": "code",
   "execution_count": null,
   "id": "39cf0805",
   "metadata": {},
   "outputs": [],
   "source": [
    "actions"
   ]
  },
  {
   "cell_type": "code",
   "execution_count": null,
   "id": "525ebea0",
   "metadata": {},
   "outputs": [],
   "source": []
  }
 ],
 "metadata": {
  "kernelspec": {
   "display_name": "Isaac Sim Python 3",
   "language": "python",
   "name": "isaac_sim_python3"
  },
  "language_info": {
   "codemirror_mode": {
    "name": "ipython",
    "version": 3
   },
   "file_extension": ".py",
   "mimetype": "text/x-python",
   "name": "python",
   "nbconvert_exporter": "python",
   "pygments_lexer": "ipython3",
   "version": "3.7.13"
  }
 },
 "nbformat": 4,
 "nbformat_minor": 5
}
