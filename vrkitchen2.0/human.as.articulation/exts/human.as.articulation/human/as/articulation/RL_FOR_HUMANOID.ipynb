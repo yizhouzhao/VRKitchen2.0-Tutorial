{
 "cells": [
  {
   "cell_type": "code",
   "execution_count": 1,
   "id": "d0513c1f",
   "metadata": {},
   "outputs": [],
   "source": [
    "import getpass\n",
    "\n",
    "user = getpass.getuser()"
   ]
  },
  {
   "cell_type": "code",
   "execution_count": 2,
   "id": "a03d2f53",
   "metadata": {},
   "outputs": [
    {
     "data": {
      "text/plain": [
       "'yizhou'"
      ]
     },
     "execution_count": 2,
     "metadata": {},
     "output_type": "execute_result"
    }
   ],
   "source": [
    "user"
   ]
  },
  {
   "cell_type": "code",
   "execution_count": 3,
   "id": "5729f128",
   "metadata": {},
   "outputs": [
    {
     "name": "stdout",
     "output_type": "stream",
     "text": [
      "Starting kit application with the fillowing args:  ['/home/yizhou/.local/share/ov/pkg/isaac_sim-2022.1.0/exts/omni.isaac.kit/omni/isaac/kit/simulation_app.py', '/home/yizhou/.local/share/ov/pkg/isaac_sim-2022.1.0/apps/omni.isaac.sim.python.kit', '--/app/tokens/exe-path=/home/yizhou/.local/share/ov/pkg/isaac_sim-2022.1.0/kit', '--/persistent/app/viewport/displayOptions=3094', '--/rtx/materialDb/syncLoads=True', '--/rtx/hydra/materialSyncLoads=True--/omni.kit.plugin/syncUsdLoads=True', '--/app/renderer/resolution/width=1280', '--/app/renderer/resolution/height=720', '--/app/window/width=1440', '--/app/window/height=900', '--/renderer/multiGpu/enabled=True', '--ext-folder', '/home/yizhou/.local/share/ov/pkg/isaac_sim-2022.1.0/exts', '--ext-folder', '/home/yizhou/.local/share/ov/pkg/isaac_sim-2022.1.0/apps', '--portable', '--no-window']\n",
      "Passing the following args to the base kit application:  ['-f', '/home/yizhou/.local/share/jupyter/runtime/kernel-e5aceb26-740b-4a11-9a43-a0bbd195ae52.json']\n",
      "[Warning] [omni.kit.app.plugin] No crash reporter present, dumps uploading isn't available.\n",
      "[Info] [carb] Logging to file: /home/yizhou/.local/share/ov/pkg/isaac_sim-2022.1.0/kit/logs/Kit/Isaac-Sim/2022.1/kit_20220713_120618.log\n",
      "[0.080s] [ext: omni.stats-0.0.0] startup\n",
      "[0.117s] [ext: omni.gpu_foundation-0.0.0] startup\n",
      "2022-07-13 19:06:18 [116ms] [Warning] [carb] FrameworkImpl::setDefaultPlugin(client: omni.gpu_foundation_factory.plugin, desc : [carb::graphics::Graphics v2.5], plugin : carb.graphics-vulkan.plugin) failed. Plugin selection is locked, because the interface was previously acquired by: \n",
      "[0.125s] [ext: carb.windowing.plugins-1.0.0] startup\n",
      "2022-07-13 19:06:18 [127ms] [Warning] [carb.windowing-glfw.gamepad] Joystick with unknown remapping detected (will be ignored):  Generic X-Box pad [030000005e040000120b000009050000]\n",
      "[0.133s] [ext: omni.assets.plugins-0.0.0] startup\n",
      "[0.134s] [ext: omni.kit.renderer.init-0.0.0] startup\n",
      "\n",
      "|---------------------------------------------------------------------------------------------|\n",
      "| Driver Version: 510.73.5      | Graphics API: Vulkan\n",
      "|=============================================================================================|\n",
      "| GPU | Name                             | Active | LDA | GPU Memory | Vendor-ID | LUID       |\n",
      "|     |                                  |        |     |            | Device-ID | UUID       |\n",
      "|---------------------------------------------------------------------------------------------|\n",
      "| 0   | NVIDIA GeForce RTX 3090          | Yes: 0 |     | 24822   MB | 10de      | 0          |\n",
      "|     |                                  |        |     |            | 2204      | 3f50dd6e.. |\n",
      "|=============================================================================================|\n",
      "| OS: Linux yizhou-Z370-AORUS-Gaming-5, Version: 5.13.0-52-generic\n",
      "| Processor: Intel(R) Core(TM) i7-8700K CPU @ 3.70GHz | Cores: Unknown | Logical: 12\n",
      "|---------------------------------------------------------------------------------------------|\n",
      "| Total Memory (MB): 32046 | Free Memory: 15252\n",
      "| Total Page/Swap (MB): 2047 | Free Page/Swap: 2047\n",
      "|---------------------------------------------------------------------------------------------|\n",
      "2022-07-13 19:06:19 [695ms] [Warning] [carb.cudainterop.plugin] On Linux only, CUDA and the display driver does not support IOMMU-enabled bare-metal PCIe peer to peer memory copy.\n",
      "However, CUDA and the display driver does support IOMMU via VM pass through. As a consequence, users on Linux,\n",
      "when running on a native bare metal system, should disable the IOMMU. The IOMMU should be enabled and the VFIO driver\n",
      "be used as a PCIe pass through for virtual machines.\n",
      "[0.713s] [ext: omni.kit.pipapi-0.0.0] startup\n",
      "[0.723s] [ext: omni.kit.pip_archive-0.0.0] startup\n",
      "[0.727s] [ext: omni.isaac.core_archive-0.3.0] startup\n",
      "[0.837s] [ext: omni.usd.config-1.0.0] startup\n",
      "[0.839s] [ext: omni.usd.libs-1.0.0] startup\n",
      "[0.990s] [ext: omni.isaac.ml_archive-0.1.0] startup\n",
      "[1.037s] [ext: omni.kit.loop-isaac-0.1.0] startup\n",
      "[1.038s] [ext: omni.kit.async_engine-0.0.0] startup\n",
      "[1.039s] [ext: omni.appwindow-1.0.0] startup\n",
      "[1.042s] [ext: omni.client-0.1.0] startup\n",
      "[1.051s] [ext: omni.kit.test-0.0.0] startup\n",
      "[1.074s] [ext: omni.kit.renderer.core-0.0.0] startup\n",
      "[1.146s] [ext: omni.ui-2.10.3] startup\n",
      "[1.162s] [ext: carb.audio-0.1.0] startup\n",
      "[1.181s] [ext: omni.kit.mainwindow-0.0.0] startup\n",
      "[1.185s] [ext: omni.uiaudio-1.0.0] startup\n",
      "[1.188s] [ext: omni.kit.uiapp-0.0.0] startup\n",
      "[1.188s] [ext: omni.usd.schema.physics-1.0.0] startup\n",
      "[1.231s] [ext: omni.usd.schema.audio-0.0.0] startup\n",
      "[1.238s] [ext: omni.usd.schema.semantics-0.0.0] startup\n",
      "[1.249s] [ext: omni.usd.schema.omnigraph-1.0.0] startup\n",
      "[1.258s] [ext: omni.usd.schema.anim-0.0.0] startup\n",
      "[1.300s] [ext: omni.kit.commands-1.2.2] startup\n",
      "[1.305s] [ext: omni.timeline-1.0.2] startup\n",
      "[1.307s] [ext: omni.hydra.scene_delegate-0.2.0] startup\n",
      "[1.314s] [ext: omni.kit.audiodeviceenum-1.0.0] startup\n",
      "[1.316s] [ext: omni.usd-1.5.3] startup\n",
      "[1.401s] [ext: omni.kit.asset_converter-1.2.30] startup\n",
      "[1.415s] [ext: omni.usd.schema.isaac-0.2.0] startup\n",
      "[1.454s] [ext: omni.usd.schema.physx-0.0.0] startup\n",
      "[1.483s] [ext: omni.kit.search_core-1.0.2] startup\n",
      "[1.484s] [ext: omni.renderer-rtx-0.0.0] startup\n",
      "[1.485s] [ext: omni.kit.widget.graph-1.4.2] startup\n",
      "[1.492s] [ext: omni.kit.widget.filebrowser-2.2.26] startup\n",
      "[1.497s] [ext: omni.kit.window.popup_dialog-2.0.7] startup\n",
      "[1.503s] [ext: omni.mdl.neuraylib-0.1.0] startup\n",
      "[1.506s] [ext: omni.kit.widget.path_field-2.0.3] startup\n",
      "[1.507s] [ext: omni.kit.widget.versioning-1.3.8] startup\n",
      "[1.509s] [ext: omni.kit.notification_manager-1.0.5] startup\n",
      "[1.512s] [ext: omni.kit.widget.browser_bar-2.0.3] startup\n",
      "[1.513s] [ext: omni.kit.menu.utils-1.2.11] startup\n",
      "[1.522s] [ext: omni.kit.window.filepicker-2.4.29] startup\n"
     ]
    },
    {
     "name": "stderr",
     "output_type": "stream",
     "text": [
      "OmniAssetFileFormat\n"
     ]
    },
    {
     "name": "stdout",
     "output_type": "stream",
     "text": [
      "[1.574s] [ext: omni.mdl-0.1.0] startup\n",
      "[1.595s] [ext: omni.kit.menu.create-1.0.2] startup\n",
      "[1.596s] [ext: omni.kit.window.file_exporter-1.0.4] startup\n",
      "[1.598s] [ext: omni.kit.window.drop_support-1.0.0] startup\n",
      "[1.598s] [ext: omni.kit.material.library-1.3.10] startup\n",
      "[1.601s] [ext: omni.kit.window.property-1.6.3] startup\n",
      "[1.602s] [ext: omni.kit.context_menu-1.3.9] startup\n",
      "[1.606s] [ext: omni.kit.window.file_importer-1.0.4] startup\n",
      "[1.606s] [ext: omni.kit.stage_templates-1.1.2] startup\n",
      "[1.608s] [ext: omni.kit.widget.stage-2.6.15] startup\n",
      "[1.612s] [ext: omni.kit.window.file-1.3.16] startup\n",
      "[1.614s] [ext: omni.debugdraw-0.1.0] startup\n",
      "[1.620s] [ext: omni.kit.window.content_browser-2.4.28] startup\n",
      "[1.631s] [ext: omni.kit.widget.prompt-1.0.1] startup\n",
      "[1.632s] [ext: omni.kit.property.usd-3.14.8] startup\n",
      "[1.666s] [ext: omni.hydra.engine.stats-1.0.0] startup\n",
      "[1.672s] [ext: omni.kit.widget.settings-1.0.0] startup\n",
      "[1.673s] [ext: omni.graph.tools-1.3.5] startup\n",
      "[1.696s] [ext: omni.graph.core-2.27.0] startup\n",
      "[1.700s] [ext: omni.hydra.rtx-0.1.0] startup\n",
      "[1.709s] [ext: omni.kit.viewport.legacy_gizmos-1.0.0] startup\n",
      "[1.712s] [ext: omni.ui_query-1.1.1] startup\n",
      "[1.714s] [ext: omni.graph-1.22.1] startup\n",
      "[1.806s] [ext: omni.kit.window.viewport-0.0.0] startup\n"
     ]
    },
    {
     "name": "stderr",
     "output_type": "stream",
     "text": [
      "2022-07-13 19:06:20 [1,884ms] [Error] [rtx.neuraylib.plugin] [DYNLIB:IO]   0.1   DYNLIB io   error: /home/yizhou/.local/share/ov/pkg/isaac_sim-2022.1.0/kit/python/bin/libs/iray/libnvindex.so: cannot open shared object file: No such file or directory\n",
      "2022-07-13 19:06:20 [1,884ms] [Error] [rtx.neuraylib.plugin] [INDEX:MAIN]   0.1   INDEX  main error: Failed to load /home/yizhou/.local/share/ov/pkg/isaac_sim-2022.1.0/kit/python/bin/libs/iray/libnvindex.so\n"
     ]
    },
    {
     "name": "stdout",
     "output_type": "stream",
     "text": [
      "Warp initialized:\n",
      "   Version: 0.2.1\n",
      "   Using CUDA device: NVIDIA GeForce RTX 3090\n",
      "   Using CPU compiler: /usr/bin/g++\n",
      "[2.674s] [ext: omni.kit.window.preferences-1.2.1] startup\n",
      "[2.715s] [ext: omni.kit.ui_test-1.2.0] startup\n",
      "[2.717s] [ext: omni.graph.ui-1.6.1] startup\n",
      "[2.741s] [ext: omni.kvdb-0.0.0] startup\n",
      "[2.744s] [ext: omni.kit.widget.searchfield-1.0.6] startup\n",
      "[2.746s] [ext: omni.convexdecomposition-1.4.12] startup\n",
      "[2.749s] [ext: omni.graph.action-1.17.0] startup\n",
      "[2.762s] [ext: omni.localcache-0.0.0] startup\n",
      "[2.765s] [ext: omni.usdphysics-1.4.12] startup\n",
      "[2.768s] [ext: omni.graph.scriptnode-0.5.0] startup\n",
      "[2.771s] [ext: omni.physx-1.4.12-5.1] startup\n",
      "2022-07-13 19:06:21 [2,779ms] [Warning] [omni.kvdb.plugin] wasn't able to load the meta database, trying to repair it ...\n",
      "2022-07-13 19:06:21 [2,818ms] [Warning] [omni.kvdb.plugin] repair failed\n",
      "[2.825s] [ext: omni.kit.usd_undo-0.1.0] startup\n",
      "[2.826s] [ext: omni.graph.nodes-1.25.0] startup\n",
      "[2.844s] [ext: omni.physx.commands-1.4.12-5.1] startup\n",
      "[2.850s] [ext: omni.syntheticdata-0.2.1] startup\n",
      "[2.888s] [ext: omni.physx.ui-1.4.12-5.1] startup\n",
      "[2.973s] [ext: omni.warp-0.2.1] startup\n",
      "[4.823s] [ext: omni.kit.renderer.capture-0.0.0] startup\n",
      "[4.826s] [ext: omni.kit.property.material-1.8.5] startup\n",
      "[4.829s] [ext: omni.physx.demos-1.4.12-5.1] startup\n",
      "[4.832s] [ext: omni.physics.tensors-0.1.0] startup\n",
      "[4.840s] [ext: omni.kit.property.physx-0.1.0] startup\n",
      "2022-07-13 19:06:23 [4,899ms] [Warning] [omni.physx.plugin] Deprecated: getSimulationEventStream is deprecated, please use getSimulationEventStreamV2\n",
      "[4.907s] [ext: omni.kit.window.toolbar-1.2.4] startup\n",
      "[4.916s] [ext: omni.physx.tensors-0.1.0] startup\n",
      "[4.922s] [ext: omni.physx.vehicle-1.4.12-5.1] startup\n",
      "[4.933s] [ext: omni.physx.tests-1.4.12-5.1] startup\n",
      "[4.985s] [ext: omni.kit.numpy.common-0.1.0] startup\n",
      "[4.988s] [ext: omni.physx.camera-1.4.12-5.1] startup\n",
      "[4.995s] [ext: omni.physx.cct-1.4.12-5.1] startup\n",
      "[5.062s] [ext: omni.isaac.version-1.0.0] startup\n",
      "[5.063s] [ext: omni.isaac.dynamic_control-1.0.0] startup\n",
      "[5.070s] [ext: omni.physx.bundle-1.4.12-5.1] startup\n",
      "[5.070s] [ext: omni.kit.primitive.mesh-1.0.0] startup\n",
      "[5.074s] [ext: omni.command.usd-1.0.1] startup\n",
      "[5.077s] [ext: omni.isaac.core-1.15.1] startup\n",
      "[5.348s] [ext: omni.replicator.core-1.2.0] startup\n",
      "[5.449s] [ext: omni.kit.window.extensions-1.1.0] startup\n",
      "[5.455s] [ext: omni.isaac.core_nodes-0.9.0] startup\n",
      "[5.466s] [ext: omni.isaac.ui-0.2.1] startup\n",
      "[5.468s] [ext: omni.kit.window.script_editor-1.6.2] startup\n",
      "[5.476s] [ext: omni.isaac.wheeled_robots-0.5.4] startup\n",
      "[5.486s] [ext: omni.kit.menu.common-1.0.0] startup\n",
      "[5.488s] [ext: omni.kit.graph.delegate.default-1.0.15] startup\n",
      "[5.490s] [ext: omni.kit.graph.delegate.modern-1.6.0] startup\n",
      "[5.492s] [ext: omni.kit.widget.zoombar-1.0.3] startup\n",
      "[5.493s] [ext: omni.kit.graph.editor.core-1.3.3] startup\n",
      "[5.495s] [ext: omni.kit.widget.stage_icons-1.0.2] startup\n",
      "[5.497s] [ext: omni.kit.browser.core-2.0.12] startup\n",
      "[5.501s] [ext: omni.kit.graph.widget.variables-2.0.2] startup\n",
      "[5.503s] [ext: omni.kit.window.stage-2.3.7] startup\n",
      "[5.506s] [ext: omni.kit.browser.folder.core-1.1.13] startup\n",
      "[5.509s] [ext: omni.graph.window.core-1.22.1] startup\n",
      "[5.515s] [ext: omni.isaac.lula-1.1.0] startup\n",
      "[5.525s] [ext: omni.graph.instancing-1.1.4] startup\n",
      "[5.531s] [ext: omni.graph.window.action-1.3.8] startup\n",
      "[5.532s] [ext: omni.graph.tutorials-1.1.2] startup\n",
      "[5.546s] [ext: omni.rtx.window.settings-0.6.1] startup\n",
      "[5.552s] [ext: omni.isaac.motion_planning-0.2.0] startup\n",
      "[5.561s] [ext: omni.graph.bundle.action-1.0.0] startup\n",
      "[5.561s] [ext: omni.rtx.settings.core-0.5.5] startup\n",
      "[5.566s] [ext: omni.isaac.motion_generation-3.1.2] startup\n",
      "[5.570s] [ext: omni.isaac.kit-0.1.9] startup\n",
      "[5.571s] [ext: omni.isaac.debug_draw-0.1.2] startup\n",
      "[5.577s] [ext: omni.kit.selection-0.1.0] startup\n",
      "[5.578s] [ext: omni.isaac.franka-0.0.0] startup\n",
      "[5.579s] [ext: omni.kit.widget.layers-1.5.17] startup\n",
      "[5.593s] [ext: omni.kit.menu.edit-1.0.6] startup\n",
      "[5.594s] [ext: omni.isaac.isaac_sensor-0.3.4] startup\n",
      "2022-07-13 19:06:23 [5,594ms] [Warning] [omni.physx.plugin] Deprecated: getSimulationEventStream is deprecated, please use getSimulationEventStreamV2\n",
      "[5.602s] [ext: omni.kit.widget.live-0.1.0] startuOpening usd file at  omniverse://localhost/Users/yizhou/test_humanoid.usd  ...Done.\n",
      "Saving a temp livesync stage at  omniverse://localhost/Users/yizhou/test_humanoid.usd  ...Done.\n"
     ]
    }
   ],
   "source": [
    "from omni.isaac.kit import SimulationApp\n",
    "\n",
    "simulation_app = SimulationApp({\"headless\": True, \"open_usd\": f\"omniverse://localhost/Users/{user}/test_humanoid.usd\", \n",
    "                                \"livesync_usd\": f\"omniverse://localhost/Users/{user}/test_humanoid.usd\"})\n"
   ]
  },
  {
   "cell_type": "code",
   "execution_count": 4,
   "id": "df5e8e28",
   "metadata": {},
   "outputs": [],
   "source": [
    "import omni\n",
    "from omni.isaac.core import World\n",
    "from pxr import Gf, Sdf, UsdGeom, UsdShade"
   ]
  },
  {
   "cell_type": "code",
   "execution_count": 5,
   "id": "a526dc79",
   "metadata": {},
   "outputs": [],
   "source": [
    "world = World(backend = \"torch\")"
   ]
  },
  {
   "cell_type": "code",
   "execution_count": 6,
   "id": "946bc535",
   "metadata": {},
   "outputs": [],
   "source": [
    "from omni.isaac.core.utils.stage import set_stage_up_axis\n",
    "\n",
    "set_stage_up_axis(\"y\")\n",
    "world.get_physics_context().set_gravity(-9.81)"
   ]
  },
  {
   "cell_type": "code",
   "execution_count": 7,
   "id": "d39ebae0",
   "metadata": {},
   "outputs": [
    {
     "data": {
      "text/plain": [
       "'Y'"
      ]
     },
     "execution_count": 7,
     "metadata": {},
     "output_type": "execute_result"
    }
   ],
   "source": [
    "from omni.isaac.core.utils.stage import get_current_stage\n",
    "UsdGeom.GetStageUpAxis(get_current_stage())"
   ]
  },
  {
   "cell_type": "code",
   "execution_count": 8,
   "id": "fba0aeaf",
   "metadata": {},
   "outputs": [
    {
     "data": {
      "text/plain": [
       "Gf.Vec3f(0.0, -1.0, 0.0)"
      ]
     },
     "execution_count": 8,
     "metadata": {},
     "output_type": "execute_result"
    }
   ],
   "source": [
    "world.get_physics_context()._physics_scene.GetGravityDirectionAttr().Get()"
   ]
  },
  {
   "cell_type": "code",
   "execution_count": 9,
   "id": "be5c294e",
   "metadata": {
    "scrolled": true
   },
   "outputs": [],
   "source": [
    "# world.scene.add_default_ground_plane()"
   ]
  },
  {
   "cell_type": "code",
   "execution_count": 10,
   "id": "8cceb442",
   "metadata": {},
   "outputs": [],
   "source": [
    "# get prims\n",
    "len(list(world.scene.stage.TraverseAll()))"
   ]
  },
  {
   "cell_type": "code",
   "execution_count": 11,
   "id": "8f3940b5",
   "metadata": {},
   "outputs": [],
   "source": [
    "world.render()"
   ]
  },
  {
   "cell_type": "code",
   "execution_count": 16,
   "id": "f41cb92a",
   "metadata": {},
   "outputs": [],
   "source": [
    "from rl.humanoid_env import HumanoidEnv"
   ]
  },
  {
   "cell_type": "code",
   "execution_count": 17,
   "id": "23ce3e48",
   "metadata": {},
   "outputs": [],
   "source": [
    "env = HumanoidEnv(\"/World/envs/*/humanoid/torso\")"
   ]
  },
  {
   "cell_type": "code",
   "execution_count": 20,
   "id": "b845560e",
   "metadata": {},
   "outputs": [],
   "source": [
    "world.reset()"
   ]
  },
  {
   "cell_type": "code",
   "execution_count": 21,
   "id": "ecae9acc",
   "metadata": {},
   "outputs": [
    {
     "name": "stdout",
     "output_type": "stream",
     "text": [
      "simlation context torch None\n",
      "num_envs 8\n",
      "default joint state tensor([[0., 0., 0., 0., 0., 0., 0., 0., 0., 0., 0., 0., 0., 0., 0., 0., 0., 0., 0., 0., 0.],\n",
      "        [0., 0., 0., 0., 0., 0., 0., 0., 0., 0., 0., 0., 0., 0., 0., 0., 0., 0., 0., 0., 0.],\n",
      "        [0., 0., 0., 0., 0., 0., 0., 0., 0., 0., 0., 0., 0., 0., 0., 0., 0., 0., 0., 0., 0.],\n",
      "        [0., 0., 0., 0., 0., 0., 0., 0., 0., 0., 0., 0., 0., 0., 0., 0., 0., 0., 0., 0., 0.],\n",
      "        [0., 0., 0., 0., 0., 0., 0., 0., 0., 0., 0., 0., 0., 0., 0., 0., 0., 0., 0., 0., 0.],\n",
      "        [0., 0., 0., 0., 0., 0., 0., 0., 0., 0., 0., 0., 0., 0., 0., 0., 0., 0., 0., 0., 0.],\n",
      "        [0., 0., 0., 0., 0., 0., 0., 0., 0., 0., 0., 0., 0., 0., 0., 0., 0., 0., 0., 0., 0.],\n",
      "        [0., 0., 0., 0., 0., 0., 0., 0., 0., 0., 0., 0., 0., 0., 0., 0., 0., 0., 0., 0., 0.]]) tensor([[0., 0., 0., 0., 0., 0., 0., 0., 0., 0., 0., 0., 0., 0., 0., 0., 0., 0., 0., 0., 0.],\n",
      "        [0., 0., 0., 0., 0., 0., 0., 0., 0., 0., 0., 0., 0., 0., 0., 0., 0., 0., 0., 0., 0.],\n",
      "        [0., 0., 0., 0., 0., 0., 0., 0., 0., 0., 0., 0., 0., 0., 0., 0., 0., 0., 0., 0., 0.],\n",
      "        [0., 0., 0., 0., 0., 0., 0., 0., 0., 0., 0., 0., 0., 0., 0., 0., 0., 0., 0., 0., 0.],\n",
      "        [0., 0., 0., 0., 0., 0., 0., 0., 0., 0., 0., 0., 0., 0., 0., 0., 0., 0., 0., 0., 0.],\n",
      "        [0., 0., 0., 0., 0., 0., 0., 0., 0., 0., 0., 0., 0., 0., 0., 0., 0., 0., 0., 0., 0.],\n",
      "        [0., 0., 0., 0., 0., 0., 0., 0., 0., 0., 0., 0., 0., 0., 0., 0., 0., 0., 0., 0., 0.],\n",
      "        [0., 0., 0., 0., 0., 0., 0., 0., 0., 0., 0., 0., 0., 0., 0., 0., 0., 0., 0., 0., 0.]]) tensor([[0., 0., 0., 0., 0., 0., 0., 0., 0., 0., 0., 0., 0., 0., 0., 0., 0., 0., 0., 0., 0.],\n",
      "        [0., 0., 0., 0., 0., 0., 0., 0., 0., 0., 0., 0., 0., 0., 0., 0., 0., 0., 0., 0., 0.],\n",
      "        [0., 0., 0., 0., 0., 0., 0., 0., 0., 0., 0., 0., 0., 0., 0., 0., 0., 0., 0., 0., 0.],\n",
      "        [0., 0., 0., 0., 0., 0., 0., 0., 0., 0., 0., 0., 0., 0., 0., 0., 0., 0., 0., 0., 0.],\n",
      "        [0., 0., 0., 0., 0., 0., 0., 0., 0., 0., 0., 0., 0., 0., 0., 0., 0., 0., 0., 0., 0.],\n",
      "        [0., 0., 0., 0., 0., 0., 0., 0., 0., 0., 0., 0., 0., 0., 0., 0., 0., 0., 0., 0., 0.],\n",
      "        [0., 0., 0., 0., 0., 0., 0., 0., 0., 0., 0., 0., 0., 0., 0., 0., 0., 0., 0., 0., 0.],\n",
      "        [0., 0., 0., 0., 0., 0., 0., 0., 0., 0., 0., 0., 0., 0., 0., 0., 0., 0., 0., 0., 0.]])\n"
     ]
    }
   ],
   "source": [
    "env.start()"
   ]
  },
  {
   "cell_type": "code",
   "execution_count": 25,
   "id": "fd97fcc7",
   "metadata": {},
   "outputs": [
    {
     "name": "stdout",
     "output_type": "stream",
     "text": [
      "obs peek tensor([ 0.7746,  0.1328, -2.3421, -0.8195]) reward, done tensor([0.6000, 0.5000, 0.4646, 0.6000, 0.6000, 0.5000, 0.5000, 0.6000]) tensor([1, 1, 0, 0, 0, 1, 1, 1])\n",
      "obs peek tensor([ 0.7279,  0.1274, -2.2544, -0.9425]) reward, done tensor([0.6000, 0.5000, 0.4428, 0.6000, 0.6000, 0.4803, 0.5000, 0.6000]) tensor([1, 1, 0, 1, 0, 1, 1, 1])\n",
      "obs peek tensor([ 0.7016,  0.2374, -1.4151, -1.0917]) reward, done tensor([0.6000, 0.5000, 0.4257, 0.6000, 0.6000, 0.4583, 0.5000, 0.6000]) tensor([1, 1, 0, 1, 0, 1, 1, 1])\n",
      "obs peek tensor([ 0.6786,  0.0475, -1.2624, -1.0778]) reward, done tensor([0.6000, 0.5000, 0.4221, 0.6000, 0.6000, 0.4555, 0.5000, 0.6000]) tensor([1, 1, 0, 1, 1, 1, 1, 1])\n",
      "obs peek tensor([ 0.6632,  0.0085, -0.9791, -1.0343]) reward, done tensor([0.5000, 0.5000, 0.4374, 0.6000, 0.6000, 0.4592, 0.5000, 0.6000]) tensor([1, 1, 0, 1, 1, 1, 1, 1])\n",
      "obs peek tensor([ 0.6515,  0.0736,  0.0816, -0.8332]) reward, done tensor([0.5000, 0.5000, 0.4301, 0.6000, 0.6000, 0.4267, 0.6000, 0.6000]) tensor([1, 1, 0, 1, 1, 1, 1, 1])\n",
      "obs peek tensor([ 0.6352,  0.1459,  0.4645, -0.7631]) reward, done tensor([0.5000, 0.5000, 0.4314, 0.6000, 0.6000, 0.4242, 0.6000, 0.5000]) tensor([1, 1, 1, 1, 1, 1, 1, 1])\n",
      "obs peek tensor([ 0.6269,  0.0592,  0.0036, -0.9219]) reward, done tensor([0.5000, 0.5000, 0.4407, 0.6000, 0.6000, 0.4272, 0.6000, 0.5000]) tensor([1, 1, 1, 1, 1, 1, 1, 1])\n",
      "obs peek tensor([ 0.6237, -0.0484,  0.3277, -0.7970]) reward, done tensor([0.5000, 0.5000, 0.4633, 0.6000, 0.5000, 0.4106, 0.6000, 0.5000]) tensor([1, 1, 1, 1, 1, 1, 1, 1])\n",
      "obs peek tensor([ 0.6115,  0.0586,  0.1086, -0.8324]) reward, done tensor([0.5000, 0.5000, 0.4708, 0.6000, 0.6000, 0.3828, 0.6000, 0.5000]) tensor([1, 1, 1, 1, 1, 1, 1, 1])\n",
      "obs peek tensor([ 0.5991,  0.0186,  0.1596, -0.7515]) reward, done tensor([0.5000, 0.5000, 0.4910, 0.6000, 0.5000, 0.3457, 0.6000, 0.5000]) tensor([1, 1, 1, 1, 1, 1, 1, 1])\n",
      "obs peek tensor([ 0.5884, -0.0328,  0.1052, -0.7560]) reward, done tensor([0.5000, 0.5000, 0.4771, 0.6000, 0.5000, 0.3150, 0.6000, 0.6000]) tensor([1, 1, 1, 1, 1, 1, 1, 1])\n",
      "obs peek tensor([ 0.5736, -0.1511,  0.1564, -0.7443]) reward, done tensor([0.5000, 0.5000, 0.4705, 0.6000, 0.5000, 0.2807, 0.6000, 0.6000]) tensor([1, 1, 1, 1, 1, 1, 1, 1])\n",
      "obs peek tensor([ 0.5604, -0.3340,  0.0843, -0.8471]) reward, done tensor([0.5000, 0.5000, 0.4749, 0.6000, 0.5000, 0.2822, 0.6000, 0.6000]) tensor([1, 1, 1, 1, 1, 1, 1, 1])\n",
      "obs peek tensor([ 0.5420, -0.1688,  0.0866, -0.9190]) reward, done tensor([0.5000, 0.5000, 0.4383, 0.6000, 0.5000, 0.2884, 0.6000, 0.6000]) tensor([1, 1, 1, 1, 1, 1, 1, 1])\n",
      "obs peek tensor([ 0.5297, -0.2048,  0.0947, -0.9082]) reward, done tensor([0.5000, 0.5000, 0.3849, 0.5000, 0.5000, 0.2984, 0.6000, 0.6000]) tensor([1, 1, 1, 1, 1, 1, 1, 1])\n",
      "obs peek tensor([ 5.1552e-01, -1.9178e-01,  3.7467e-04, -9.4897e-01]) reward, done tensor([0.5000, 0.5000, 0.3913, 0.5000, 0.5000, 0.3278, 0.6000, 0.6000]) tensor([1, 1, 1, 1, 1, 1, 1, 1])\n",
      "obs peek tensor([ 0.4968, -0.2213,  0.0819, -1.1678]) reward, done tensor([0.5000, 0.5000, 0.3880, 0.5000, 0.5000, 0.3519, 0.6000, 0.6000]) tensor([1, 1, 1, 1, 1, 1, 1, 1])\n",
      "obs peek tensor([ 0.4829, -0.3969,  0.1407, -1.0974]) reward, done tensor([0.5000, 0.4910, 0.4183, 0.5000, 0.5000, 0.3334, 0.6000, 0.6000]) tensor([1, 1, 1, 1, 1, 1, 1, 1])\n",
      "obs peek tensor([ 0.4709, -0.5756,  0.1425, -1.0972]) reward, done tensor([0.5000, 0.4814, 0.4325, 0.5000, 0.5000, 0.3513, 0.6000, 0.6000]) tensor([1, 1, 1, 1, 1, 1, 1, 1])\n",
      "obs peek tensor([ 0.4508, -0.7964,  0.1068, -0.6227]) reward, done tensor([0.5000, 0.4705, 0.4662, 0.5000, 0.5000, 0.3421, 0.6000, 0.6000]) tensor([1, 1, 1, 1, 1, 1, 1, 1])\n",
      "obs peek tensor([ 0.4407, -0.6655,  0.0608, -0.5220]) reward, done tensor([0.5000, 0.4589, 0.4857, 0.5000, 0.5000, 0.3532, 0.6000, 0.5000]) tensor([1, 1, 1, 1, 1, 1, 1, 1])\n",
      "obs peek tensor([ 0.4246, -0.7603, -0.0669, -0.5738]) reward, done tensor([0.5000, 0.4359, 0.5000, 0.5000, 0.5000, 0.3856, 0.6000, 0.5000]) tensor([1, 1, 1, 1, 1, 1, 1, 1])\n",
      "obs peek tensor([ 0.4117, -1.0219,  0.1090, -0.6848]) reward, done tensor([0.5000, 0.4237, 0.5000, 0.5000, 0.5000, 0.3921, 0.6000, 0.5000]) tensor([1, 1, 1, 1, 1, 1, 1, 1])\n",
      "obs peek tensor([ 0.4027, -0.9223,  0.0361, -0.8029]) reward, done tensor([0.5000, 0.4238, 0.5000, 0.5000, 0.5000, 0.3618, 0.6000, 0.5000]) tensor([1, 1, 1, 1, 1, 1, 1, 1])\n",
      "obs peek tensor([ 0.3856, -0.7772,  0.0655, -0.9754]) reward, done tensor([0.5000, 0.4181, 0.5000, 0.5000, 0.5000, 0.3379, 0.6000, 0.5000]) tensor([1, 1, 1, 1, 1, 1, 1, 1])\n",
      "obs peek tensor([ 0.3666, -0.9395,  0.0902, -1.0001]) reward, done tensor([0.5000, 0.3872, 0.5000, 0.5000, 0.5000, 0.3216, 0.6000, 0.5000]) tensor([1, 1, 1, 1, 1, 1, 1, 1])\n",
      "obs peek tensor([ 0.3412, -0.8481, -0.1868, -1.1746]) reward, done tensor([0.5000, 0.3495, 0.5000, 0.5000, 0.5000, 0.3097, 0.6000, 0.5000]) tensor([1, 1, 1, 1, 1, 1, 1, 1])\n",
      "obs peek tensor([ 0.3220, -1.0384, -0.2972, -1.0480]) reward, done tensor([0.5000, 0.3061, 0.5000, 0.5000, 0.5000, 0.3238, 0.6000, 0.5000]) tensor([1, 1, 1, 1, 1, 1, 1, 1])\n",
      "obs peek tensor([ 0.2997, -1.0538, -0.2932, -0.9171]) reward, done tensor([0.5000, 0.3434, 0.5000, 0.5000, 0.5000, 0.3228, 0.6000, 0.5000]) tensor([1, 1, 1, 1, 1, 1, 1, 1])\n",
      "obs peek tensor([ 0.2736, -1.4244, -0.2308, -1.0080]) reward, done tensor([0.5000, 0.3228, 0.5000, 0.5000, 0.5000, 0.3186, 0.5000, 0.5000]) tensor([1, 1, 1, 1, 1, 1, 1, 1])\n",
      "obs peek tensor([ 0.2461, -1.4915, -0.2764, -1.0825]) reward, done tensor([0.5000, 0.2940, 0.5000, 0.5000, 0.5000, 0.3352, 0.5000, 0.5000]) tensor([1, 1, 1, 1, 1, 1, 1, 1])\n",
      "obs peek tensor([ 0.2229, -1.5402, -0.1752, -1.0995]) reward, done tensor([0.5000, 0.2983, 0.5000, 0.5000, 0.5000, 0.3410, 0.5000, 0.5000]) tensor([1, 1, 1, 1, 1, 1, 1, 1])\n",
      "obs peek tensor([ 0.1916, -1.6427, -0.2693, -1.1419]) reward, done tensor([0.5000, 0.3108, 0.5000, 0.5000, 0.5000, 0.3752, 0.5000, 0.5000]) tensor([1, 1, 1, 1, 1, 1, 1, 1])\n",
      "obs peek tensor([ 0.1601, -1.5070, -0.4523, -1.0270]) reward, done tensor([0.5000, 0.3386, 0.5000, 0.5000, 0.5000, 0.3738, 0.5000, 0.5000]) tensor([1, 1, 1, 1, 1, 1, 1, 1])\n",
      "obs peek tensor([ 0.1290, -1.5331, -0.3864, -0.9776]) reward, done tensor([0.5000, 0.3146, 0.5000, 0.5000, 0.5000, 0.3977, 0.5000, 0.5000]) tensor([1, 1, 1, 1, 1, 1, 1, 1])\n",
      "obs peek tensor([ 0.1156, -0.6914, -0.4042, -0.1291]) reward, done tensor([0.5000, 0.3348, 0.5000, 0.5000, 0.5000, 0.4006, 0.5000, 0.5000]) tensor([1, 1, 1, 1, 1, 1, 1, 1])\n",
      "obs peek tensor([ 0.1145, -0.2327, -0.1255, -0.0831]) reward, done tensor([0.5000, 0.3707, 0.5000, 0.5000, 0.5000, 0.4067, 0.5000, 0.5000]) tensor([1, 1, 1, 1, 1, 1, 1, 1])\n",
      "obs peek tensor([ 0.1126, -0.0323, -0.0411, -0.1700]) reward, done tensor([0.5000, 0.3952, 0.5000, 0.5000, 0.5000, 0.4368, 0.5000, 0.5000]) tensor([1, 1, 1, 1, 1, 1, 1, 1])\n",
      "obs peek tensor([ 0.1070,  0.0471,  0.1060, -0.0618]) reward, done tensor([0.5000, 0.3820, 0.5000, 0.5000, 0.5000, 0.4509, 0.5000, 0.5000]) tensor([1, 1, 1, 1, 1, 1, 1, 1])\n",
      "obs peek tensor([ 0.1022, -0.2527,  0.0404, -0.0500]) reward, done tensor([0.5000, 0.3818, 0.5000, 0.5000, 0.5000, 0.4543, 0.5000, 0.5000]) tensor([1, 1, 1, 1, 1, 1, 1, 1])\n",
      "obs peek tensor([ 0.1029, -0.1881, -0.1076,  0.0224]) reward, done tensor([0.5000, 0.3670, 0.5000, 0.5000, 0.5000, 0.4905, 0.5000, 0.5000]) tensor([1, 1, 1, 1, 1, 1, 1, 1])\n",
      "obs peek tensor([ 0.1057, -0.5266, -0.2043,  0.3571]) reward, done tensor([0.5000, 0.3732, 0.5000, 0.5000, 0.5000, 0.4972, 0.5000, 0.5000]) tensor([1, 1, 1, 1, 1, 1, 1, 1])\n",
      "obs peek tensor([ 0.1187, -0.3558, -0.0654,  0.3806]) reward, done tensor([0.5000, 0.3955, 0.5000, 0.5000, 0.5000, 0.4881, 0.5000, 0.5000]) tensor([1, 1, 1, 1, 1, 1, 1, 1])\n",
      "obs peek tensor([ 0.1203, -0.3442,  0.1467,  0.2291]) reward, done tensor([0.5000, 0.3778, 0.5000, 0.5000, 0.5000, 0.4938, 0.5000, 0.5000]) tensor([1, 1, 1, 1, 1, 1, 1, 1])\n",
      "obs peek tensor([ 0.1269, -0.4801,  0.0539,  0.3995]) reward, done tensor([0.5000, 0.3636, 0.5000, 0.5000, 0.5000, 0.5000, 0.5000, 0.5000]) tensor([1, 1, 1, 1, 1, 1, 1, 1])\n",
      "obs peek tensor([ 0.1252, -0.5984,  0.0144,  0.2031]) reward, done tensor([0.5000, 0.3923, 0.5000, 0.5000, 0.5000, 0.5000, 0.5000, 0.5000]) tensor([1, 1, 1, 1, 1, 1, 1, 1])\n",
      "obs peek tensor([ 0.1278, -0.5391, -0.0487,  0.1831]) reward, done tensor([0.5000, 0.4075, 0.5000, 0.5000, 0.5000, 0.5000, 0.5000, 0.5000]) tensor([1, 1, 1, 1, 1, 1, 1, 1])\n",
      "obs peek tensor([ 0.1230, -0.3865, -0.0515, -0.2802]) reward, done tensor([0.5000, 0.4250, 0.5000, 0.5000, 0.5000, 0.5000, 0.5000, 0.5000]) tensor([1, 1, 1, 1, 1, 1, 1, 1])\n",
      "obs peek tensor([ 0.1178, -0.3019,  0.0402, -0.0327]) reward, done tensor([0.5000, 0.4498, 0.5000, 0.5000, 0.5000, 0.5000, 0.5000, 0.5000]) tensor([1, 1, 1, 1, 1, 1, 1, 1])\n"
     ]
    },
    {
     "name": "stdout",
     "output_type": "stream",
     "text": [
      "obs peek tensor([ 0.1183, -0.1800,  0.1490, -0.0510]) reward, done tensor([0.5000, 0.4499, 0.5000, 0.5000, 0.5000, 0.5000, 0.5000, 0.5000]) tensor([1, 1, 1, 1, 1, 1, 1, 1])\n",
      "obs peek tensor([ 0.1180, -0.0686,  0.2311, -0.0168]) reward, done tensor([0.5000, 0.4951, 0.5000, 0.5000, 0.5000, 0.5000, 0.5000, 0.5000]) tensor([1, 1, 1, 1, 1, 1, 1, 1])\n",
      "obs peek tensor([ 0.1235, -0.1182,  0.0935,  0.2802]) reward, done tensor([0.5000, 0.4932, 0.5000, 0.5000, 0.5000, 0.5000, 0.5000, 0.5000]) tensor([1, 1, 1, 1, 1, 1, 1, 1])\n",
      "obs peek tensor([ 0.1215, -0.0015,  0.2166, -0.0919]) reward, done tensor([0.5000, 0.5000, 0.5000, 0.5000, 0.5000, 0.5000, 0.5000, 0.5000]) tensor([1, 1, 1, 1, 1, 1, 1, 1])\n",
      "obs peek tensor([ 0.1110,  0.1761,  0.2876, -0.4586]) reward, done tensor([0.5000, 0.5000, 0.5000, 0.5000, 0.5000, 0.5000, 0.5000, 0.5000]) tensor([1, 1, 1, 1, 1, 1, 1, 1])\n",
      "obs peek tensor([ 0.1070,  0.0743,  0.1193, -0.1548]) reward, done tensor([0.5000, 0.5000, 0.5000, 0.5000, 0.5000, 0.5000, 0.5000, 0.5000]) tensor([1, 1, 1, 1, 1, 1, 1, 1])\n",
      "obs peek tensor([ 0.1060, -0.2014,  0.2271, -0.1079]) reward, done tensor([0.5000, 0.5000, 0.5000, 0.5000, 0.5000, 0.5000, 0.5000, 0.5000]) tensor([1, 1, 1, 1, 1, 1, 1, 1])\n",
      "obs peek tensor([ 0.1021, -0.0008,  0.1514, -0.0550]) reward, done tensor([0.5000, 0.5000, 0.5000, 0.5000, 0.5000, 0.5000, 0.5000, 0.5000]) tensor([1, 1, 1, 1, 1, 1, 1, 1])\n",
      "obs peek tensor([ 0.1074, -0.1650, -0.1030,  0.1958]) reward, done tensor([0.5000, 0.5000, 0.5000, 0.5000, 0.5000, 0.5000, 0.5000, 0.5000]) tensor([1, 1, 1, 1, 1, 1, 1, 1])\n",
      "obs peek tensor([ 0.1093, -0.2320,  0.0466, -0.0415]) reward, done tensor([0.5000, 0.5000, 0.5000, 0.5000, 0.5000, 0.5000, 0.5000, 0.5000]) tensor([1, 1, 1, 1, 1, 1, 1, 1])\n",
      "obs peek tensor([ 0.1062, -0.0782,  0.1214, -0.1423]) reward, done tensor([0.5000, 0.5000, 0.5000, 0.5000, 0.5000, 0.5000, 0.5000, 0.5000]) tensor([1, 1, 1, 1, 1, 1, 1, 1])\n",
      "obs peek tensor([ 0.1040,  0.0113,  0.0632, -0.0145]) reward, done tensor([0.5000, 0.5000, 0.5000, 0.5000, 0.5000, 0.5000, 0.5000, 0.5000]) tensor([1, 1, 1, 1, 1, 1, 1, 1])\n",
      "obs peek tensor([ 0.1027, -0.1852, -0.0880, -0.0524]) reward, done tensor([0.5000, 0.5000, 0.5000, 0.5000, 0.5000, 0.4921, 0.5000, 0.5000]) tensor([1, 1, 1, 1, 1, 1, 1, 1])\n",
      "obs peek tensor([ 0.1106, -0.2650, -0.2181,  0.2257]) reward, done tensor([0.5000, 0.5000, 0.5000, 0.5000, 0.5000, 0.4944, 0.5000, 0.5000]) tensor([1, 1, 1, 1, 1, 1, 1, 1])\n",
      "obs peek tensor([ 0.1108, -0.1144, -0.2117,  0.0949]) reward, done tensor([0.5000, 0.5000, 0.5000, 0.5000, 0.5000, 0.4978, 0.5000, 0.5000]) tensor([1, 1, 1, 1, 1, 1, 1, 1])\n",
      "obs peek tensor([ 0.1074, -0.0178, -0.3791, -0.0210]) reward, done tensor([0.5000, 0.5000, 0.5000, 0.5000, 0.5000, 0.4895, 0.5000, 0.5000]) tensor([1, 1, 1, 1, 1, 1, 1, 1])\n",
      "obs peek tensor([ 0.0972, -0.1362, -0.4200, -0.2730]) reward, done tensor([0.5000, 0.5000, 0.5000, 0.5000, 0.5000, 0.4778, 0.5000, 0.5000]) tensor([1, 1, 1, 1, 1, 1, 1, 1])\n",
      "obs peek tensor([ 0.0936, -0.2222, -0.2534,  0.1224]) reward, done tensor([0.5000, 0.5000, 0.5000, 0.5000, 0.5000, 0.4792, 0.5000, 0.5000]) tensor([1, 1, 1, 1, 1, 1, 1, 1])\n",
      "obs peek tensor([ 0.0983, -0.1807, -0.1821,  0.1332]) reward, done tensor([0.5000, 0.5000, 0.5000, 0.5000, 0.5000, 0.4671, 0.5000, 0.5000]) tensor([1, 1, 1, 1, 1, 1, 1, 1])\n",
      "obs peek tensor([ 0.0981, -0.2745, -0.0215,  0.1415]) reward, done tensor([0.5000, 0.5000, 0.5000, 0.5000, 0.5000, 0.4811, 0.5000, 0.5000]) tensor([1, 1, 1, 1, 1, 1, 1, 1])\n",
      "obs peek tensor([ 0.1004, -0.2362, -0.2258,  0.1387]) reward, done tensor([0.5000, 0.5000, 0.5000, 0.5000, 0.5000, 0.4799, 0.5000, 0.5000]) tensor([1, 1, 1, 1, 1, 1, 1, 1])\n",
      "obs peek tensor([ 0.1011, -0.2817, -0.2533,  0.0540]) reward, done tensor([0.5000, 0.5000, 0.5000, 0.5000, 0.5000, 0.4947, 0.5000, 0.5000]) tensor([1, 1, 1, 1, 1, 1, 1, 1])\n",
      "obs peek tensor([ 0.1050, -0.2615, -0.1694,  0.3097]) reward, done tensor([0.5000, 0.5000, 0.5000, 0.5000, 0.5000, 0.4639, 0.5000, 0.5000]) tensor([1, 1, 1, 1, 1, 1, 1, 1])\n",
      "obs peek tensor([ 0.1060, -0.4048,  0.0317,  0.1540]) reward, done tensor([0.5000, 0.5000, 0.5000, 0.5000, 0.5000, 0.4777, 0.5000, 0.5000]) tensor([1, 1, 1, 1, 1, 1, 1, 1])\n",
      "obs peek tensor([ 0.1047, -0.3530, -0.1259,  0.0731]) reward, done tensor([0.5000, 0.5000, 0.5000, 0.5000, 0.5000, 0.4799, 0.5000, 0.5000]) tensor([1, 1, 1, 1, 1, 1, 1, 1])\n",
      "obs peek tensor([ 0.1075, -0.3407, -0.3756,  0.1740]) reward, done tensor([0.5000, 0.5000, 0.5000, 0.5000, 0.5000, 0.4940, 0.5000, 0.5000]) tensor([1, 1, 1, 1, 1, 1, 1, 1])\n",
      "obs peek tensor([ 0.1109, -0.2647, -0.3853,  0.1752]) reward, done tensor([0.5000, 0.5000, 0.5000, 0.5000, 0.5000, 0.4682, 0.5000, 0.5000]) tensor([1, 1, 1, 1, 1, 1, 1, 1])\n",
      "obs peek tensor([ 0.1125, -0.2785, -0.4143,  0.2880]) reward, done tensor([0.5000, 0.5000, 0.5000, 0.5000, 0.5000, 0.4841, 0.5000, 0.5000]) tensor([1, 1, 1, 1, 1, 1, 1, 1])\n",
      "obs peek tensor([ 0.1089, -0.2131, -0.2391,  0.0120]) reward, done tensor([0.5000, 0.5000, 0.5000, 0.5000, 0.5000, 0.5000, 0.5000, 0.5000]) tensor([1, 1, 1, 1, 1, 1, 1, 1])\n",
      "obs peek tensor([ 0.1138, -0.0255,  0.1479, -0.0282]) reward, done tensor([0.5000, 0.5000, 0.5000, 0.5000, 0.5000, 0.5000, 0.5000, 0.5000]) tensor([1, 1, 1, 1, 1, 1, 1, 1])\n",
      "obs peek tensor([ 0.1128, -0.0969,  0.3329, -0.3081]) reward, done tensor([0.5000, 0.5000, 0.5000, 0.5000, 0.5000, 0.5000, 0.5000, 0.5000]) tensor([1, 1, 1, 1, 1, 1, 1, 1])\n",
      "obs peek tensor([ 0.1025, -0.1265,  0.1796, -0.5284]) reward, done tensor([0.5000, 0.5000, 0.5000, 0.5000, 0.5000, 0.5000, 0.5000, 0.5000]) tensor([1, 1, 1, 1, 1, 1, 1, 1])\n",
      "obs peek tensor([ 0.1018, -0.0091,  0.1922, -0.0955]) reward, done tensor([0.5000, 0.5000, 0.5000, 0.5000, 0.5000, 0.5000, 0.5000, 0.5000]) tensor([1, 1, 1, 1, 1, 1, 1, 1])\n",
      "obs peek tensor([0.1036, 0.0865, 0.0307, 0.1620]) reward, done tensor([0.5000, 0.5000, 0.5000, 0.5000, 0.5000, 0.5000, 0.5000, 0.5000]) tensor([1, 1, 1, 1, 1, 1, 1, 1])\n",
      "obs peek tensor([0.1113, 0.0981, 0.0998, 0.2186]) reward, done tensor([0.5000, 0.5000, 0.5000, 0.5000, 0.5000, 0.5000, 0.5000, 0.5000]) tensor([1, 1, 1, 1, 1, 1, 1, 1])\n",
      "obs peek tensor([0.1110, 0.0167, 0.1691, 0.1992]) reward, done tensor([0.5000, 0.5000, 0.5000, 0.5000, 0.5000, 0.5000, 0.5000, 0.5000]) tensor([1, 1, 1, 1, 1, 1, 1, 1])\n",
      "obs peek tensor([ 0.1189, -0.0079, -0.0179,  0.3985]) reward, done tensor([0.5000, 0.5000, 0.5000, 0.5000, 0.5000, 0.5000, 0.5000, 0.5000]) tensor([1, 1, 1, 1, 1, 1, 1, 1])\n",
      "obs peek tensor([ 0.1219, -0.0255,  0.0690,  0.0976]) reward, done tensor([0.5000, 0.5000, 0.5000, 0.5000, 0.5000, 0.5000, 0.5000, 0.5000]) tensor([1, 1, 1, 1, 1, 1, 1, 1])\n",
      "obs peek tensor([ 0.1192, -0.1157, -0.1871, -0.0529]) reward, done tensor([0.5000, 0.5000, 0.5000, 0.5000, 0.5000, 0.5000, 0.5000, 0.5000]) tensor([1, 1, 1, 1, 1, 1, 1, 1])\n",
      "obs peek tensor([ 0.1220,  0.0821, -0.0230,  0.0843]) reward, done tensor([0.5000, 0.5000, 0.5000, 0.5000, 0.5000, 0.5000, 0.5000, 0.5000]) tensor([1, 1, 1, 1, 1, 1, 1, 1])\n",
      "obs peek tensor([0.1282, 0.1506, 0.1451, 0.0399]) reward, done tensor([0.5000, 0.5000, 0.5000, 0.5000, 0.5000, 0.5000, 0.5000, 0.5000]) tensor([1, 1, 1, 1, 1, 1, 1, 1])\n",
      "obs peek tensor([0.1358, 0.2226, 0.1087, 0.0340]) reward, done tensor([0.5000, 0.5000, 0.5000, 0.5000, 0.5000, 0.5000, 0.5000, 0.5000]) tensor([1, 1, 1, 1, 1, 1, 1, 1])\n",
      "obs peek tensor([ 0.1377,  0.1824,  0.1046, -0.1558]) reward, done tensor([0.5000, 0.5000, 0.5000, 0.5000, 0.5000, 0.5000, 0.5000, 0.5000]) tensor([1, 1, 1, 1, 1, 1, 1, 1])\n",
      "obs peek tensor([ 0.1305,  0.1567,  0.0921, -0.2471]) reward, done tensor([0.5000, 0.5000, 0.5000, 0.5000, 0.5000, 0.5000, 0.5000, 0.5000]) tensor([1, 1, 1, 1, 1, 1, 1, 1])\n",
      "obs peek tensor([ 0.1254,  0.1659,  0.0803, -0.4988]) reward, done tensor([0.5000, 0.5000, 0.5000, 0.5000, 0.5000, 0.5000, 0.5000, 0.5000]) tensor([1, 1, 1, 1, 1, 1, 1, 1])\n",
      "obs peek tensor([ 0.1183,  0.1216,  0.3222, -0.2846]) reward, done tensor([0.5000, 0.5000, 0.5000, 0.5000, 0.5000, 0.5000, 0.5000, 0.5000]) tensor([1, 1, 1, 1, 1, 1, 1, 1])\n",
      "obs peek tensor([ 0.1056,  0.0589,  0.2856, -0.2809]) reward, done tensor([0.5000, 0.5000, 0.5000, 0.5000, 0.5000, 0.5000, 0.5000, 0.5000]) tensor([1, 1, 1, 1, 1, 1, 1, 1])\n",
      "obs peek tensor([ 0.0976, -0.0224,  0.3542, -0.3406]) reward, done tensor([0.5000, 0.5000, 0.5000, 0.5000, 0.5000, 0.5000, 0.4952, 0.5000]) tensor([1, 1, 1, 1, 1, 1, 1, 1])\n"
     ]
    },
    {
     "name": "stdout",
     "output_type": "stream",
     "text": [
      "obs peek tensor([ 0.0886, -0.1002,  0.1174, -0.3107]) reward, done tensor([0.5000, 0.5000, 0.5000, 0.5000, 0.5000, 0.5000, 0.4775, 0.5000]) tensor([1, 1, 1, 1, 1, 1, 1, 1])\n",
      "obs peek tensor([ 0.0893, -0.0815,  0.0739,  0.1037]) reward, done tensor([0.5000, 0.5000, 0.5000, 0.5000, 0.5000, 0.5000, 0.4588, 0.5000]) tensor([1, 1, 1, 1, 1, 1, 1, 1])\n",
      "obs peek tensor([ 0.0915,  0.0399, -0.1116, -0.0388]) reward, done tensor([0.5000, 0.5000, 0.5000, 0.5000, 0.5000, 0.5000, 0.5000, 0.5000]) tensor([1, 1, 1, 1, 1, 1, 1, 1])\n",
      "obs peek tensor([ 0.0913, -0.0206, -0.0714, -0.0135]) reward, done tensor([0.5000, 0.5000, 0.5000, 0.5000, 0.5000, 0.4943, 0.4671, 0.5000]) tensor([1, 1, 1, 1, 1, 1, 1, 1])\n",
      "obs peek tensor([ 0.0952, -0.0764, -0.0153,  0.0996]) reward, done tensor([0.5000, 0.5000, 0.5000, 0.5000, 0.5000, 0.4849, 0.5000, 0.5000]) tensor([1, 1, 1, 1, 1, 1, 1, 1])\n",
      "obs peek tensor([ 0.0959, -0.0638,  0.0101,  0.0355]) reward, done tensor([0.5000, 0.5000, 0.5000, 0.5000, 0.5000, 0.4776, 0.5000, 0.5000]) tensor([1, 1, 1, 1, 1, 1, 1, 1])\n",
      "obs peek tensor([ 0.0956, -0.1112,  0.0996,  0.1019]) reward, done tensor([0.5000, 0.5000, 0.5000, 0.5000, 0.5000, 0.4714, 0.4762, 0.5000]) tensor([1, 1, 1, 1, 1, 1, 1, 1])\n",
      "obs peek tensor([ 0.1035, -0.0324,  0.0504,  0.3315]) reward, done tensor([0.5000, 0.5000, 0.5000, 0.5000, 0.5000, 0.4559, 0.4759, 0.5000]) tensor([1, 1, 1, 1, 1, 1, 1, 1])\n",
      "obs peek tensor([ 0.1028, -0.2522,  0.2282,  0.1026]) reward, done tensor([0.5000, 0.5000, 0.5000, 0.5000, 0.5000, 0.4508, 0.4706, 0.5000]) tensor([1, 1, 1, 1, 1, 1, 1, 1])\n",
      "obs peek tensor([ 0.1013, -0.3820,  0.1047,  0.1938]) reward, done tensor([0.5000, 0.5000, 0.5000, 0.5000, 0.5000, 0.4417, 0.4563, 0.5000]) tensor([1, 1, 1, 1, 1, 1, 1, 1])\n",
      "obs peek tensor([ 0.0944, -0.3840,  0.2570, -0.1084]) reward, done tensor([0.5000, 0.5000, 0.5000, 0.5000, 0.5000, 0.4293, 0.4615, 0.5000]) tensor([1, 1, 1, 1, 1, 1, 1, 1])\n",
      "obs peek tensor([ 0.0930, -0.0976,  0.2104, -0.0504]) reward, done tensor([0.5000, 0.5000, 0.5000, 0.5000, 0.5000, 0.4364, 0.5000, 0.5000]) tensor([1, 1, 1, 1, 1, 1, 1, 1])\n",
      "obs peek tensor([ 0.0932, -0.3187,  0.2617,  0.1552]) reward, done tensor([0.5000, 0.5000, 0.5000, 0.5000, 0.5000, 0.4451, 0.5000, 0.5000]) tensor([1, 1, 1, 1, 1, 1, 1, 1])\n",
      "obs peek tensor([ 0.0933, -0.1216,  0.1044,  0.1165]) reward, done tensor([0.5000, 0.5000, 0.5000, 0.5000, 0.5000, 0.4407, 0.5000, 0.5000]) tensor([1, 1, 1, 1, 1, 1, 1, 1])\n",
      "obs peek tensor([ 0.0973, -0.3236,  0.1398,  0.1991]) reward, done tensor([0.5000, 0.5000, 0.5000, 0.5000, 0.5000, 0.4434, 0.5000, 0.5000]) tensor([1, 1, 1, 1, 1, 1, 1, 1])\n",
      "obs peek tensor([ 0.0995, -0.0975,  0.0599, -0.1407]) reward, done tensor([0.5000, 0.5000, 0.5000, 0.5000, 0.5000, 0.4265, 0.5000, 0.5000]) tensor([1, 1, 1, 1, 1, 1, 1, 1])\n",
      "obs peek tensor([ 0.0928, -0.1076,  0.0847, -0.0238]) reward, done tensor([0.5000, 0.5000, 0.5000, 0.5000, 0.5000, 0.4077, 0.5000, 0.5000]) tensor([1, 1, 1, 1, 1, 1, 1, 1])\n",
      "obs peek tensor([ 0.0983, -0.0706, -0.0623,  0.2454]) reward, done tensor([0.5000, 0.5000, 0.5000, 0.5000, 0.5000, 0.4032, 0.5000, 0.5000]) tensor([1, 1, 1, 1, 1, 1, 1, 1])\n",
      "obs peek tensor([ 0.0984, -0.0276, -0.0681,  0.0617]) reward, done tensor([0.5000, 0.5000, 0.5000, 0.5000, 0.5000, 0.4050, 0.5000, 0.5000]) tensor([1, 1, 1, 1, 1, 1, 1, 1])\n",
      "obs peek tensor([ 0.0938, -0.1394,  0.0217, -0.0886]) reward, done tensor([0.5000, 0.5000, 0.5000, 0.5000, 0.5000, 0.4075, 0.5000, 0.5000]) tensor([1, 1, 1, 1, 1, 1, 1, 1])\n",
      "obs peek tensor([ 0.0893, -0.0376, -0.0200, -0.2281]) reward, done tensor([0.5000, 0.5000, 0.5000, 0.5000, 0.5000, 0.4051, 0.5000, 0.5000]) tensor([1, 1, 1, 1, 1, 1, 1, 1])\n",
      "obs peek tensor([ 0.0852, -0.1109, -0.0602, -0.0327]) reward, done tensor([0.5000, 0.5000, 0.5000, 0.5000, 0.5000, 0.4032, 0.5000, 0.5000]) tensor([1, 1, 1, 1, 1, 1, 1, 1])\n",
      "obs peek tensor([ 0.0898,  0.0289, -0.0608,  0.0803]) reward, done tensor([0.5000, 0.5000, 0.5000, 0.5000, 0.5000, 0.4074, 0.5000, 0.5000]) tensor([1, 1, 1, 1, 1, 1, 1, 1])\n",
      "obs peek tensor([ 0.0897, -0.0105,  0.0006, -0.0618]) reward, done tensor([0.5000, 0.5000, 0.5000, 0.5000, 0.5000, 0.4065, 0.5000, 0.5000]) tensor([1, 1, 1, 1, 1, 1, 1, 1])\n",
      "obs peek tensor([ 0.0925, -0.0047, -0.0043, -0.0494]) reward, done tensor([0.5000, 0.5000, 0.5000, 0.5000, 0.5000, 0.4130, 0.5000, 0.5000]) tensor([1, 1, 1, 1, 1, 1, 1, 1])\n",
      "obs peek tensor([ 0.0952,  0.0080,  0.0534, -0.0222]) reward, done tensor([0.5000, 0.5000, 0.5000, 0.5000, 0.5000, 0.4190, 0.5000, 0.5000]) tensor([1, 1, 1, 1, 1, 1, 1, 1])\n",
      "obs peek tensor([0.1049, 0.1073, 0.0571, 0.2078]) reward, done tensor([0.5000, 0.5000, 0.5000, 0.5000, 0.5000, 0.4246, 0.5000, 0.5000]) tensor([1, 1, 1, 1, 1, 1, 1, 1])\n",
      "obs peek tensor([ 0.0940, -0.2310,  0.1410, -0.4341]) reward, done tensor([0.5000, 0.5000, 0.5000, 0.5000, 0.5000, 0.4407, 0.5000, 0.5000]) tensor([1, 1, 1, 1, 1, 1, 1, 1])\n",
      "obs peek tensor([ 0.0872,  0.0426,  0.0645, -0.4468]) reward, done tensor([0.5000, 0.5000, 0.5000, 0.5000, 0.5000, 0.4415, 0.5000, 0.5000]) tensor([1, 1, 1, 1, 1, 1, 1, 1])\n",
      "obs peek tensor([ 0.0827,  0.0537,  0.1741, -0.1302]) reward, done tensor([0.5000, 0.5000, 0.5000, 0.5000, 0.5000, 0.4444, 0.5000, 0.5000]) tensor([1, 1, 1, 1, 1, 1, 1, 1])\n",
      "obs peek tensor([ 0.0825, -0.0491,  0.1923,  0.1328]) reward, done tensor([0.5000, 0.5000, 0.5000, 0.5000, 0.5000, 0.4309, 0.5000, 0.5000]) tensor([1, 1, 1, 1, 1, 1, 1, 1])\n",
      "obs peek tensor([ 0.0843, -0.0709,  0.3014,  0.3036]) reward, done tensor([0.5000, 0.5000, 0.5000, 0.5000, 0.5000, 0.4274, 0.5000, 0.5000]) tensor([1, 1, 1, 1, 1, 1, 1, 1])\n",
      "obs peek tensor([0.0917, 0.1962, 0.0328, 0.0486]) reward, done tensor([0.5000, 0.5000, 0.5000, 0.5000, 0.5000, 0.4297, 0.5000, 0.5000]) tensor([1, 1, 1, 1, 1, 1, 1, 1])\n",
      "obs peek tensor([ 0.0943,  0.2470, -0.1343, -0.1122]) reward, done tensor([0.5000, 0.5000, 0.5000, 0.5000, 0.5000, 0.4384, 0.5000, 0.5000]) tensor([1, 1, 1, 1, 1, 1, 1, 1])\n",
      "obs peek tensor([ 0.1052,  0.5170, -0.3090, -0.0416]) reward, done tensor([0.5000, 0.5000, 0.5000, 0.5000, 0.5000, 0.4371, 0.5000, 0.5000]) tensor([1, 1, 1, 1, 1, 1, 1, 1])\n",
      "obs peek tensor([ 0.0976,  0.2776,  0.0214, -0.2904]) reward, done tensor([0.5000, 0.5000, 0.5000, 0.5000, 0.5000, 0.4409, 0.5000, 0.5000]) tensor([1, 1, 1, 1, 1, 1, 1, 1])\n",
      "obs peek tensor([ 0.1003,  0.4189, -0.1503, -0.3697]) reward, done tensor([0.5000, 0.5000, 0.5000, 0.5000, 0.5000, 0.4439, 0.5000, 0.5000]) tensor([1, 1, 1, 1, 1, 1, 1, 1])\n",
      "obs peek tensor([ 0.0966,  0.0761, -0.0648, -0.1677]) reward, done tensor([0.5000, 0.5000, 0.5000, 0.5000, 0.5000, 0.4444, 0.5000, 0.5000]) tensor([1, 1, 1, 1, 1, 1, 1, 1])\n",
      "obs peek tensor([ 0.0915,  0.2231, -0.1547, -0.1749]) reward, done tensor([0.5000, 0.5000, 0.5000, 0.5000, 0.5000, 0.4409, 0.5000, 0.5000]) tensor([1, 1, 1, 1, 1, 1, 1, 1])\n",
      "obs peek tensor([ 0.0842,  0.1060, -0.2370, -0.2754]) reward, done tensor([0.5000, 0.5000, 0.5000, 0.5000, 0.5000, 0.4460, 0.5000, 0.5000]) tensor([1, 1, 1, 1, 1, 1, 1, 1])\n",
      "obs peek tensor([ 0.0826, -0.0789, -0.1548, -0.1845]) reward, done tensor([0.5000, 0.5000, 0.5000, 0.5000, 0.5000, 0.4449, 0.5000, 0.5000]) tensor([1, 1, 1, 1, 1, 1, 1, 1])\n",
      "obs peek tensor([ 0.0814,  0.0134, -0.0139, -0.0376]) reward, done tensor([0.5000, 0.5000, 0.5000, 0.5000, 0.5000, 0.4530, 0.5000, 0.5000]) tensor([1, 1, 1, 1, 1, 1, 1, 1])\n",
      "obs peek tensor([ 0.0780, -0.0043, -0.0135,  0.0042]) reward, done tensor([0.5000, 0.5000, 0.5000, 0.5000, 0.5000, 0.4533, 0.5000, 0.5000]) tensor([1, 1, 1, 1, 1, 1, 1, 1])\n",
      "obs peek tensor([ 0.0814, -0.0776, -0.0397, -0.0130]) reward, done tensor([0.5000, 0.5000, 0.5000, 0.5000, 0.5000, 0.4390, 0.5000, 0.5000]) tensor([1, 1, 1, 1, 1, 1, 1, 1])\n",
      "obs peek tensor([ 0.0831, -0.2503,  0.0027,  0.0204]) reward, done tensor([0.5000, 0.5000, 0.5000, 0.5000, 0.5000, 0.4329, 0.5000, 0.5000]) tensor([1, 1, 1, 1, 1, 1, 1, 1])\n",
      "obs peek tensor([ 0.0858, -0.0256, -0.0613,  0.0687]) reward, done tensor([0.5000, 0.5000, 0.5000, 0.5000, 0.5000, 0.4329, 0.5000, 0.5000]) tensor([1, 1, 1, 1, 1, 1, 1, 1])\n",
      "obs peek tensor([ 0.0903,  0.0968, -0.0077,  0.1095]) reward, done tensor([0.5000, 0.5000, 0.5000, 0.5000, 0.5000, 0.4397, 0.5000, 0.5000]) tensor([1, 1, 1, 1, 1, 1, 1, 1])\n",
      "obs peek tensor([ 0.0949, -0.1823,  0.0201,  0.0539]) reward, done tensor([0.5000, 0.5000, 0.5000, 0.5000, 0.5000, 0.4381, 0.5000, 0.5000]) tensor([1, 1, 1, 1, 1, 1, 1, 1])\n",
      "obs peek tensor([ 0.0932, -0.0637,  0.0538, -0.1009]) reward, done tensor([0.5000, 0.5000, 0.5000, 0.5000, 0.5000, 0.4440, 0.5000, 0.5000]) tensor([1, 1, 1, 1, 1, 1, 1, 1])\n",
      "obs peek tensor([ 0.0911,  0.1322,  0.1208, -0.0860]) reward, done tensor([0.5000, 0.5000, 0.5000, 0.5000, 0.5000, 0.4472, 0.5000, 0.5000]) tensor([1, 1, 1, 1, 1, 1, 1, 1])\n"
     ]
    },
    {
     "name": "stdout",
     "output_type": "stream",
     "text": [
      "obs peek tensor([0.0843, 0.2318, 0.0087, 0.0066]) reward, done tensor([0.5000, 0.5000, 0.5000, 0.5000, 0.5000, 0.4622, 0.5000, 0.5000]) tensor([1, 1, 1, 1, 1, 1, 1, 1])\n",
      "obs peek tensor([ 0.0900,  0.0232, -0.0115, -0.0380]) reward, done tensor([0.5000, 0.5000, 0.5000, 0.5000, 0.5000, 0.4740, 0.5000, 0.5000]) tensor([1, 1, 1, 1, 1, 1, 1, 1])\n",
      "obs peek tensor([ 0.0896, -0.1203,  0.0083,  0.0692]) reward, done tensor([0.5000, 0.5000, 0.5000, 0.5000, 0.5000, 0.4771, 0.5000, 0.5000]) tensor([1, 1, 1, 1, 1, 1, 1, 1])\n",
      "obs peek tensor([ 0.0886, -0.0360, -0.0199,  0.1010]) reward, done tensor([0.5000, 0.5000, 0.5000, 0.5000, 0.5000, 0.4648, 0.5000, 0.5000]) tensor([1, 1, 1, 1, 1, 1, 1, 1])\n",
      "obs peek tensor([ 0.0961, -0.0209, -0.1879,  0.1105]) reward, done tensor([0.5000, 0.5000, 0.5000, 0.5000, 0.5000, 0.4626, 0.5000, 0.5000]) tensor([1, 1, 1, 1, 1, 1, 1, 1])\n",
      "obs peek tensor([ 0.0934, -0.0243, -0.2807, -0.1698]) reward, done tensor([0.5000, 0.5000, 0.5000, 0.5000, 0.5000, 0.4608, 0.5000, 0.5000]) tensor([1, 1, 1, 1, 1, 1, 1, 1])\n",
      "obs peek tensor([ 0.0858,  0.0689, -0.0945, -0.2977]) reward, done tensor([0.5000, 0.5000, 0.5000, 0.5000, 0.5000, 0.4636, 0.5000, 0.5000]) tensor([1, 1, 1, 1, 1, 1, 1, 1])\n",
      "obs peek tensor([ 0.0828,  0.1434, -0.0170,  0.0186]) reward, done tensor([0.5000, 0.5000, 0.5000, 0.5000, 0.5000, 0.4770, 0.5000, 0.5000]) tensor([1, 1, 1, 1, 1, 1, 1, 1])\n",
      "obs peek tensor([ 0.0874,  0.3455, -0.1344,  0.1102]) reward, done tensor([0.5000, 0.5000, 0.5000, 0.5000, 0.5000, 0.4658, 0.5000, 0.5000]) tensor([1, 1, 1, 1, 1, 1, 1, 1])\n",
      "obs peek tensor([ 0.0880,  0.5528, -0.1829,  0.0316]) reward, done tensor([0.5000, 0.5000, 0.5000, 0.5000, 0.5000, 0.4620, 0.5000, 0.5000]) tensor([1, 1, 1, 1, 1, 1, 1, 1])\n",
      "obs peek tensor([ 0.0880,  0.0681,  0.0827, -0.0820]) reward, done tensor([0.5000, 0.5000, 0.5000, 0.5000, 0.5000, 0.4578, 0.5000, 0.5000]) tensor([1, 1, 1, 1, 1, 1, 1, 1])\n",
      "obs peek tensor([ 0.0872, -0.1007,  0.0588,  0.0697]) reward, done tensor([0.5000, 0.5000, 0.5000, 0.5000, 0.5000, 0.4648, 0.5000, 0.5000]) tensor([1, 1, 1, 1, 1, 1, 1, 1])\n",
      "obs peek tensor([ 0.0914, -0.0686, -0.0336,  0.0831]) reward, done tensor([0.5000, 0.5000, 0.5000, 0.5000, 0.5000, 0.4675, 0.5000, 0.5000]) tensor([1, 1, 1, 1, 1, 1, 1, 1])\n",
      "obs peek tensor([ 0.0893, -0.0279, -0.0527, -0.0398]) reward, done tensor([0.5000, 0.5000, 0.5000, 0.5000, 0.5000, 0.4450, 0.5000, 0.5000]) tensor([1, 1, 1, 1, 1, 1, 1, 1])\n",
      "obs peek tensor([ 0.0941, -0.0765,  0.0296,  0.0042]) reward, done tensor([0.5000, 0.5000, 0.5000, 0.5000, 0.5000, 0.4537, 0.5000, 0.5000]) tensor([1, 1, 1, 1, 1, 1, 1, 1])\n",
      "obs peek tensor([ 0.0952, -0.0434, -0.0153, -0.0205]) reward, done tensor([0.5000, 0.5000, 0.5000, 0.5000, 0.5000, 0.4563, 0.5000, 0.5000]) tensor([1, 1, 1, 1, 1, 1, 1, 1])\n",
      "obs peek tensor([ 0.0960, -0.2610, -0.0026, -0.0333]) reward, done tensor([0.5000, 0.5000, 0.5000, 0.5000, 0.5000, 0.4641, 0.5000, 0.5000]) tensor([1, 1, 1, 1, 1, 1, 1, 1])\n",
      "obs peek tensor([ 0.0959, -0.2946, -0.1201, -0.3358]) reward, done tensor([0.5000, 0.5000, 0.5000, 0.5000, 0.5000, 0.4652, 0.5000, 0.5000]) tensor([1, 1, 1, 1, 1, 1, 1, 1])\n",
      "obs peek tensor([ 0.0839, -0.4005,  0.0945, -0.1254]) reward, done tensor([0.5000, 0.5000, 0.5000, 0.5000, 0.5000, 0.4713, 0.5000, 0.5000]) tensor([1, 1, 1, 1, 1, 1, 1, 1])\n",
      "obs peek tensor([ 0.0880, -0.3042,  0.1310,  0.1098]) reward, done tensor([0.5000, 0.5000, 0.5000, 0.5000, 0.5000, 0.4744, 0.5000, 0.5000]) tensor([1, 1, 1, 1, 1, 1, 1, 1])\n",
      "obs peek tensor([ 0.0826, -0.2024,  0.0070, -0.0421]) reward, done tensor([0.5000, 0.5000, 0.5000, 0.5000, 0.5000, 0.4679, 0.5000, 0.5000]) tensor([1, 1, 1, 1, 1, 1, 1, 1])\n",
      "obs peek tensor([ 0.0826, -0.2921, -0.0974,  0.0464]) reward, done tensor([0.5000, 0.5000, 0.5000, 0.5000, 0.5000, 0.4803, 0.5000, 0.5000]) tensor([1, 1, 1, 1, 1, 1, 1, 1])\n",
      "obs peek tensor([ 0.0851, -0.3087, -0.0714,  0.1562]) reward, done tensor([0.5000, 0.5000, 0.5000, 0.5000, 0.5000, 0.4806, 0.5000, 0.5000]) tensor([1, 1, 1, 1, 1, 1, 1, 1])\n",
      "obs peek tensor([ 0.0871, -0.2491,  0.0668,  0.1505]) reward, done tensor([0.5000, 0.5000, 0.5000, 0.5000, 0.5000, 0.4872, 0.5000, 0.5000]) tensor([1, 1, 1, 1, 1, 1, 1, 1])\n",
      "obs peek tensor([ 0.0885, -0.3414, -0.1430,  0.0758]) reward, done tensor([0.5000, 0.5000, 0.5000, 0.5000, 0.5000, 0.4854, 0.5000, 0.5000]) tensor([1, 1, 1, 1, 1, 1, 1, 1])\n",
      "obs peek tensor([ 0.0920, -0.4411, -0.0476,  0.1443]) reward, done tensor([0.5000, 0.5000, 0.5000, 0.5000, 0.5000, 0.4749, 0.5000, 0.5000]) tensor([1, 1, 1, 1, 1, 1, 1, 1])\n",
      "obs peek tensor([ 0.0952, -0.2402, -0.0776,  0.1606]) reward, done tensor([0.5000, 0.5000, 0.5000, 0.5000, 0.5000, 0.4828, 0.5000, 0.5000]) tensor([1, 1, 1, 1, 1, 1, 1, 1])\n",
      "obs peek tensor([ 0.0985, -0.2545,  0.0159,  0.1307]) reward, done tensor([0.5000, 0.5000, 0.5000, 0.5000, 0.5000, 0.4932, 0.5000, 0.5000]) tensor([1, 1, 1, 1, 1, 1, 1, 1])\n",
      "obs peek tensor([ 0.0981, -0.1504,  0.0459, -0.0017]) reward, done tensor([0.5000, 0.5000, 0.5000, 0.5000, 0.5000, 0.4975, 0.5000, 0.5000]) tensor([1, 1, 1, 1, 1, 1, 1, 1])\n",
      "obs peek tensor([0.1012, 0.1220, 0.0632, 0.0988]) reward, done tensor([0.5000, 0.5000, 0.5000, 0.5000, 0.5000, 0.4914, 0.5000, 0.5000]) tensor([1, 1, 1, 1, 1, 1, 1, 1])\n",
      "obs peek tensor([0.1063, 0.1994, 0.0160, 0.1309]) reward, done tensor([0.5000, 0.5000, 0.4965, 0.5000, 0.5000, 0.5000, 0.5000, 0.5000]) tensor([1, 1, 1, 1, 1, 1, 1, 1])\n",
      "obs peek tensor([ 0.1052, -0.0131, -0.0090,  0.1158]) reward, done tensor([0.5000, 0.5000, 0.4909, 0.5000, 0.5000, 0.5000, 0.5000, 0.5000]) tensor([1, 1, 1, 1, 1, 1, 1, 1])\n",
      "obs peek tensor([ 0.1093, -0.0991, -0.0781,  0.2620]) reward, done tensor([0.5000, 0.5000, 0.4743, 0.5000, 0.5000, 0.5000, 0.5000, 0.5000]) tensor([1, 1, 1, 1, 1, 1, 1, 1])\n",
      "obs peek tensor([ 0.1156, -0.2587, -0.1838,  0.3591]) reward, done tensor([0.5000, 0.5000, 0.4708, 0.5000, 0.5000, 0.5000, 0.5000, 0.5000]) tensor([1, 1, 1, 1, 1, 1, 1, 1])\n",
      "obs peek tensor([ 0.1194,  0.0243, -0.1460,  0.1662]) reward, done tensor([0.5000, 0.5000, 0.4560, 0.5000, 0.5000, 0.5000, 0.5000, 0.5000]) tensor([1, 1, 1, 1, 1, 1, 1, 1])\n",
      "obs peek tensor([ 0.1191,  0.1839, -0.0710, -0.0963]) reward, done tensor([0.5000, 0.5000, 0.4598, 0.5000, 0.5000, 0.5000, 0.5000, 0.5000]) tensor([1, 1, 1, 1, 1, 1, 1, 1])\n",
      "obs peek tensor([ 0.1146,  0.0120, -0.0189,  0.0073]) reward, done tensor([0.5000, 0.5000, 0.4560, 0.5000, 0.5000, 0.5000, 0.5000, 0.5000]) tensor([1, 1, 1, 1, 1, 1, 1, 1])\n",
      "obs peek tensor([ 0.1141, -0.1475, -0.1665, -0.0673]) reward, done tensor([0.5000, 0.5000, 0.4767, 0.5000, 0.5000, 0.5000, 0.4999, 0.5000]) tensor([1, 1, 1, 1, 1, 1, 1, 1])\n",
      "obs peek tensor([ 0.1067, -0.3474, -0.1355, -0.0523]) reward, done tensor([0.5000, 0.5000, 0.4739, 0.5000, 0.5000, 0.5000, 0.4949, 0.5000]) tensor([1, 1, 1, 1, 1, 1, 1, 1])\n",
      "obs peek tensor([ 0.1087, -0.2891, -0.1157,  0.1110]) reward, done tensor([0.5000, 0.5000, 0.4848, 0.5000, 0.5000, 0.5000, 0.4947, 0.5000]) tensor([1, 1, 1, 1, 1, 1, 1, 1])\n",
      "obs peek tensor([ 0.1111, -0.1774, -0.0030,  0.2203]) reward, done tensor([0.5000, 0.5000, 0.4913, 0.5000, 0.5000, 0.5000, 0.4961, 0.5000]) tensor([1, 1, 1, 1, 1, 1, 1, 1])\n",
      "obs peek tensor([ 0.1144,  0.0095, -0.1098,  0.1741]) reward, done tensor([0.5000, 0.5000, 0.4964, 0.5000, 0.5000, 0.5000, 0.4902, 0.5000]) tensor([1, 1, 1, 1, 1, 1, 1, 1])\n",
      "obs peek tensor([ 0.1114,  0.0318, -0.1830,  0.1016]) reward, done tensor([0.5000, 0.5000, 0.5000, 0.5000, 0.5000, 0.5000, 0.4992, 0.5000]) tensor([1, 1, 1, 1, 1, 1, 1, 1])\n",
      "obs peek tensor([ 0.1133,  0.0765, -0.2601,  0.0841]) reward, done tensor([0.5000, 0.5000, 0.5000, 0.5000, 0.5000, 0.5000, 0.5000, 0.5000]) tensor([1, 1, 1, 1, 1, 1, 1, 1])\n",
      "obs peek tensor([ 0.1109,  0.2292, -0.1553,  0.0488]) reward, done tensor([0.5000, 0.5000, 0.5000, 0.5000, 0.5000, 0.5000, 0.5000, 0.5000]) tensor([1, 1, 1, 1, 1, 1, 1, 1])\n",
      "obs peek tensor([ 0.1115, -0.0766, -0.1231,  0.0617]) reward, done tensor([0.5000, 0.5000, 0.5000, 0.5000, 0.5000, 0.5000, 0.5000, 0.5000]) tensor([1, 1, 1, 1, 1, 1, 1, 1])\n",
      "obs peek tensor([ 0.1151, -0.3128, -0.0626,  0.1236]) reward, done tensor([0.5000, 0.5000, 0.5000, 0.5000, 0.5000, 0.5000, 0.5000, 0.5000]) tensor([1, 1, 1, 1, 1, 1, 1, 1])\n",
      "obs peek tensor([ 0.1163, -0.5565,  0.1007,  0.2085]) reward, done tensor([0.5000, 0.5000, 0.5000, 0.5000, 0.5000, 0.5000, 0.5000, 0.5000]) tensor([1, 1, 1, 1, 1, 1, 1, 1])\n",
      "obs peek tensor([ 0.1173, -0.2453,  0.0819, -0.0036]) reward, done tensor([0.5000, 0.5000, 0.5000, 0.5000, 0.5000, 0.5000, 0.5000, 0.5000]) tensor([1, 1, 1, 1, 1, 1, 1, 1])\n",
      "obs peek tensor([ 0.1173, -0.2230, -0.0385,  0.1388]) reward, done tensor([0.5000, 0.5000, 0.5000, 0.5000, 0.5000, 0.5000, 0.5000, 0.5000]) tensor([1, 1, 1, 1, 1, 1, 1, 1])\n"
     ]
    },
    {
     "name": "stdout",
     "output_type": "stream",
     "text": [
      "obs peek tensor([ 0.1184, -0.2170, -0.0491,  0.1365]) reward, done tensor([0.5000, 0.5000, 0.5000, 0.5000, 0.5000, 0.5000, 0.5000, 0.5000]) tensor([1, 1, 1, 1, 1, 1, 1, 1])\n",
      "obs peek tensor([ 0.1156,  0.1434, -0.0514, -0.1200]) reward, done tensor([0.5000, 0.5000, 0.5000, 0.5000, 0.5000, 0.5000, 0.5000, 0.5000]) tensor([1, 1, 1, 1, 1, 1, 1, 1])\n",
      "obs peek tensor([ 0.1162, -0.3151, -0.0319,  0.0819]) reward, done tensor([0.5000, 0.5000, 0.5000, 0.5000, 0.5000, 0.5000, 0.5000, 0.5000]) tensor([1, 1, 1, 1, 1, 1, 1, 1])\n",
      "obs peek tensor([ 0.1160, -0.0907,  0.1077, -0.0265]) reward, done tensor([0.5000, 0.5000, 0.5000, 0.5000, 0.5000, 0.5000, 0.5000, 0.5000]) tensor([1, 1, 1, 1, 1, 1, 1, 1])\n",
      "obs peek tensor([ 0.1075, -0.3080,  0.1063, -0.2753]) reward, done tensor([0.5000, 0.5000, 0.5000, 0.5000, 0.5000, 0.5000, 0.5000, 0.5000]) tensor([1, 1, 1, 1, 1, 1, 1, 1])\n",
      "obs peek tensor([ 0.0984, -0.0525,  0.3439, -0.4055]) reward, done tensor([0.5000, 0.5000, 0.5000, 0.5000, 0.5000, 0.5000, 0.5000, 0.5000]) tensor([1, 1, 1, 1, 1, 1, 1, 1])\n",
      "obs peek tensor([ 0.0944, -0.0410,  0.3519, -0.1516]) reward, done tensor([0.5000, 0.5000, 0.5000, 0.5000, 0.5000, 0.5000, 0.5000, 0.5000]) tensor([1, 1, 1, 1, 1, 1, 1, 1])\n",
      "obs peek tensor([ 0.0982, -0.1678,  0.1187,  0.1376]) reward, done tensor([0.5000, 0.5000, 0.5000, 0.5000, 0.5000, 0.5000, 0.5000, 0.5000]) tensor([1, 1, 1, 1, 1, 1, 1, 1])\n",
      "obs peek tensor([0.1060, 0.1626, 0.0510, 0.1736]) reward, done tensor([0.5000, 0.5000, 0.5000, 0.5000, 0.5000, 0.5000, 0.5000, 0.4917]) tensor([1, 1, 1, 1, 1, 1, 1, 1])\n",
      "obs peek tensor([ 0.1071, -0.0159, -0.1256,  0.1889]) reward, done tensor([0.5000, 0.5000, 0.5000, 0.5000, 0.5000, 0.5000, 0.5000, 0.4936]) tensor([1, 1, 1, 1, 1, 1, 1, 1])\n",
      "obs peek tensor([ 0.1027, -0.0530, -0.0744, -0.0387]) reward, done tensor([0.5000, 0.5000, 0.5000, 0.5000, 0.5000, 0.5000, 0.5000, 0.5000]) tensor([1, 1, 1, 1, 1, 1, 1, 1])\n",
      "obs peek tensor([ 0.1007, -0.1272, -0.1035, -0.0949]) reward, done tensor([0.5000, 0.5000, 0.5000, 0.5000, 0.5000, 0.5000, 0.5000, 0.5000]) tensor([1, 1, 1, 1, 1, 1, 1, 1])\n",
      "obs peek tensor([ 0.0970, -0.0502,  0.0174, -0.1278]) reward, done tensor([0.5000, 0.5000, 0.4975, 0.5000, 0.5000, 0.5000, 0.5000, 0.5000]) tensor([1, 1, 1, 1, 1, 1, 1, 1])\n",
      "obs peek tensor([ 0.0931, -0.1149, -0.0017,  0.0315]) reward, done tensor([0.5000, 0.5000, 0.4857, 0.5000, 0.5000, 0.5000, 0.5000, 0.5000]) tensor([1, 1, 1, 1, 1, 1, 1, 1])\n",
      "obs peek tensor([ 0.0944, -0.1801, -0.0009,  0.1815]) reward, done tensor([0.5000, 0.5000, 0.4868, 0.5000, 0.5000, 0.5000, 0.5000, 0.5000]) tensor([1, 1, 1, 1, 1, 1, 1, 1])\n",
      "obs peek tensor([ 0.0952, -0.1347, -0.0067,  0.0696]) reward, done tensor([0.5000, 0.5000, 0.4872, 0.5000, 0.5000, 0.5000, 0.5000, 0.5000]) tensor([1, 1, 1, 1, 1, 1, 1, 1])\n",
      "obs peek tensor([ 0.0940, -0.0268, -0.0426, -0.1720]) reward, done tensor([0.5000, 0.5000, 0.4868, 0.5000, 0.5000, 0.5000, 0.5000, 0.5000]) tensor([1, 1, 1, 1, 1, 1, 1, 1])\n",
      "obs peek tensor([ 0.0958,  0.2007,  0.0477, -0.0052]) reward, done tensor([0.5000, 0.5000, 0.4913, 0.5000, 0.5000, 0.5000, 0.5000, 0.4886]) tensor([1, 1, 1, 1, 1, 1, 1, 1])\n",
      "obs peek tensor([ 0.0904,  0.2613,  0.0070, -0.2719]) reward, done tensor([0.5000, 0.5000, 0.4920, 0.5000, 0.5000, 0.5000, 0.5000, 0.4806]) tensor([1, 1, 1, 1, 1, 1, 1, 1])\n",
      "obs peek tensor([ 0.0936,  0.1618, -0.0582,  0.0555]) reward, done tensor([0.5000, 0.5000, 0.4907, 0.5000, 0.5000, 0.5000, 0.5000, 0.4945]) tensor([1, 1, 1, 1, 1, 1, 1, 1])\n",
      "obs peek tensor([ 0.0974, -0.0475,  0.0558,  0.3051]) reward, done tensor([0.5000, 0.5000, 0.4880, 0.5000, 0.5000, 0.5000, 0.5000, 0.4907]) tensor([1, 1, 1, 1, 1, 1, 1, 1])\n",
      "obs peek tensor([ 0.1004, -0.1412, -0.0106,  0.1349]) reward, done tensor([0.5000, 0.5000, 0.4830, 0.5000, 0.5000, 0.5000, 0.5000, 0.4947]) tensor([1, 1, 1, 1, 1, 1, 1, 1])\n",
      "obs peek tensor([ 0.0976, -0.0383, -0.0473, -0.1530]) reward, done tensor([0.5000, 0.5000, 0.4746, 0.5000, 0.5000, 0.5000, 0.5000, 0.5000]) tensor([1, 1, 1, 1, 1, 1, 1, 1])\n",
      "obs peek tensor([0.0980, 0.0506, 0.0584, 0.1351]) reward, done tensor([0.5000, 0.5000, 0.4593, 0.5000, 0.5000, 0.5000, 0.5000, 0.5000]) tensor([1, 1, 1, 1, 1, 1, 1, 1])\n",
      "obs peek tensor([ 0.0976, -0.2292,  0.0514, -0.0450]) reward, done tensor([0.5000, 0.5000, 0.4616, 0.5000, 0.5000, 0.5000, 0.5000, 0.5000]) tensor([1, 1, 1, 1, 1, 1, 1, 1])\n",
      "obs peek tensor([ 0.0975,  0.0025,  0.1783, -0.0666]) reward, done tensor([0.5000, 0.5000, 0.4588, 0.5000, 0.5000, 0.5000, 0.5000, 0.5000]) tensor([1, 1, 1, 1, 1, 1, 1, 1])\n",
      "obs peek tensor([0.0977, 0.1054, 0.0704, 0.0431]) reward, done tensor([0.5000, 0.5000, 0.4659, 0.5000, 0.5000, 0.5000, 0.5000, 0.5000]) tensor([1, 1, 1, 1, 1, 1, 1, 1])\n",
      "obs peek tensor([ 0.0933, -0.0905,  0.0015,  0.0936]) reward, done tensor([0.5000, 0.5000, 0.4783, 0.5000, 0.5000, 0.5000, 0.5000, 0.5000]) tensor([1, 1, 1, 1, 1, 1, 1, 1])\n",
      "obs peek tensor([ 0.0951, -0.2250,  0.0135, -0.0017]) reward, done tensor([0.5000, 0.5000, 0.4803, 0.5000, 0.5000, 0.5000, 0.5000, 0.5000]) tensor([1, 1, 1, 1, 1, 1, 1, 1])\n",
      "obs peek tensor([ 0.1009, -0.4706,  0.0049,  0.3787]) reward, done tensor([0.5000, 0.5000, 0.4738, 0.5000, 0.5000, 0.5000, 0.5000, 0.4971]) tensor([1, 1, 1, 1, 1, 1, 1, 1])\n",
      "obs peek tensor([ 0.1133, -0.2271, -0.0210,  0.4685]) reward, done tensor([0.5000, 0.5000, 0.4750, 0.5000, 0.5000, 0.5000, 0.5000, 0.5000]) tensor([1, 1, 1, 1, 1, 1, 1, 1])\n",
      "obs peek tensor([ 0.1241, -0.1100, -0.1783,  0.5262]) reward, done tensor([0.5000, 0.5000, 0.4685, 0.5000, 0.5000, 0.5000, 0.5000, 0.5000]) tensor([1, 1, 1, 1, 1, 1, 1, 1])\n",
      "obs peek tensor([ 0.1263, -0.1024, -0.1454,  0.0706]) reward, done tensor([0.5000, 0.5000, 0.4682, 0.5000, 0.5000, 0.5000, 0.5000, 0.5000]) tensor([1, 1, 1, 1, 1, 1, 1, 1])\n",
      "obs peek tensor([ 0.1215, -0.1186, -0.1153, -0.1594]) reward, done tensor([0.5000, 0.5000, 0.4686, 0.5000, 0.5000, 0.5000, 0.5000, 0.5000]) tensor([1, 1, 1, 1, 1, 1, 1, 1])\n",
      "obs peek tensor([ 0.1292,  0.1228, -0.1956,  0.0663]) reward, done tensor([0.5000, 0.5000, 0.4633, 0.5000, 0.5000, 0.5000, 0.5000, 0.5000]) tensor([1, 1, 1, 1, 1, 1, 1, 1])\n",
      "obs peek tensor([ 0.1224, -0.0595, -0.0975, -0.1302]) reward, done tensor([0.5000, 0.5000, 0.4647, 0.5000, 0.5000, 0.5000, 0.5000, 0.5000]) tensor([1, 1, 1, 1, 1, 1, 1, 1])\n",
      "obs peek tensor([ 0.1224, -0.0276, -0.0116,  0.0229]) reward, done tensor([0.5000, 0.5000, 0.4750, 0.5000, 0.5000, 0.5000, 0.5000, 0.5000]) tensor([1, 1, 1, 1, 1, 1, 1, 1])\n",
      "obs peek tensor([ 0.1232,  0.1247, -0.1841,  0.0206]) reward, done tensor([0.5000, 0.5000, 0.4653, 0.5000, 0.5000, 0.5000, 0.5000, 0.5000]) tensor([1, 1, 1, 1, 1, 1, 1, 1])\n",
      "obs peek tensor([ 0.1201,  0.0109, -0.0577, -0.2439]) reward, done tensor([0.5000, 0.5000, 0.4626, 0.5000, 0.5000, 0.5000, 0.5000, 0.4982]) tensor([1, 1, 1, 1, 1, 1, 1, 1])\n",
      "obs peek tensor([ 0.1154,  0.1251,  0.0989, -0.1452]) reward, done tensor([0.5000, 0.5000, 0.4469, 0.5000, 0.5000, 0.5000, 0.5000, 0.5000]) tensor([1, 1, 1, 1, 1, 1, 1, 1])\n",
      "obs peek tensor([ 0.1127,  0.1615,  0.0737, -0.2507]) reward, done tensor([0.5000, 0.5000, 0.4294, 0.5000, 0.5000, 0.5000, 0.5000, 0.5000]) tensor([1, 1, 1, 1, 1, 1, 1, 1])\n",
      "obs peek tensor([ 0.1062,  0.2907,  0.0176, -0.2394]) reward, done tensor([0.5000, 0.5000, 0.4079, 0.5000, 0.5000, 0.5000, 0.5000, 0.5000]) tensor([1, 1, 1, 1, 1, 1, 1, 1])\n",
      "obs peek tensor([ 0.1017,  0.1026,  0.0967, -0.1263]) reward, done tensor([0.5000, 0.5000, 0.4020, 0.5000, 0.5000, 0.5000, 0.5000, 0.5000]) tensor([1, 1, 1, 1, 1, 1, 1, 1])\n",
      "obs peek tensor([ 0.0945,  0.1956, -0.1214, -0.3468]) reward, done tensor([0.5000, 0.5000, 0.3990, 0.5000, 0.5000, 0.5000, 0.5000, 0.5000]) tensor([1, 1, 1, 1, 1, 1, 1, 1])\n",
      "obs peek tensor([0.0955, 0.2010, 0.1942, 0.0200]) reward, done tensor([0.5000, 0.5000, 0.4058, 0.5000, 0.5000, 0.5000, 0.5000, 0.5000]) tensor([1, 1, 1, 1, 1, 1, 1, 1])\n",
      "obs peek tensor([ 0.0964, -0.0743,  0.1330, -0.1002]) reward, done tensor([0.5000, 0.5000, 0.4144, 0.5000, 0.5000, 0.5000, 0.5000, 0.5000]) tensor([1, 1, 1, 1, 1, 1, 1, 1])\n",
      "obs peek tensor([ 0.0961, -0.0159,  0.1301, -0.2042]) reward, done tensor([0.5000, 0.5000, 0.4123, 0.5000, 0.5000, 0.5000, 0.5000, 0.5000]) tensor([1, 1, 1, 1, 1, 1, 1, 1])\n",
      "obs peek tensor([ 0.0904,  0.0068,  0.1138, -0.1872]) reward, done tensor([0.5000, 0.5000, 0.4114, 0.5000, 0.5000, 0.5000, 0.5000, 0.5000]) tensor([1, 1, 1, 1, 1, 1, 1, 1])\n"
     ]
    },
    {
     "name": "stdout",
     "output_type": "stream",
     "text": [
      "obs peek tensor([ 0.0825,  0.1114,  0.1167, -0.3064]) reward, done tensor([0.5000, 0.5000, 0.4111, 0.5000, 0.5000, 0.5000, 0.5000, 0.5000]) tensor([1, 1, 1, 1, 1, 1, 1, 1])\n",
      "obs peek tensor([ 0.0878, -0.2859,  0.2022,  0.2066]) reward, done tensor([0.5000, 0.5000, 0.4186, 0.5000, 0.5000, 0.5000, 0.5000, 0.5000]) tensor([1, 1, 1, 1, 1, 1, 1, 1])\n",
      "obs peek tensor([ 0.0848, -0.1225,  0.0527,  0.0353]) reward, done tensor([0.5000, 0.5000, 0.4166, 0.5000, 0.5000, 0.5000, 0.5000, 0.5000]) tensor([1, 1, 1, 1, 1, 1, 1, 1])\n",
      "obs peek tensor([ 0.0919, -0.0913, -0.0182,  0.2504]) reward, done tensor([0.5000, 0.5000, 0.4027, 0.5000, 0.5000, 0.5000, 0.5000, 0.5000]) tensor([1, 1, 1, 1, 1, 1, 1, 1])\n",
      "obs peek tensor([ 0.0933,  0.0094,  0.0075, -0.0102]) reward, done tensor([0.5000, 0.5000, 0.3889, 0.5000, 0.5000, 0.5000, 0.5000, 0.5000]) tensor([1, 1, 1, 1, 1, 1, 1, 1])\n",
      "obs peek tensor([0.0951, 0.1467, 0.1063, 0.1769]) reward, done tensor([0.5000, 0.5000, 0.3895, 0.5000, 0.5000, 0.5000, 0.5000, 0.5000]) tensor([1, 1, 1, 1, 1, 1, 1, 1])\n",
      "obs peek tensor([ 0.1015,  0.0622, -0.0660,  0.2534]) reward, done tensor([0.5000, 0.5000, 0.3990, 0.5000, 0.5000, 0.5000, 0.5000, 0.5000]) tensor([1, 1, 1, 1, 1, 1, 1, 1])\n",
      "obs peek tensor([ 0.1099, -0.0410, -0.0362,  0.2992]) reward, done tensor([0.5000, 0.5000, 0.3814, 0.5000, 0.5000, 0.5000, 0.4931, 0.5000]) tensor([1, 1, 1, 1, 1, 1, 1, 1])\n",
      "obs peek tensor([0.1116, 0.2192, 0.1062, 0.1727]) reward, done tensor([0.5000, 0.5000, 0.3745, 0.5000, 0.5000, 0.5000, 0.4847, 0.5000]) tensor([1, 1, 1, 1, 1, 1, 1, 1])\n",
      "obs peek tensor([0.1191, 0.0494, 0.0822, 0.4246]) reward, done tensor([0.5000, 0.5000, 0.3619, 0.5000, 0.5000, 0.5000, 0.4810, 0.5000]) tensor([1, 1, 1, 1, 1, 1, 1, 1])\n",
      "obs peek tensor([ 0.1261,  0.0512, -0.0946,  0.1875]) reward, done tensor([0.5000, 0.5000, 0.3718, 0.5000, 0.5000, 0.5000, 0.4695, 0.5000]) tensor([1, 1, 1, 1, 1, 1, 1, 1])\n",
      "obs peek tensor([ 0.1317, -0.0970, -0.0745,  0.0924]) reward, done tensor([0.5000, 0.5000, 0.3820, 0.5000, 0.5000, 0.5000, 0.4724, 0.5000]) tensor([1, 1, 1, 1, 1, 1, 1, 1])\n",
      "obs peek tensor([ 0.1308, -0.1335, -0.1890,  0.0578]) reward, done tensor([0.5000, 0.5000, 0.3871, 0.5000, 0.5000, 0.5000, 0.4574, 0.5000]) tensor([1, 1, 1, 1, 1, 1, 1, 1])\n",
      "obs peek tensor([ 0.1294, -0.1391, -0.1307, -0.0462]) reward, done tensor([0.5000, 0.5000, 0.3999, 0.5000, 0.5000, 0.5000, 0.4576, 0.5000]) tensor([1, 1, 1, 1, 1, 1, 1, 1])\n",
      "obs peek tensor([ 0.1177,  0.0669,  0.0029, -0.3094]) reward, done tensor([0.5000, 0.5000, 0.3895, 0.5000, 0.5000, 0.5000, 0.4667, 0.5000]) tensor([1, 1, 1, 1, 1, 1, 1, 1])\n",
      "obs peek tensor([ 0.1208, -0.0657, -0.0876, -0.1936]) reward, done tensor([0.5000, 0.5000, 0.3983, 0.5000, 0.5000, 0.5000, 0.4750, 0.5000]) tensor([1, 1, 1, 1, 1, 1, 1, 1])\n",
      "obs peek tensor([ 0.1174, -0.0328, -0.0585, -0.1195]) reward, done tensor([0.5000, 0.5000, 0.3903, 0.5000, 0.5000, 0.5000, 0.4742, 0.5000]) tensor([1, 1, 1, 1, 1, 1, 1, 1])\n",
      "obs peek tensor([ 0.1204, -0.1490, -0.1302, -0.2354]) reward, done tensor([0.5000, 0.5000, 0.3852, 0.5000, 0.5000, 0.5000, 0.5000, 0.5000]) tensor([1, 1, 1, 1, 1, 1, 1, 1])\n",
      "obs peek tensor([ 0.1265, -0.1995, -0.1977,  0.0991]) reward, done tensor([0.5000, 0.5000, 0.3717, 0.5000, 0.5000, 0.4989, 0.5000, 0.5000]) tensor([1, 1, 1, 1, 1, 1, 1, 1])\n",
      "obs peek tensor([ 0.1351,  0.0604, -0.3902,  0.0897]) reward, done tensor([0.5000, 0.5000, 0.3459, 0.5000, 0.5000, 0.4886, 0.5000, 0.5000]) tensor([1, 1, 1, 1, 1, 1, 1, 1])\n",
      "obs peek tensor([ 0.1389, -0.0127, -0.0987, -0.0186]) reward, done tensor([0.5000, 0.5000, 0.3523, 0.5000, 0.5000, 0.4849, 0.5000, 0.5000]) tensor([1, 1, 1, 1, 1, 1, 1, 1])\n",
      "obs peek tensor([ 0.1412, -0.0149, -0.3855,  0.0698]) reward, done tensor([0.5000, 0.5000, 0.3492, 0.5000, 0.5000, 0.4980, 0.5000, 0.5000]) tensor([1, 1, 1, 1, 1, 1, 1, 1])\n",
      "obs peek tensor([ 0.1504,  0.1595, -0.4275,  0.3907]) reward, done tensor([0.5000, 0.5000, 0.3937, 0.5000, 0.5000, 0.4915, 0.5000, 0.5000]) tensor([1, 1, 1, 1, 1, 1, 1, 1])\n",
      "obs peek tensor([ 0.1569,  0.3421, -0.1710,  0.2833]) reward, done tensor([0.5000, 0.5000, 0.3811, 0.5000, 0.5000, 0.5000, 0.5000, 0.5000]) tensor([1, 1, 1, 1, 1, 1, 1, 1])\n",
      "obs peek tensor([ 0.1600,  0.3656, -0.0686,  0.1494]) reward, done tensor([0.5000, 0.5000, 0.3593, 0.5000, 0.5000, 0.5000, 0.5000, 0.5000]) tensor([1, 1, 1, 1, 1, 1, 1, 1])\n",
      "obs peek tensor([ 0.1554,  0.1986,  0.1999, -0.1466]) reward, done tensor([0.5000, 0.5000, 0.3678, 0.5000, 0.5000, 0.5000, 0.5000, 0.5000]) tensor([1, 1, 1, 1, 1, 1, 1, 1])\n",
      "obs peek tensor([ 0.1565,  0.0848,  0.1635, -0.0529]) reward, done tensor([0.5000, 0.5000, 0.3891, 0.5000, 0.5000, 0.5000, 0.5000, 0.5000]) tensor([1, 1, 1, 1, 1, 1, 1, 1])\n",
      "obs peek tensor([ 0.1564,  0.2070,  0.1031, -0.0544]) reward, done tensor([0.5000, 0.5000, 0.3893, 0.5000, 0.5000, 0.5000, 0.5000, 0.5000]) tensor([1, 1, 1, 1, 1, 1, 1, 1])\n",
      "obs peek tensor([ 0.1562,  0.0381,  0.0172, -0.1016]) reward, done tensor([0.5000, 0.5000, 0.3661, 0.5000, 0.5000, 0.4918, 0.5000, 0.5000]) tensor([1, 1, 1, 1, 1, 1, 1, 1])\n",
      "obs peek tensor([ 0.1525,  0.2732,  0.2936, -0.2105]) reward, done tensor([0.5000, 0.5000, 0.3542, 0.5000, 0.5000, 0.4877, 0.5000, 0.5000]) tensor([1, 1, 1, 1, 1, 1, 1, 1])\n",
      "obs peek tensor([ 0.1495,  0.0567,  0.2463, -0.2198]) reward, done tensor([0.5000, 0.5000, 0.3530, 0.5000, 0.5000, 0.4931, 0.5000, 0.5000]) tensor([1, 1, 1, 1, 1, 1, 1, 1])\n",
      "obs peek tensor([ 0.1463, -0.3791,  0.1836, -0.1673]) reward, done tensor([0.5000, 0.5000, 0.3524, 0.5000, 0.5000, 0.4924, 0.5000, 0.5000]) tensor([1, 1, 1, 1, 1, 1, 1, 1])\n",
      "obs peek tensor([ 0.1339, -0.5179,  0.2851, -0.3671]) reward, done tensor([0.5000, 0.5000, 0.3640, 0.5000, 0.5000, 0.4942, 0.5000, 0.5000]) tensor([1, 1, 1, 1, 1, 1, 1, 1])\n",
      "obs peek tensor([ 0.1274, -0.3594,  0.1942, -0.2747]) reward, done tensor([0.5000, 0.5000, 0.3772, 0.5000, 0.5000, 0.5000, 0.5000, 0.5000]) tensor([1, 1, 1, 1, 1, 1, 1, 1])\n",
      "obs peek tensor([ 0.1230, -0.3374,  0.2767, -0.2092]) reward, done tensor([0.5000, 0.5000, 0.3944, 0.5000, 0.5000, 0.4996, 0.5000, 0.5000]) tensor([1, 1, 1, 1, 1, 1, 1, 1])\n",
      "obs peek tensor([ 0.1179, -0.2128,  0.0813, -0.0646]) reward, done tensor([0.5000, 0.5000, 0.4162, 0.5000, 0.5000, 0.5000, 0.5000, 0.5000]) tensor([1, 1, 1, 1, 1, 1, 1, 1])\n",
      "obs peek tensor([ 0.1157, -0.0058,  0.0509, -0.2315]) reward, done tensor([0.5000, 0.5000, 0.4237, 0.5000, 0.5000, 0.5000, 0.4936, 0.5000]) tensor([1, 1, 1, 1, 1, 1, 1, 1])\n",
      "obs peek tensor([ 0.1042, -0.1217,  0.0294, -0.1000]) reward, done tensor([0.5000, 0.5000, 0.4477, 0.5000, 0.5000, 0.5000, 0.4967, 0.5000]) tensor([1, 1, 1, 1, 1, 1, 1, 1])\n",
      "obs peek tensor([ 0.1005,  0.0582,  0.0777, -0.1669]) reward, done tensor([0.5000, 0.5000, 0.4587, 0.5000, 0.5000, 0.5000, 0.4939, 0.5000]) tensor([1, 1, 1, 1, 1, 1, 1, 1])\n",
      "obs peek tensor([ 0.0976,  0.0283,  0.1286, -0.0604]) reward, done tensor([0.5000, 0.5000, 0.4704, 0.5000, 0.5000, 0.5000, 0.4977, 0.5000]) tensor([1, 1, 1, 1, 1, 1, 1, 1])\n",
      "obs peek tensor([ 0.0926,  0.2188,  0.0311, -0.1981]) reward, done tensor([0.5000, 0.5000, 0.4735, 0.5000, 0.5000, 0.5000, 0.4953, 0.5000]) tensor([1, 1, 1, 1, 1, 1, 1, 1])\n",
      "obs peek tensor([ 0.0888,  0.0635,  0.1088, -0.1975]) reward, done tensor([0.5000, 0.5000, 0.4590, 0.5000, 0.5000, 0.5000, 0.5000, 0.5000]) tensor([1, 1, 1, 1, 1, 1, 1, 1])\n",
      "obs peek tensor([0.0876, 0.0020, 0.0188, 0.0433]) reward, done tensor([0.5000, 0.5000, 0.4625, 0.5000, 0.5000, 0.5000, 0.5000, 0.5000]) tensor([1, 1, 1, 1, 1, 1, 1, 1])\n",
      "obs peek tensor([ 0.0895, -0.1425,  0.0152,  0.1402]) reward, done tensor([0.5000, 0.5000, 0.4521, 0.5000, 0.5000, 0.5000, 0.5000, 0.5000]) tensor([1, 1, 1, 1, 1, 1, 1, 1])\n",
      "obs peek tensor([ 0.0982, -0.2270, -0.2237,  0.3017]) reward, done tensor([0.5000, 0.5000, 0.4370, 0.5000, 0.5000, 0.5000, 0.5000, 0.5000]) tensor([1, 1, 1, 1, 1, 1, 1, 1])\n",
      "obs peek tensor([ 0.0975, -0.2392, -0.2455,  0.0743]) reward, done tensor([0.5000, 0.5000, 0.4455, 0.5000, 0.5000, 0.5000, 0.5000, 0.5000]) tensor([1, 1, 1, 1, 1, 1, 1, 1])\n",
      "obs peek tensor([ 0.0954, -0.1789, -0.1675, -0.0703]) reward, done tensor([0.5000, 0.5000, 0.4557, 0.5000, 0.5000, 0.5000, 0.5000, 0.5000]) tensor([1, 1, 1, 1, 1, 1, 1, 1])\n",
      "obs peek tensor([ 0.0869, -0.1887, -0.1275, -0.3636]) reward, done tensor([0.5000, 0.5000, 0.4668, 0.5000, 0.5000, 0.5000, 0.5000, 0.5000]) tensor([1, 1, 1, 1, 1, 1, 1, 1])\n"
     ]
    },
    {
     "name": "stdout",
     "output_type": "stream",
     "text": [
      "obs peek tensor([ 0.0923, -0.1409, -0.1762,  0.0644]) reward, done tensor([0.5000, 0.5000, 0.4735, 0.5000, 0.5000, 0.5000, 0.5000, 0.5000]) tensor([1, 1, 1, 1, 1, 1, 1, 1])\n",
      "obs peek tensor([ 0.0924, -0.1560,  0.0188,  0.1507]) reward, done tensor([0.5000, 0.5000, 0.4600, 0.5000, 0.5000, 0.5000, 0.5000, 0.5000]) tensor([1, 1, 1, 1, 1, 1, 1, 1])\n",
      "obs peek tensor([ 0.0970, -0.0580,  0.1996,  0.0234]) reward, done tensor([0.5000, 0.5000, 0.4498, 0.5000, 0.5000, 0.5000, 0.5000, 0.5000]) tensor([1, 1, 1, 1, 1, 1, 1, 1])\n",
      "obs peek tensor([ 0.0991, -0.0837,  0.0489,  0.1362]) reward, done tensor([0.5000, 0.5000, 0.4534, 0.5000, 0.5000, 0.5000, 0.5000, 0.5000]) tensor([1, 1, 1, 1, 1, 1, 1, 1])\n",
      "obs peek tensor([0.0988, 0.0423, 0.1299, 0.1012]) reward, done tensor([0.5000, 0.5000, 0.4587, 0.5000, 0.5000, 0.5000, 0.5000, 0.5000]) tensor([1, 1, 1, 1, 1, 1, 1, 1])\n",
      "obs peek tensor([ 0.0986,  0.1912,  0.2142, -0.0758]) reward, done tensor([0.5000, 0.5000, 0.4398, 0.5000, 0.5000, 0.5000, 0.5000, 0.5000]) tensor([1, 1, 1, 1, 1, 1, 1, 1])\n"
     ]
    }
   ],
   "source": [
    "for i in range(300):\n",
    "    world.step(render=True)\n",
    "    env.step(actions = None)\n",
    "    env.compute_observations()\n",
    "    \n",
    "    new_obs_buf = env.obs_buf.clone()\n",
    "    reward, done = env.compute_reward()\n",
    "    print(\"obs peek\", env.obs_buf[0,:4], \"reward, done\", reward, done)"
   ]
  },
  {
   "cell_type": "code",
   "execution_count": 26,
   "id": "3aef5f1d",
   "metadata": {},
   "outputs": [],
   "source": [
    "world.reset()\n",
    "env.robots.initialize()"
   ]
  },
  {
   "cell_type": "code",
   "execution_count": 30,
   "id": "6a0a2003",
   "metadata": {},
   "outputs": [],
   "source": [
    "# torso_position, torso_rotation  = env.robots.get_world_poses()"
   ]
  },
  {
   "cell_type": "code",
   "execution_count": 29,
   "id": "0964d988",
   "metadata": {},
   "outputs": [],
   "source": [
    "# torso_position"
   ]
  },
  {
   "cell_type": "code",
   "execution_count": null,
   "id": "c86b38a5",
   "metadata": {},
   "outputs": [],
   "source": []
  }
 ],
 "metadata": {
  "kernelspec": {
   "display_name": "Isaac Sim Python 3",
   "language": "python",
   "name": "isaac_sim_python3"
  },
  "language_info": {
   "codemirror_mode": {
    "name": "ipython",
    "version": 3
   },
   "file_extension": ".py",
   "mimetype": "text/x-python",
   "name": "python",
   "nbconvert_exporter": "python",
   "pygments_lexer": "ipython3",
   "version": "3.7.13"
  }
 },
 "nbformat": 4,
 "nbformat_minor": 5
}
