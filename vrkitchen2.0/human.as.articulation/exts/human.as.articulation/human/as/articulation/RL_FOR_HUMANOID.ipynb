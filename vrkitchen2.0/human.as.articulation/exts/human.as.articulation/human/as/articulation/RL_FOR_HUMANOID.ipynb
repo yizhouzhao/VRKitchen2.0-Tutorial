{
 "cells": [
  {
   "cell_type": "code",
   "execution_count": 1,
   "id": "06d0df9b",
   "metadata": {},
   "outputs": [],
   "source": [
    "from rl.torch_utils import *\n",
    "from rl.torch_jit_utils import *\n",
    "from rl.trainer import Trainer\n",
    "\n",
    "# trainer = Trainer(57, 21)"
   ]
  },
  {
   "cell_type": "code",
   "execution_count": 2,
   "id": "d0513c1f",
   "metadata": {},
   "outputs": [],
   "source": [
    "import getpass\n",
    "\n",
    "user = getpass.getuser()"
   ]
  },
  {
   "cell_type": "code",
   "execution_count": 3,
   "id": "a03d2f53",
   "metadata": {},
   "outputs": [
    {
     "data": {
      "text/plain": [
       "'yizhou'"
      ]
     },
     "execution_count": 3,
     "metadata": {},
     "output_type": "execute_result"
    }
   ],
   "source": [
    "user"
   ]
  },
  {
   "cell_type": "code",
   "execution_count": 4,
   "id": "5729f128",
   "metadata": {},
   "outputs": [
    {
     "name": "stdout",
     "output_type": "stream",
     "text": [
      "Starting kit application with the fillowing args:  ['/home/yizhou/.local/share/ov/pkg/isaac_sim-2022.1.0/exts/omni.isaac.kit/omni/isaac/kit/simulation_app.py', '/home/yizhou/.local/share/ov/pkg/isaac_sim-2022.1.0/apps/omni.isaac.sim.python.kit', '--/app/tokens/exe-path=/home/yizhou/.local/share/ov/pkg/isaac_sim-2022.1.0/kit', '--/persistent/app/viewport/displayOptions=3094', '--/rtx/materialDb/syncLoads=True', '--/rtx/hydra/materialSyncLoads=True--/omni.kit.plugin/syncUsdLoads=True', '--/app/renderer/resolution/width=1280', '--/app/renderer/resolution/height=720', '--/app/window/width=1440', '--/app/window/height=900', '--/renderer/multiGpu/enabled=True', '--ext-folder', '/home/yizhou/.local/share/ov/pkg/isaac_sim-2022.1.0/exts', '--ext-folder', '/home/yizhou/.local/share/ov/pkg/isaac_sim-2022.1.0/apps', '--portable', '--no-window']\n",
      "Passing the following args to the base kit application:  ['-f', '/home/yizhou/.local/share/jupyter/runtime/kernel-2e4810c0-cf03-4c26-8ad5-07c34b064ad0.json']\n",
      "[Warning] [omni.kit.app.plugin] No crash reporter present, dumps uploading isn't available.\n",
      "[Info] [carb] Logging to file: /home/yizhou/.local/share/ov/pkg/isaac_sim-2022.1.0/kit/logs/Kit/Isaac-Sim/2022.1/kit_20220719_105810.log\n",
      "[0.079s] [ext: omni.stats-0.0.0] startup\n",
      "[0.125s] [ext: omni.gpu_foundation-0.0.0] startup\n",
      "2022-07-19 17:58:10 [135ms] [Warning] [carb] FrameworkImpl::setDefaultPlugin(client: omni.gpu_foundation_factory.plugin, desc : [carb::graphics::Graphics v2.5], plugin : carb.graphics-vulkan.plugin) failed. Plugin selection is locked, because the interface was previously acquired by: \n",
      "[0.150s] [ext: carb.windowing.plugins-1.0.0] startup\n",
      "[0.164s] [ext: omni.assets.plugins-0.0.0] startup\n",
      "[0.167s] [ext: omni.kit.renderer.init-0.0.0] startup\n",
      "\n",
      "|---------------------------------------------------------------------------------------------|\n",
      "| Driver Version: 510.73.5      | Graphics API: Vulkan\n",
      "|=============================================================================================|\n",
      "| GPU | Name                             | Active | LDA | GPU Memory | Vendor-ID | LUID       |\n",
      "|     |                                  |        |     |            | Device-ID | UUID       |\n",
      "|---------------------------------------------------------------------------------------------|\n",
      "| 0   | NVIDIA GeForce RTX 3090          | Yes: 0 |     | 24822   MB | 10de      | 0          |\n",
      "|     |                                  |        |     |            | 2204      | 3f50dd6e.. |\n",
      "|=============================================================================================|\n",
      "| OS: Linux yizhou-Z370-AORUS-Gaming-5, Version: 5.15.0-41-generic\n",
      "| Processor: Intel(R) Core(TM) i7-8700K CPU @ 3.70GHz | Cores: Unknown | Logical: 12\n",
      "|---------------------------------------------------------------------------------------------|\n",
      "| Total Memory (MB): 32046 | Free Memory: 15002\n",
      "| Total Page/Swap (MB): 2047 | Free Page/Swap: 2047\n",
      "|---------------------------------------------------------------------------------------------|\n",
      "2022-07-19 17:58:11 [1,050ms] [Warning] [carb.cudainterop.plugin] On Linux only, CUDA and the display driver does not support IOMMU-enabled bare-metal PCIe peer to peer memory copy.\n",
      "However, CUDA and the display driver does support IOMMU via VM pass through. As a consequence, users on Linux,\n",
      "when running on a native bare metal system, should disable the IOMMU. The IOMMU should be enabled and the VFIO driver\n",
      "be used as a PCIe pass through for virtual machines.\n",
      "[1.074s] [ext: omni.kit.pipapi-0.0.0] startup\n",
      "[1.085s] [ext: omni.kit.pip_archive-0.0.0] startup\n",
      "[1.090s] [ext: omni.isaac.core_archive-0.3.0] startup\n",
      "[1.112s] [ext: omni.usd.config-1.0.0] startup\n",
      "[1.114s] [ext: omni.usd.libs-1.0.0] startup\n",
      "[1.382s] [ext: omni.isaac.ml_archive-0.1.0] startup\n",
      "[1.440s] [ext: omni.kit.loop-isaac-0.1.0] startup\n",
      "[1.441s] [ext: omni.kit.async_engine-0.0.0] startup\n",
      "[1.443s] [ext: omni.appwindow-1.0.0] startup\n",
      "[1.447s] [ext: omni.client-0.1.0] startup\n",
      "[1.472s] [ext: omni.kit.test-0.0.0] startup\n",
      "[1.503s] [ext: omni.kit.renderer.core-0.0.0] startup\n",
      "[1.584s] [ext: omni.ui-2.10.3] startup\n",
      "[1.609s] [ext: carb.audio-0.1.0] startup\n",
      "[1.637s] [ext: omni.kit.mainwindow-0.0.0] startup\n",
      "[1.640s] [ext: omni.uiaudio-1.0.0] startup\n",
      "[1.642s] [ext: omni.kit.uiapp-0.0.0] startup\n",
      "[1.642s] [ext: omni.usd.schema.physics-1.0.0] startup\n",
      "[1.700s] [ext: omni.usd.schema.audio-0.0.0] startup\n",
      "[1.709s] [ext: omni.usd.schema.semantics-0.0.0] startup\n",
      "[1.723s] [ext: omni.usd.schema.omnigraph-1.0.0] startup\n",
      "[1.735s] [ext: omni.usd.schema.anim-0.0.0] startup\n",
      "[1.788s] [ext: omni.kit.commands-1.2.2] startup\n",
      "[1.794s] [ext: omni.timeline-1.0.2] startup\n",
      "[1.798s] [ext: omni.hydra.scene_delegate-0.2.0] startup\n",
      "[1.808s] [ext: omni.kit.audiodeviceenum-1.0.0] startup\n",
      "[1.812s] [ext: omni.usd-1.5.3] startup\n",
      "[1.887s] [ext: omni.kit.asset_converter-1.2.30] startup\n",
      "[1.917s] [ext: omni.usd.schema.isaac-0.2.0] startup\n",
      "[1.974s] [ext: omni.usd.schema.physx-0.0.0] startup\n",
      "[2.009s] [ext: omni.kit.search_core-1.0.2] startup\n",
      "[2.011s] [ext: omni.renderer-rtx-0.0.0] startup\n",
      "[2.014s] [ext: omni.kit.widget.graph-1.4.2] startup\n",
      "[2.024s] [ext: omni.kit.widget.filebrowser-2.2.26] startup\n",
      "[2.075s] [ext: omni.kit.window.popup_dialog-2.0.7] startup\n",
      "[2.083s] [ext: omni.mdl.neuraylib-0.1.0] startup\n",
      "[2.088s] [ext: omni.kit.widget.path_field-2.0.3] startup\n",
      "[2.090s] [ext: omni.kit.widget.versioning-1.3.8] startup\n",
      "[2.093s] [ext: omni.kit.notification_manager-1.0.5] startup\n",
      "[2.097s] [ext: omni.kit.widget.browser_bar-2.0.3] startup\n",
      "[2.099s] [ext: omni.kit.menu.utils-1.2.11] startup\n",
      "[2.113s] [ext: omni.kit.window.filepicker-2.4.29] startup\n"
     ]
    },
    {
     "name": "stderr",
     "output_type": "stream",
     "text": [
      "OmniAssetFileFormat\n"
     ]
    },
    {
     "name": "stdout",
     "output_type": "stream",
     "text": [
      "[2.185s] [ext: omni.mdl-0.1.0] startup\n",
      "[2.211s] [ext: omni.kit.menu.create-1.0.2] startup\n",
      "[2.213s] [ext: omni.kit.window.file_exporter-1.0.4] startup\n",
      "[2.214s] [ext: omni.kit.window.drop_support-1.0.0] startup\n",
      "[2.216s] [ext: omni.kit.material.library-1.3.10] startup\n",
      "[2.220s] [ext: omni.kit.window.property-1.6.3] startup\n",
      "[2.222s] [ext: omni.kit.context_menu-1.3.9] startup\n",
      "[2.228s] [ext: omni.kit.window.file_importer-1.0.4] startup\n",
      "[2.229s] [ext: omni.kit.stage_templates-1.1.2] startup\n",
      "[2.232s] [ext: omni.kit.widget.stage-2.6.15] startup\n",
      "[2.238s] [ext: omni.kit.window.file-1.3.16] startup\n",
      "[2.242s] [ext: omni.debugdraw-0.1.0] startup\n",
      "[2.249s] [ext: omni.kit.window.content_browser-2.4.28] startup\n",
      "[2.261s] [ext: omni.kit.widget.prompt-1.0.1] startup\n",
      "[2.262s] [ext: omni.kit.property.usd-3.14.8] startup\n",
      "[2.301s] [ext: omni.hydra.engine.stats-1.0.0] startup\n",
      "[2.309s] [ext: omni.kit.widget.settings-1.0.0] startup\n",
      "[2.311s] [ext: omni.graph.tools-1.3.5] startup\n",
      "[2.343s] [ext: omni.graph.core-2.27.0] startup\n",
      "[2.349s] [ext: omni.hydra.rtx-0.1.0] startup\n",
      "[2.372s] [ext: omni.kit.viewport.legacy_gizmos-1.0.0] startup\n",
      "[2.376s] [ext: omni.ui_query-1.1.1] startup\n",
      "[2.378s] [ext: omni.graph-1.22.1] startup\n",
      "[2.438s] [ext: omni.kit.window.viewport-0.0.0] startup\n"
     ]
    },
    {
     "name": "stderr",
     "output_type": "stream",
     "text": [
      "2022-07-19 17:58:12 [2,545ms] [Error] [rtx.neuraylib.plugin] [DYNLIB:IO]   0.1   DYNLIB io   error: /home/yizhou/.local/share/ov/pkg/isaac_sim-2022.1.0/kit/python/bin/libs/iray/libnvindex.so: cannot open shared object file: No such file or directory\n",
      "2022-07-19 17:58:12 [2,545ms] [Error] [rtx.neuraylib.plugin] [INDEX:MAIN]   0.1   INDEX  main error: Failed to load /home/yizhou/.local/share/ov/pkg/isaac_sim-2022.1.0/kit/python/bin/libs/iray/libnvindex.so\n"
     ]
    },
    {
     "name": "stdout",
     "output_type": "stream",
     "text": [
      "Warp initialized:\n",
      "   Version: 0.2.1\n",
      "   Using CUDA device: NVIDIA GeForce RTX 3090\n",
      "   Using CPU compiler: /usr/bin/g++\n",
      "[7.287s] [ext: omni.kit.window.preferences-1.2.1] startup\n",
      "[7.329s] [ext: omni.kit.ui_test-1.2.0] startup\n",
      "[7.386s] [ext: omni.graph.ui-1.6.1] startup\n",
      "[7.418s] [ext: omni.kvdb-0.0.0] startup\n",
      "[7.422s] [ext: omni.kit.widget.searchfield-1.0.6] startup\n",
      "[7.425s] [ext: omni.convexdecomposition-1.4.12] startup\n",
      "[7.430s] [ext: omni.graph.action-1.17.0] startup\n",
      "[7.447s] [ext: omni.localcache-0.0.0] startup\n",
      "[7.451s] [ext: omni.usdphysics-1.4.12] startup\n",
      "[7.455s] [ext: omni.graph.scriptnode-0.5.0] startup\n",
      "[7.458s] [ext: omni.physx-1.4.12-5.1] startup\n",
      "[7.492s] [ext: omni.kit.usd_undo-0.1.0] startup\n",
      "[7.497s] [ext: omni.graph.nodes-1.25.0] startup\n",
      "[7.530s] [ext: omni.physx.commands-1.4.12-5.1] startup\n",
      "[7.536s] [ext: omni.syntheticdata-0.2.1] startup\n",
      "[7.594s] [ext: omni.physx.ui-1.4.12-5.1] startup\n",
      "[7.683s] [ext: omni.warp-0.2.1] startup\n",
      "[9.301s] [ext: omni.kit.renderer.capture-0.0.0] startup\n",
      "[9.306s] [ext: omni.kit.property.material-1.8.5] startup\n",
      "[9.310s] [ext: omni.physx.demos-1.4.12-5.1] startup\n",
      "[9.314s] [ext: omni.physics.tensors-0.1.0] startup\n",
      "[9.324s] [ext: omni.kit.property.physx-0.1.0] startup\n",
      "2022-07-19 17:58:19 [9,381ms] [Warning] [omni.physx.plugin] Deprecated: getSimulationEventStream is deprecated, please use getSimulationEventStreamV2\n",
      "[9.396s] [ext: omni.kit.window.toolbar-1.2.4] startup\n",
      "[9.405s] [ext: omni.physx.tensors-0.1.0] startup\n",
      "[9.413s] [ext: omni.physx.vehicle-1.4.12-5.1] startup\n",
      "[9.429s] [ext: omni.physx.tests-1.4.12-5.1] startup\n",
      "[9.575s] [ext: omni.kit.numpy.common-0.1.0] startup\n",
      "[9.578s] [ext: omni.physx.camera-1.4.12-5.1] startup\n",
      "[9.588s] [ext: omni.physx.cct-1.4.12-5.1] startup\n",
      "[9.666s] [ext: omni.isaac.version-1.0.0] startup\n",
      "[9.668s] [ext: omni.isaac.dynamic_control-1.0.0] startup\n",
      "[9.679s] [ext: omni.physx.bundle-1.4.12-5.1] startup\n",
      "[9.679s] [ext: omni.kit.primitive.mesh-1.0.0] startup\n",
      "[9.685s] [ext: omni.command.usd-1.0.1] startup\n",
      "[9.689s] [ext: omni.isaac.core-1.15.1] startup\n",
      "[9.757s] [ext: omni.replicator.core-1.2.0] startup\n",
      "[9.880s] [ext: omni.kit.window.extensions-1.1.0] startup\n",
      "[9.887s] [ext: omni.isaac.core_nodes-0.9.0] startup\n",
      "[9.902s] [ext: omni.isaac.ui-0.2.1] startup\n",
      "[9.905s] [ext: omni.kit.window.script_editor-1.6.2] startup\n",
      "[9.915s] [ext: omni.isaac.wheeled_robots-0.5.4] startup\n",
      "[9.929s] [ext: omni.kit.menu.common-1.0.0] startup\n",
      "[9.931s] [ext: omni.kit.graph.delegate.default-1.0.15] startup\n",
      "[9.933s] [ext: omni.kit.graph.delegate.modern-1.6.0] startup\n",
      "[9.936s] [ext: omni.kit.widget.zoombar-1.0.3] startup\n",
      "[9.937s] [ext: omni.kit.graph.editor.core-1.3.3] startup\n",
      "[9.941s] [ext: omni.kit.widget.stage_icons-1.0.2] startup\n",
      "[9.943s] [ext: omni.kit.browser.core-2.0.12] startup\n",
      "[9.950s] [ext: omni.kit.graph.widget.variables-2.0.2] startup\n",
      "[9.952s] [ext: omni.kit.window.stage-2.3.7] startup\n",
      "[9.956s] [ext: omni.kit.browser.folder.core-1.1.13] startup\n",
      "[9.960s] [ext: omni.graph.window.core-1.22.1] startup\n",
      "[9.967s] [ext: omni.isaac.lula-1.1.0] startup\n",
      "[9.983s] [ext: omni.graph.instancing-1.1.4] startup\n",
      "[9.991s] [ext: omni.graph.window.action-1.3.8] startup\n",
      "[9.993s] [ext: omni.graph.tutorials-1.1.2] startup\n",
      "[10.014s] [ext: omni.rtx.window.settings-0.6.1] startup\n",
      "[10.021s] [ext: omni.isaac.motion_planning-0.2.0] startup\n",
      "[10.031s] [ext: omni.graph.bundle.action-1.0.0] startup\n",
      "[10.032s] [ext: omni.rtx.settings.core-0.5.5] startup\n",
      "[10.037s] [ext: omni.isaac.motion_generation-3.1.2] startup\n",
      "[10.045s] [ext: omni.isaac.kit-0.1.9] startup\n",
      "[10.046s] [ext: omni.isaac.debug_draw-0.1.2] startup\n",
      "[10.054s] [ext: omni.kit.selection-0.1.0] startup\n",
      "[10.055s] [ext: omni.isaac.franka-0.0.0] startup\n",
      "[10.057s] [ext: omni.kit.widget.layers-1.5.17] startup\n",
      "[10.077s] [ext: omni.kit.menu.edit-1.0.6] startup\n",
      "[10.079s] [ext: omni.isaac.isaac_sensor-0.3.4] startup\n",
      "2022-07-19 17:58:20 [10,074ms] [Warning] [omni.physx.plugin] Deprecated: getSimulationEventStream is deprecated, please use getSimulationEventStreamV2\n",
      "[10.089s] [ext: omni.kit.widget.live-0.1.0] startup\n",
      "[10.095s] [ext: omni.isaac.surface_gripper-0.1.2] startup\n",
      "[10.102s] [ext: omni.kit.property.layer-1.1.2] startup\n",
      "[10.105s] [ext: omni.isaac.range_sensor-0.4.2] startup\n",
      "[10.136s] [Opening usd file at  omniverse://localhost/Users/yizhou/test_humanoid.usd  ...Done.\n",
      "Saving a temp livesync stage at  omniverse://localhost/Users/yizhou/test_humanoid.usd  ...Done.\n"
     ]
    }
   ],
   "source": [
    "from omni.isaac.kit import SimulationApp\n",
    "\n",
    "simulation_app = SimulationApp({\"headless\": True, \"open_usd\": f\"omniverse://localhost/Users/{user}/test_humanoid.usd\", \n",
    "                                \"livesync_usd\": f\"omniverse://localhost/Users/{user}/test_humanoid.usd\"})\n"
   ]
  },
  {
   "cell_type": "code",
   "execution_count": 5,
   "id": "df5e8e28",
   "metadata": {},
   "outputs": [],
   "source": [
    "import omni\n",
    "from omni.isaac.core import World\n",
    "from pxr import Gf, Sdf, UsdGeom, UsdShade\n",
    "\n",
    "import torch\n",
    "import numpy as np"
   ]
  },
  {
   "cell_type": "code",
   "execution_count": 6,
   "id": "a526dc79",
   "metadata": {},
   "outputs": [],
   "source": [
    "world = World(physics_dt= 1.0 / 60, backend = \"torch\")"
   ]
  },
  {
   "cell_type": "code",
   "execution_count": 7,
   "id": "946bc535",
   "metadata": {},
   "outputs": [],
   "source": [
    "from omni.isaac.core.utils.stage import set_stage_up_axis\n",
    "\n",
    "set_stage_up_axis(\"y\")\n",
    "world.get_physics_context().set_gravity(-9.81)"
   ]
  },
  {
   "cell_type": "code",
   "execution_count": 8,
   "id": "d39ebae0",
   "metadata": {},
   "outputs": [
    {
     "data": {
      "text/plain": [
       "'Y'"
      ]
     },
     "execution_count": 8,
     "metadata": {},
     "output_type": "execute_result"
    }
   ],
   "source": [
    "from omni.isaac.core.utils.stage import get_current_stage\n",
    "UsdGeom.GetStageUpAxis(get_current_stage())"
   ]
  },
  {
   "cell_type": "code",
   "execution_count": 9,
   "id": "04aa76f2",
   "metadata": {},
   "outputs": [
    {
     "data": {
      "text/plain": [
       "Gf.Vec3f(0.0, -1.0, 0.0)"
      ]
     },
     "execution_count": 9,
     "metadata": {},
     "output_type": "execute_result"
    }
   ],
   "source": [
    "world.get_physics_context()._physics_scene.GetGravityDirectionAttr().Get()"
   ]
  },
  {
   "cell_type": "code",
   "execution_count": 10,
   "id": "be5c294e",
   "metadata": {
    "scrolled": true
   },
   "outputs": [],
   "source": [
    "# world.scene.add_default_ground_plane()"
   ]
  },
  {
   "cell_type": "code",
   "execution_count": 11,
   "id": "8cceb442",
   "metadata": {},
   "outputs": [
    {
     "data": {
      "text/plain": [
       "849"
      ]
     },
     "execution_count": 11,
     "metadata": {},
     "output_type": "execute_result"
    }
   ],
   "source": [
    "# get prims\n",
    "len(list(world.scene.stage.TraverseAll()))"
   ]
  },
  {
   "cell_type": "code",
   "execution_count": 12,
   "id": "8f3940b5",
   "metadata": {},
   "outputs": [],
   "source": [
    "world.render()"
   ]
  },
  {
   "cell_type": "code",
   "execution_count": 13,
   "id": "f41cb92a",
   "metadata": {},
   "outputs": [],
   "source": [
    "from rl.robot_env import RobotEnv\n",
    "\n",
    "env = RobotEnv(\"/World/envs/*/humanoid/torso\")"
   ]
  },
  {
   "cell_type": "code",
   "execution_count": 14,
   "id": "fa98db58",
   "metadata": {},
   "outputs": [],
   "source": [
    "world.render()"
   ]
  },
  {
   "cell_type": "code",
   "execution_count": 15,
   "id": "b845560e",
   "metadata": {},
   "outputs": [],
   "source": [
    "world.reset()"
   ]
  },
  {
   "cell_type": "code",
   "execution_count": 16,
   "id": "ecae9acc",
   "metadata": {},
   "outputs": [
    {
     "name": "stdout",
     "output_type": "stream",
     "text": [
      "simlation context torch None\n",
      "num_envs 8\n",
      "default joint state tensor([[0., 0., 0., 0., 0., 0., 0., 0., 0., 0., 0., 0., 0., 0., 0., 0., 0., 0., 0., 0., 0.],\n",
      "        [0., 0., 0., 0., 0., 0., 0., 0., 0., 0., 0., 0., 0., 0., 0., 0., 0., 0., 0., 0., 0.],\n",
      "        [0., 0., 0., 0., 0., 0., 0., 0., 0., 0., 0., 0., 0., 0., 0., 0., 0., 0., 0., 0., 0.],\n",
      "        [0., 0., 0., 0., 0., 0., 0., 0., 0., 0., 0., 0., 0., 0., 0., 0., 0., 0., 0., 0., 0.],\n",
      "        [0., 0., 0., 0., 0., 0., 0., 0., 0., 0., 0., 0., 0., 0., 0., 0., 0., 0., 0., 0., 0.],\n",
      "        [0., 0., 0., 0., 0., 0., 0., 0., 0., 0., 0., 0., 0., 0., 0., 0., 0., 0., 0., 0., 0.],\n",
      "        [0., 0., 0., 0., 0., 0., 0., 0., 0., 0., 0., 0., 0., 0., 0., 0., 0., 0., 0., 0., 0.],\n",
      "        [0., 0., 0., 0., 0., 0., 0., 0., 0., 0., 0., 0., 0., 0., 0., 0., 0., 0., 0., 0., 0.]]) tensor([[0., 0., 0., 0., 0., 0., 0., 0., 0., 0., 0., 0., 0., 0., 0., 0., 0., 0., 0., 0., 0.],\n",
      "        [0., 0., 0., 0., 0., 0., 0., 0., 0., 0., 0., 0., 0., 0., 0., 0., 0., 0., 0., 0., 0.],\n",
      "        [0., 0., 0., 0., 0., 0., 0., 0., 0., 0., 0., 0., 0., 0., 0., 0., 0., 0., 0., 0., 0.],\n",
      "        [0., 0., 0., 0., 0., 0., 0., 0., 0., 0., 0., 0., 0., 0., 0., 0., 0., 0., 0., 0., 0.],\n",
      "        [0., 0., 0., 0., 0., 0., 0., 0., 0., 0., 0., 0., 0., 0., 0., 0., 0., 0., 0., 0., 0.],\n",
      "        [0., 0., 0., 0., 0., 0., 0., 0., 0., 0., 0., 0., 0., 0., 0., 0., 0., 0., 0., 0., 0.],\n",
      "        [0., 0., 0., 0., 0., 0., 0., 0., 0., 0., 0., 0., 0., 0., 0., 0., 0., 0., 0., 0., 0.],\n",
      "        [0., 0., 0., 0., 0., 0., 0., 0., 0., 0., 0., 0., 0., 0., 0., 0., 0., 0., 0., 0., 0.]]) tensor([[0., 0., 0., 0., 0., 0., 0., 0., 0., 0., 0., 0., 0., 0., 0., 0., 0., 0., 0., 0., 0.],\n",
      "        [0., 0., 0., 0., 0., 0., 0., 0., 0., 0., 0., 0., 0., 0., 0., 0., 0., 0., 0., 0., 0.],\n",
      "        [0., 0., 0., 0., 0., 0., 0., 0., 0., 0., 0., 0., 0., 0., 0., 0., 0., 0., 0., 0., 0.],\n",
      "        [0., 0., 0., 0., 0., 0., 0., 0., 0., 0., 0., 0., 0., 0., 0., 0., 0., 0., 0., 0., 0.],\n",
      "        [0., 0., 0., 0., 0., 0., 0., 0., 0., 0., 0., 0., 0., 0., 0., 0., 0., 0., 0., 0., 0.],\n",
      "        [0., 0., 0., 0., 0., 0., 0., 0., 0., 0., 0., 0., 0., 0., 0., 0., 0., 0., 0., 0., 0.],\n",
      "        [0., 0., 0., 0., 0., 0., 0., 0., 0., 0., 0., 0., 0., 0., 0., 0., 0., 0., 0., 0., 0.],\n",
      "        [0., 0., 0., 0., 0., 0., 0., 0., 0., 0., 0., 0., 0., 0., 0., 0., 0., 0., 0., 0., 0.]])\n"
     ]
    }
   ],
   "source": [
    "env.start()"
   ]
  },
  {
   "cell_type": "code",
   "execution_count": 17,
   "id": "59de5019",
   "metadata": {},
   "outputs": [
    {
     "data": {
      "text/plain": [
       "<omni.isaac.core.robots.robot_view.RobotView at 0x7f4024fa6790>"
      ]
     },
     "execution_count": 17,
     "metadata": {},
     "output_type": "execute_result"
    }
   ],
   "source": [
    "world.scene.add(env.robots)"
   ]
  },
  {
   "cell_type": "code",
   "execution_count": 18,
   "id": "c4ae521b",
   "metadata": {},
   "outputs": [],
   "source": [
    "total_step = 0"
   ]
  },
  {
   "cell_type": "code",
   "execution_count": 19,
   "id": "94d422b6",
   "metadata": {},
   "outputs": [],
   "source": [
    "# env.motor_efforts"
   ]
  },
  {
   "cell_type": "code",
   "execution_count": 20,
   "id": "42c0d2ed",
   "metadata": {},
   "outputs": [],
   "source": [
    "# step\n",
    "def step(env, trainer, warm_up_steps = 2000):\n",
    "    # action shape\n",
    "    action_shape = env.action_shape\n",
    "    \n",
    "    # env step\n",
    "    env.progress_buf += 1\n",
    "    if total_step < warm_up_steps:\n",
    "        actions =  2 * torch.rand(action_shape) - 1\n",
    "    else:\n",
    "        actions =  trainer.sample_action(current_obs.to(trainer.device))\n",
    "        \n",
    "    env.robots.set_joint_efforts(efforts = actions * env.motor_efforts)\n",
    "    \n",
    "    return actions"
   ]
  },
  {
   "cell_type": "code",
   "execution_count": 21,
   "id": "4ce607b1",
   "metadata": {},
   "outputs": [],
   "source": [
    "# observation\n",
    "def get_obs(env):\n",
    "    \"\"\"\n",
    "    Get robot states\n",
    "    \"\"\"\n",
    "    \n",
    "    # root position\n",
    "    torso_position, torso_rotation  = env.robots.get_world_poses()\n",
    "    index = torch.LongTensor([1, 2, 3, 0])\n",
    "    torso_rotation = torch.index_select(torso_rotation, 1, index) # WXYZ -> XYZW\n",
    "    \n",
    "    up_vec = quat_rotate(torso_rotation, torch.tensor([0.0, 0.0, 1.0]).repeat((env.num_envs, 1)))[...,[1]]\n",
    "    forward_vec = quat_rotate(torso_rotation, torch.tensor([1.0, 0.0, 0.0]).repeat((env.num_envs, 1)))[...,[2]]\n",
    "    \n",
    "    # root velocity\n",
    "    root_velocity = env.robots.get_velocities()\n",
    "    velocity = root_velocity[:, 0:3]\n",
    "    ang_velocity = env.angular_velocity_scale * root_velocity[:, 3:] # scaled\n",
    "    \n",
    "    # joint position and velocity\n",
    "    dof_pos = (2 * env.robots.get_joint_positions() - env.joint_upper_limit - env.joint_lower_limit) / (env.joint_upper_limit - env.joint_lower_limit) # scale to [-1, 1]\n",
    "    dof_vel = env.robots.get_joint_velocities() * env.dof_vel_scale # scaled\n",
    "    \n",
    "    # get obs\n",
    "    obs = torch.cat([up_vec, forward_vec, torso_position, torso_rotation, velocity, ang_velocity, dof_pos, dof_vel], dim = 1)\n",
    "\n",
    "    return obs"
   ]
  },
  {
   "cell_type": "code",
   "execution_count": 22,
   "id": "95b04955",
   "metadata": {},
   "outputs": [],
   "source": [
    "dof_pos = (2 * env.robots.get_joint_positions() - env.joint_upper_limit - env.joint_lower_limit) / (env.joint_upper_limit - env.joint_lower_limit) # scale to [-1, 1]\n"
   ]
  },
  {
   "cell_type": "code",
   "execution_count": 23,
   "id": "9247102a",
   "metadata": {},
   "outputs": [],
   "source": [
    "def get_reward_done(env):\n",
    "    torso_position, _  = env.robots.get_world_poses()\n",
    "    \n",
    "    reward = torso_position[...,1].clone() - 0.8\n",
    "    reward = torch.where(reward < 0, -1.0, reward.double()).float()\n",
    "    \n",
    "    done = torch.where(torso_position[...,1] < 0.5, 1.0, 0.0)\n",
    "    done = torch.where(env.progress_buf > 500, torch.ones(done.shape[0]), done)\n",
    "    \n",
    "    return reward, done"
   ]
  },
  {
   "cell_type": "code",
   "execution_count": 24,
   "id": "1258578d",
   "metadata": {},
   "outputs": [],
   "source": [
    "# need to reset\n",
    "def reset(done):\n",
    "    if torch.sum(done) >= 1:\n",
    "        env_ids = []\n",
    "        for i in range(len(done)):\n",
    "            if done[i] > 0:\n",
    "                env_ids.append(i)\n",
    "        # print(\"reset: \", env_ids)\n",
    "        env.reset_idx(env_ids)"
   ]
  },
  {
   "cell_type": "code",
   "execution_count": 25,
   "id": "bb6b9d46",
   "metadata": {},
   "outputs": [
    {
     "data": {
      "text/plain": [
       "(tensor([0.4612, 0.4612, 0.4612, 0.4612, 0.4612, 0.4612, 0.4612, 0.4612]),\n",
       " tensor([0., 0., 0., 0., 0., 0., 0., 0.]))"
      ]
     },
     "execution_count": 25,
     "metadata": {},
     "output_type": "execute_result"
    }
   ],
   "source": [
    "get_reward_done(env)"
   ]
  },
  {
   "cell_type": "code",
   "execution_count": 26,
   "id": "821d856c",
   "metadata": {},
   "outputs": [],
   "source": [
    "trainer = Trainer(57, 21)"
   ]
  },
  {
   "cell_type": "code",
   "execution_count": 27,
   "id": "137ed4a1",
   "metadata": {},
   "outputs": [],
   "source": [
    "total_step = 0 # reset "
   ]
  },
  {
   "cell_type": "code",
   "execution_count": null,
   "id": "fd97fcc7",
   "metadata": {
    "scrolled": true
   },
   "outputs": [
    {
     "name": "stdout",
     "output_type": "stream",
     "text": [
      "ext: omni.graph.window.generic-1.3.8] startup\n",
      "[10.138s] [ext: omni.isaac.utils-0.1.11] startup\n",
      "[10.143s] [ext: omni.isaac.universal_robots-0.2.1] startup\n",
      "[10.144s] [ext: omni.kit.property.audio-1.0.5] startup\n",
      "[10.146s] [ext: omni.kit.property.skel-1.0.1] startup\n",
      "[10.148s] [ext: omni.kit.property.render-1.1.0] startup\n",
      "[10.150s] [ext: omni.kit.property.camera-1.0.3] startup\n",
      "[10.151s] [ext: omni.kit.property.geometry-1.2.0] startup\n",
      "[10.155s] [ext: omni.kit.property.light-1.0.5] startup\n",
      "[10.157s] [ext: omni.kit.property.transform-1.0.2] startup\n",
      "[10.161s] [ext: omni.isaac.occupancy_map-0.2.4] startup\n",
      "[10.181s] [ext: omni.ui.scene-1.4.6] startup\n",
      "[10.192s] [ext: omni.kit.window.console-0.2.0] startup\n",
      "[10.203s] [ext: omni.kit.window.status_bar-0.1.1] startup\n",
      "[10.212s] [ext: omni.kit.property.bundle-1.2.4] startup\n",
      "[10.214s] [ext: omni.kit.menu.file-1.0.8] startup\n",
      "[10.217s] [ext: omni.kit.manipulator.viewport-1.0.6] startup\n",
      "[10.220s] [ext: omni.isaac.urdf-0.2.2] startup\n",
      "[10.257s] [ext: omni.isaac.dofbot-0.2.0] startup\n",
      "[10.259s] [ext: omni.kit.window.title-1.1.1] startup\n",
      "[10.260s] [ext: omni.kit.profiler.window-1.4.4] startup\n",
      "[10.263s] [ext: omni.graph.visualization.nodes-1.1.1] startup\n",
      "[10.269s] [ext: omni.isaac.synthetic_utils-0.2.1] startup\n",
      "[10.278s] [ext: semantics.schema.editor-0.2.2] startup\n",
      "[10.282s] [ext: omni.isaac.sim.python-2022.1.0] startup\n",
      "[10.283s] Simulation App Starting\n",
      "2022-07-19 17:58:20 [10,308ms] [Warning] [omni.client.plugin]  Tick: authentication: Discovery(ws://localhost/omni/discovery): Error creating Auth/Credentials search: Not connected\n",
      "2022-07-19 17:58:20 [10,308ms] [Warning] [omni.client.plugin]  Tick: authentication: Discovery(ws://localhost/omni/discovery): Error creating Auth/Tokens search: Not connected\n",
      "2022-07-19 17:58:20 [10,308ms] [Warning] [omni.client.plugin]  Tick: authentication: Discovery(ws://localhost/omni/discovery): Error creating Api/Connection search: Not connected\n",
      "2022-07-19 17:58:21 [10,963ms] [Warning] [omni.usd] Default value for render setting \"/rtx/shaderDb/cachePermutationIndex\" not found\n",
      "2022-07-19 17:58:21 [10,964ms] [Warning] [omni.usd] Default value for render setting \"/rtx/resourcemanager/uploadPooledBuffers/framesToEvict\" not found\n",
      "2022-07-19 17:58:21 [10,964ms] [Warning] [omni.usd] Default value for render setting \"/rtx/resourcemanager/uploadPooledBuffers/uploadSize\" not found\n",
      "2022-07-19 17:58:21 [10,964ms] [Warning] [omni.usd] Default value for render setting \"/rtx/pathtracing/nrc/canRun\" not found\n",
      "[17.588s] app ready\n",
      "[17.733s] Simulation App Startup Complete\n",
      "2022-07-19 17:58:28 [18,197ms] [Warning] [carb.flatcache.plugin] Type tag does not have a corresponding USD type\n",
      "1099 reward -0.357859343290329 1.3675906658172607\n",
      "2099 reward -0.5733311176300049 4.9220290184021\n",
      "3099 reward -0.014188557863235474 4.7592620849609375\n",
      "4099 reward 0.05174468457698822 1.5973765850067139\n",
      "5099 reward 0.314491868019104 4.139252662658691\n",
      "6099 reward -0.057341478765010834 5.638640403747559\n",
      "7099 reward 0.2322152853012085 4.514551162719727\n",
      "8099 reward 0.05772429704666138 8.431167602539062\n",
      "9099 reward -0.13393989205360413 7.774170875549316\n",
      "10099 reward 0.1745719015598297 7.490200042724609\n",
      "11099 reward 0.1997849941253662 10.010371208190918\n",
      "12099 reward 0.011561334133148193 9.04283618927002\n",
      "13099 reward -0.02750493586063385 13.491802215576172\n",
      "14099 reward 0.07778273522853851 11.133658409118652\n",
      "15099 reward 0.2771490514278412 8.044137954711914\n",
      "16099 reward -0.011650308966636658 5.888319492340088\n",
      "17099 reward 0.03347361832857132 9.265497207641602\n",
      "18099 reward -0.14656323194503784 11.878400802612305\n",
      "19099 reward 0.3041202127933502 13.175365447998047\n",
      "20099 reward 0.24108535051345825 16.472389221191406\n",
      "21099 reward -0.11151600629091263 9.696083068847656\n",
      "22099 reward 0.06633426994085312 15.175821304321289\n",
      "23099 reward 0.11059766262769699 15.224239349365234\n",
      "24099 reward 0.17288032174110413 13.628828048706055\n",
      "25099 reward -0.13979226350784302 12.110980987548828\n",
      "26099 reward -0.11126577109098434 14.080276489257812\n",
      "27099 reward 0.3365136682987213 12.499611854553223\n",
      "28099 reward 0.20910629630088806 14.349964141845703\n",
      "29099 reward 0.3972032070159912 7.75280237197876\n",
      "30099 reward 0.21900144219398499 11.274751663208008\n",
      "31099 reward 0.1387312114238739 9.039016723632812\n",
      "32099 reward -0.5009757280349731 4.121015548706055\n",
      "33099 reward 0.037414759397506714 7.175297737121582\n",
      "2022-07-19 18:13:12 [902,097ms] [Warning] [omni.client.plugin]  Tick: provider_nucleus: Null result for omni1Read(localhost/Users/yizhou/test_humanoid.usd): Connection is terminated\n",
      "2022-07-19 18:13:12 [902,211ms] [Warning] [omni.client.plugin]  Tick: provider_nucleus: Null result for omni1List2(localhost/Users/yizhou/): Connection is terminated\n"
     ]
    }
   ],
   "source": [
    "for i in range(100000):\n",
    "    total_step += 1\n",
    "    \n",
    "    # step\n",
    "    current_obs = get_obs(env).clone()\n",
    "    actions = step(env,trainer=trainer)\n",
    "    world.step(render=False)\n",
    "    \n",
    "    \n",
    "    # get obs\n",
    "    new_obs = get_obs(env).clone()\n",
    "    \n",
    "    # get reward done\n",
    "    reward, done = get_reward_done(env)\n",
    "    env.reward_buf += reward\n",
    "    # print(total_step, \"reward, done\", done)\n",
    "    \n",
    "    # reset\n",
    "    reset(done)\n",
    "    \n",
    "    # buffer\n",
    "    trainer.buf.add_batch(current_obs, actions, new_obs, reward, done)\n",
    "    # print(total_step, \"current_obs, actions, new_obs, reward, done \\n\\n\", current_obs, actions, new_obs, reward, done)\n",
    "    \n",
    "\n",
    "    # debug\n",
    "    if total_step % 1000 == 99:\n",
    "        # env.reset_idx([0,1,2])\n",
    "        print(total_step, \"reward\", torch.mean(reward).tolist(), torch.mean(env.reward_buf).tolist())\n",
    "        world.render()\n",
    "    \n",
    "    # train\n",
    "    if total_step > 1000:\n",
    "        trainer.train_debug(batch_size = 16)\n",
    "    \n",
    "    "
   ]
  },
  {
   "cell_type": "code",
   "execution_count": 29,
   "id": "e6584ef0",
   "metadata": {},
   "outputs": [
    {
     "data": {
      "text/plain": [
       "False"
      ]
     },
     "execution_count": 29,
     "metadata": {},
     "output_type": "execute_result"
    }
   ],
   "source": [
    "world._physics_context.is_gpu_dynamics_enabled()"
   ]
  },
  {
   "cell_type": "code",
   "execution_count": null,
   "id": "95de461e",
   "metadata": {},
   "outputs": [],
   "source": [
    "world.step(render=True)"
   ]
  },
  {
   "cell_type": "code",
   "execution_count": 50,
   "id": "52c61c3e",
   "metadata": {},
   "outputs": [],
   "source": [
    "world.render()"
   ]
  },
  {
   "cell_type": "code",
   "execution_count": 51,
   "id": "3aef5f1d",
   "metadata": {},
   "outputs": [],
   "source": [
    "world.reset()\n",
    "# env.robots.initialize()"
   ]
  },
  {
   "cell_type": "code",
   "execution_count": null,
   "id": "c352cfb6",
   "metadata": {},
   "outputs": [],
   "source": [
    "actions =  trainer.sample_action(current_obs.to(trainer.device))"
   ]
  },
  {
   "cell_type": "code",
   "execution_count": null,
   "id": "6361a1c1",
   "metadata": {},
   "outputs": [],
   "source": [
    "torch.save(trainer.policy.state_dict(), \"/home/yizhou/Research/Data/718.pth\")"
   ]
  },
  {
   "cell_type": "code",
   "execution_count": null,
   "id": "c32a898a",
   "metadata": {},
   "outputs": [],
   "source": []
  }
 ],
 "metadata": {
  "kernelspec": {
   "display_name": "Isaac Sim Python 3",
   "language": "python",
   "name": "isaac_sim_python3"
  },
  "language_info": {
   "codemirror_mode": {
    "name": "ipython",
    "version": 3
   },
   "file_extension": ".py",
   "mimetype": "text/x-python",
   "name": "python",
   "nbconvert_exporter": "python",
   "pygments_lexer": "ipython3",
   "version": "3.7.13"
  }
 },
 "nbformat": 4,
 "nbformat_minor": 5
}
