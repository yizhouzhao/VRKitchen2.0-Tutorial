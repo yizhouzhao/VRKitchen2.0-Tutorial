{
 "cells": [
  {
   "cell_type": "code",
   "execution_count": null,
   "id": "a3656f3d",
   "metadata": {},
   "outputs": [],
   "source": [
    "from rl.trainer import Trainer\n",
    "\n",
    "trainer = Trainer(10, 2)"
   ]
  },
  {
   "cell_type": "code",
   "execution_count": null,
   "id": "eb438c98",
   "metadata": {},
   "outputs": [],
   "source": [
    "import getpass\n",
    "\n",
    "user = getpass.getuser()"
   ]
  },
  {
   "cell_type": "code",
   "execution_count": null,
   "id": "d690cd1c",
   "metadata": {},
   "outputs": [],
   "source": [
    "from omni.isaac.kit import SimulationApp\n",
    "\n",
    "simulation_app = SimulationApp({\"headless\": True, \"open_usd\": f\"omniverse://localhost/Users/{user}/test_jetbot.usd\", \n",
    "                                \"livesync_usd\": f\"omniverse://localhost/Users/{user}/test_jetbot.usd\"})\n"
   ]
  },
  {
   "cell_type": "code",
   "execution_count": null,
   "id": "6c61b39d",
   "metadata": {},
   "outputs": [],
   "source": [
    "import omni\n",
    "from omni.isaac.core import World\n",
    "from pxr import Gf, Sdf, UsdGeom, UsdShade\n",
    "\n",
    "import torch\n",
    "import numpy as np"
   ]
  },
  {
   "cell_type": "code",
   "execution_count": null,
   "id": "f1f3acf1",
   "metadata": {},
   "outputs": [],
   "source": [
    "world = World(physics_dt= 1.0 / 30, backend = \"torch\")"
   ]
  },
  {
   "cell_type": "code",
   "execution_count": null,
   "id": "e5f2a9dd",
   "metadata": {},
   "outputs": [],
   "source": [
    "from omni.isaac.core.utils.stage import set_stage_up_axis\n",
    "\n",
    "set_stage_up_axis(\"y\")\n",
    "world.get_physics_context().set_gravity(-9.81)"
   ]
  },
  {
   "cell_type": "code",
   "execution_count": null,
   "id": "7e58dd3a",
   "metadata": {},
   "outputs": [],
   "source": [
    "from omni.isaac.core.utils.stage import get_current_stage\n",
    "UsdGeom.GetStageUpAxis(get_current_stage())"
   ]
  },
  {
   "cell_type": "code",
   "execution_count": null,
   "id": "6d06b2bf",
   "metadata": {},
   "outputs": [],
   "source": [
    "world.get_physics_context()._physics_scene.GetGravityDirectionAttr().Get()"
   ]
  },
  {
   "cell_type": "code",
   "execution_count": null,
   "id": "9bc39687",
   "metadata": {},
   "outputs": [],
   "source": [
    "# get prims\n",
    "len(list(world.scene.stage.TraverseAll()))"
   ]
  },
  {
   "cell_type": "code",
   "execution_count": null,
   "id": "b0617379",
   "metadata": {},
   "outputs": [],
   "source": [
    "world.render()"
   ]
  },
  {
   "cell_type": "code",
   "execution_count": null,
   "id": "8fddfe07",
   "metadata": {},
   "outputs": [],
   "source": [
    "from rl.robot_env import RobotEnv\n",
    "\n",
    "env = RobotEnv(\"/World/envs/*/jetbot\", [10.0, 10.0])"
   ]
  },
  {
   "cell_type": "code",
   "execution_count": null,
   "id": "0656697c",
   "metadata": {},
   "outputs": [],
   "source": [
    "world.reset()"
   ]
  },
  {
   "cell_type": "code",
   "execution_count": null,
   "id": "9021b6e4",
   "metadata": {
    "scrolled": true
   },
   "outputs": [],
   "source": [
    "env.start()\n",
    "world.scene.add(env.robots)"
   ]
  },
  {
   "cell_type": "code",
   "execution_count": null,
   "id": "982bdf27",
   "metadata": {},
   "outputs": [],
   "source": [
    "total_step = 0"
   ]
  },
  {
   "cell_type": "code",
   "execution_count": null,
   "id": "413cfd00",
   "metadata": {},
   "outputs": [],
   "source": [
    "action_shape = env.robots._default_joints_state.positions.shape"
   ]
  },
  {
   "cell_type": "code",
   "execution_count": null,
   "id": "afa5a435",
   "metadata": {},
   "outputs": [],
   "source": [
    "# step\n",
    "def step(warm_up_steps = 1000):\n",
    "    env.progress_buf += 1\n",
    "    if total_step < warm_up_steps:\n",
    "        actions = 10 * (2 * torch.rand(action_shape) - 1)\n",
    "    else:\n",
    "        actions = 10 * trainer.sample_action(current_obs.to(trainer.device))\n",
    "        \n",
    "    env.robots.set_joint_velocities(actions)\n",
    "    \n",
    "    return actions"
   ]
  },
  {
   "cell_type": "code",
   "execution_count": null,
   "id": "3dbd3577",
   "metadata": {},
   "outputs": [],
   "source": [
    "# observation\n",
    "def get_obs():\n",
    "    torso_position, torso_rotation  = env.robots.get_world_poses()\n",
    "\n",
    "    dof_pos = env.robots.get_joint_positions()\n",
    "    dof_vel = env.robots.get_joint_velocities()\n",
    "\n",
    "    obs = torch.cat([torso_position[...,[1,2]], torso_rotation, dof_pos, 0.1 * dof_vel], dim = 1)\n",
    "\n",
    "    return obs"
   ]
  },
  {
   "cell_type": "code",
   "execution_count": null,
   "id": "498a0c85",
   "metadata": {},
   "outputs": [],
   "source": [
    "def get_reward_done():\n",
    "    torso_position, _  = env.robots.get_world_poses()\n",
    "    reward = 10 * torso_position[...,2].clone()\n",
    "    \n",
    "    done = torch.where(torso_position[...,2] < -0.5, 1.0, 0.0)\n",
    "    done = torch.where(env.progress_buf > 1000, torch.ones(done.shape[0]), done)\n",
    "    \n",
    "    return reward, done"
   ]
  },
  {
   "cell_type": "code",
   "execution_count": null,
   "id": "67a4bdce",
   "metadata": {},
   "outputs": [],
   "source": [
    "current_obs = get_obs().data.clone()\n",
    "reward, done = get_reward_done()"
   ]
  },
  {
   "cell_type": "code",
   "execution_count": null,
   "id": "2931e15b",
   "metadata": {},
   "outputs": [],
   "source": [
    "current_obs, reward, done"
   ]
  },
  {
   "cell_type": "code",
   "execution_count": null,
   "id": "d24e76e2",
   "metadata": {},
   "outputs": [],
   "source": [
    "# need to reset\n",
    "def reset(done):\n",
    "    if torch.sum(done) >= 1:\n",
    "        env_ids = []\n",
    "        for i in range(len(done)):\n",
    "            if done[i] > 0:\n",
    "                env_ids.append(i)\n",
    "\n",
    "        env.reset_idx(env_ids)"
   ]
  },
  {
   "cell_type": "code",
   "execution_count": null,
   "id": "e3542d6a",
   "metadata": {},
   "outputs": [],
   "source": [
    "world.step(render=True)"
   ]
  },
  {
   "cell_type": "code",
   "execution_count": null,
   "id": "540bd006",
   "metadata": {
    "scrolled": true
   },
   "outputs": [],
   "source": [
    "for i in range(100000):\n",
    "    total_step += 1\n",
    "    \n",
    "    # step\n",
    "    current_obs = get_obs().clone()\n",
    "    actions = step()\n",
    "    # actions = 10 * torch.ones(4, 2)\n",
    "    # env.robots.set_joint_velocities(10 * torch.ones(4, 2))\n",
    "    world.step(render=False)\n",
    "    \n",
    "    # get obs\n",
    "    new_obs = get_obs().clone()\n",
    "    \n",
    "    # get reward done\n",
    "    reward, done = get_reward_done()\n",
    "    \n",
    "    # reset\n",
    "    reset(done)\n",
    "    \n",
    "    # buffer\n",
    "    trainer.buf.add_batch(current_obs, 0.1 * actions, new_obs, reward, done)\n",
    "    # print(total_step, \"current_obs, actions, new_obs, reward, done \\n\\n\", current_obs, actions, new_obs, reward, done)\n",
    "    \n",
    "\n",
    "    # debug\n",
    "    if total_step % 1000 == 99:\n",
    "        print(total_step, \"reward\", torch.mean(reward).tolist())\n",
    "        world.render()\n",
    "    \n",
    "    # train\n",
    "    if total_step > 1000:\n",
    "        trainer.train_debug(batch_size = 32)\n",
    "    \n",
    "    "
   ]
  },
  {
   "cell_type": "code",
   "execution_count": null,
   "id": "56d36ec4",
   "metadata": {},
   "outputs": [],
   "source": [
    "world.reset()"
   ]
  },
  {
   "cell_type": "code",
   "execution_count": null,
   "id": "9f2814cd",
   "metadata": {},
   "outputs": [],
   "source": [
    "world.render()"
   ]
  },
  {
   "cell_type": "code",
   "execution_count": null,
   "id": "93560164",
   "metadata": {},
   "outputs": [],
   "source": []
  }
 ],
 "metadata": {
  "kernelspec": {
   "display_name": "Isaac Sim Python 3",
   "language": "python",
   "name": "isaac_sim_python3"
  },
  "language_info": {
   "codemirror_mode": {
    "name": "ipython",
    "version": 3
   },
   "file_extension": ".py",
   "mimetype": "text/x-python",
   "name": "python",
   "nbconvert_exporter": "python",
   "pygments_lexer": "ipython3",
   "version": "3.7.13"
  }
 },
 "nbformat": 4,
 "nbformat_minor": 5
}
