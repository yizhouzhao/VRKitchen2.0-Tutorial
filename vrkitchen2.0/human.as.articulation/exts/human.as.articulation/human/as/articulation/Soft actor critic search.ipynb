{
 "cells": [
  {
   "cell_type": "code",
   "execution_count": 1,
   "id": "a3656f3d",
   "metadata": {},
   "outputs": [],
   "source": [
    "from rl.trainer import Trainer"
   ]
  },
  {
   "cell_type": "code",
   "execution_count": 2,
   "id": "ba905c66",
   "metadata": {},
   "outputs": [],
   "source": [
    "trainer = Trainer(10, 2)"
   ]
  },
  {
   "cell_type": "code",
   "execution_count": 3,
   "id": "eb438c98",
   "metadata": {},
   "outputs": [],
   "source": [
    "import getpass\n",
    "\n",
    "user = getpass.getuser()"
   ]
  },
  {
   "cell_type": "code",
   "execution_count": 4,
   "id": "d690cd1c",
   "metadata": {},
   "outputs": [
    {
     "name": "stdout",
     "output_type": "stream",
     "text": [
      "Starting kit application with the fillowing args:  ['/home/yizhou/.local/share/ov/pkg/isaac_sim-2022.1.0/exts/omni.isaac.kit/omni/isaac/kit/simulation_app.py', '/home/yizhou/.local/share/ov/pkg/isaac_sim-2022.1.0/apps/omni.isaac.sim.python.kit', '--/app/tokens/exe-path=/home/yizhou/.local/share/ov/pkg/isaac_sim-2022.1.0/kit', '--/persistent/app/viewport/displayOptions=3094', '--/rtx/materialDb/syncLoads=True', '--/rtx/hydra/materialSyncLoads=True--/omni.kit.plugin/syncUsdLoads=True', '--/app/renderer/resolution/width=1280', '--/app/renderer/resolution/height=720', '--/app/window/width=1440', '--/app/window/height=900', '--/renderer/multiGpu/enabled=True', '--ext-folder', '/home/yizhou/.local/share/ov/pkg/isaac_sim-2022.1.0/exts', '--ext-folder', '/home/yizhou/.local/share/ov/pkg/isaac_sim-2022.1.0/apps', '--portable', '--no-window']\n",
      "Passing the following args to the base kit application:  ['-f', '/home/yizhou/.local/share/jupyter/runtime/kernel-0309b157-980a-452d-9123-27b4a4c6d351.json']\n",
      "[Warning] [omni.kit.app.plugin] No crash reporter present, dumps uploading isn't available.\n",
      "[Info] [carb] Logging to file: /home/yizhou/.local/share/ov/pkg/isaac_sim-2022.1.0/kit/logs/Kit/Isaac-Sim/2022.1/kit_20220715_154426.log\n",
      "[0.077s] [ext: omni.stats-0.0.0] startup\n",
      "[0.119s] [ext: omni.gpu_foundation-0.0.0] startup\n",
      "2022-07-15 22:44:26 [118ms] [Warning] [carb] FrameworkImpl::setDefaultPlugin(client: omni.gpu_foundation_factory.plugin, desc : [carb::graphics::Graphics v2.5], plugin : carb.graphics-vulkan.plugin) failed. Plugin selection is locked, because the interface was previously acquired by: \n",
      "[0.127s] [ext: carb.windowing.plugins-1.0.0] startup\n",
      "[0.214s] [ext: omni.assets.plugins-0.0.0] startup\n",
      "[0.215s] [ext: omni.kit.renderer.init-0.0.0] startup\n",
      "\n",
      "|---------------------------------------------------------------------------------------------|\n",
      "| Driver Version: 510.73.5      | Graphics API: Vulkan\n",
      "|=============================================================================================|\n",
      "| GPU | Name                             | Active | LDA | GPU Memory | Vendor-ID | LUID       |\n",
      "|     |                                  |        |     |            | Device-ID | UUID       |\n",
      "|---------------------------------------------------------------------------------------------|\n",
      "| 0   | NVIDIA GeForce RTX 3090          | Yes: 0 |     | 24822   MB | 10de      | 0          |\n",
      "|     |                                  |        |     |            | 2204      | 3f50dd6e.. |\n",
      "|=============================================================================================|\n",
      "| OS: Linux yizhou-Z370-AORUS-Gaming-5, Version: 5.15.0-41-generic\n",
      "| Processor: Intel(R) Core(TM) i7-8700K CPU @ 3.70GHz | Cores: Unknown | Logical: 12\n",
      "|---------------------------------------------------------------------------------------------|\n",
      "| Total Memory (MB): 32046 | Free Memory: 23054\n",
      "| Total Page/Swap (MB): 2047 | Free Page/Swap: 2047\n",
      "|---------------------------------------------------------------------------------------------|\n",
      "2022-07-15 22:44:27 [1,058ms] [Warning] [carb.cudainterop.plugin] On Linux only, CUDA and the display driver does not support IOMMU-enabled bare-metal PCIe peer to peer memory copy.\n",
      "However, CUDA and the display driver does support IOMMU via VM pass through. As a consequence, users on Linux,\n",
      "when running on a native bare metal system, should disable the IOMMU. The IOMMU should be enabled and the VFIO driver\n",
      "be used as a PCIe pass through for virtual machines.\n",
      "[1.075s] [ext: omni.kit.pipapi-0.0.0] startup\n",
      "[1.085s] [ext: omni.kit.pip_archive-0.0.0] startup\n",
      "[1.089s] [ext: omni.isaac.core_archive-0.3.0] startup\n",
      "[1.106s] [ext: omni.usd.config-1.0.0] startup\n",
      "[1.108s] [ext: omni.usd.libs-1.0.0] startup\n",
      "[1.264s] [ext: omni.isaac.ml_archive-0.1.0] startup\n",
      "[1.318s] [ext: omni.kit.loop-isaac-0.1.0] startup\n",
      "[1.319s] [ext: omni.kit.async_engine-0.0.0] startup\n",
      "[1.321s] [ext: omni.appwindow-1.0.0] startup\n",
      "[1.326s] [ext: omni.client-0.1.0] startup\n",
      "[1.339s] [ext: omni.kit.test-0.0.0] startup\n",
      "[1.362s] [ext: omni.kit.renderer.core-0.0.0] startup\n",
      "[1.445s] [ext: omni.ui-2.10.3] startup\n",
      "[1.461s] [ext: carb.audio-0.1.0] startup\n",
      "[1.480s] [ext: omni.kit.mainwindow-0.0.0] startup\n",
      "[1.482s] [ext: omni.uiaudio-1.0.0] startup\n",
      "[1.484s] [ext: omni.kit.uiapp-0.0.0] startup\n",
      "[1.484s] [ext: omni.usd.schema.physics-1.0.0] startup\n",
      "[1.532s] [ext: omni.usd.schema.audio-0.0.0] startup\n",
      "[1.539s] [ext: omni.usd.schema.semantics-0.0.0] startup\n",
      "[1.550s] [ext: omni.usd.schema.omnigraph-1.0.0] startup\n",
      "[1.558s] [ext: omni.usd.schema.anim-0.0.0] startup\n",
      "[1.640s] [ext: omni.kit.commands-1.2.2] startup\n",
      "[1.645s] [ext: omni.timeline-1.0.2] startup\n",
      "[1.647s] [ext: omni.hydra.scene_delegate-0.2.0] startup\n",
      "[1.655s] [ext: omni.kit.audiodeviceenum-1.0.0] startup\n",
      "[1.657s] [ext: omni.usd-1.5.3] startup\n",
      "[1.721s] [ext: omni.kit.asset_converter-1.2.30] startup\n",
      "[1.737s] [ext: omni.usd.schema.isaac-0.2.0] startup\n",
      "[1.782s] [ext: omni.usd.schema.physx-0.0.0] startup\n",
      "[1.811s] [ext: omni.kit.search_core-1.0.2] startup\n",
      "[1.812s] [ext: omni.renderer-rtx-0.0.0] startup\n",
      "[1.813s] [ext: omni.kit.widget.graph-1.4.2] startup\n",
      "[1.821s] [ext: omni.kit.widget.filebrowser-2.2.26] startup\n",
      "[1.870s] [ext: omni.kit.window.popup_dialog-2.0.7] startup\n",
      "[1.874s] [ext: omni.mdl.neuraylib-0.1.0] startup\n",
      "[1.877s] [ext: omni.kit.widget.path_field-2.0.3] startup\n",
      "[1.879s] [ext: omni.kit.widget.versioning-1.3.8] startup\n",
      "[1.881s] [ext: omni.kit.notification_manager-1.0.5] startup\n",
      "[1.883s] [ext: omni.kit.widget.browser_bar-2.0.3] startup\n",
      "[1.884s] [ext: omni.kit.menu.utils-1.2.11] startup\n",
      "[1.894s] [ext: omni.kit.window.filepicker-2.4.29] startup\n"
     ]
    },
    {
     "name": "stderr",
     "output_type": "stream",
     "text": [
      "OmniAssetFileFormat\n"
     ]
    },
    {
     "name": "stdout",
     "output_type": "stream",
     "text": [
      "[1.949s] [ext: omni.mdl-0.1.0] startup\n",
      "[1.986s] [ext: omni.kit.menu.create-1.0.2] startup\n",
      "[1.988s] [ext: omni.kit.window.file_exporter-1.0.4] startup\n",
      "[1.990s] [ext: omni.kit.window.drop_support-1.0.0] startup\n",
      "[1.991s] [ext: omni.kit.material.library-1.3.10] startup\n",
      "[1.997s] [ext: omni.kit.window.property-1.6.3] startup\n",
      "[1.999s] [ext: omni.kit.context_menu-1.3.9] startup\n",
      "[2.005s] [ext: omni.kit.window.file_importer-1.0.4] startup\n",
      "[2.007s] [ext: omni.kit.stage_templates-1.1.2] startup\n",
      "[2.010s] [ext: omni.kit.widget.stage-2.6.15] startup\n",
      "[2.018s] [ext: omni.kit.window.file-1.3.16] startup\n",
      "[2.020s] [ext: omni.debugdraw-0.1.0] startup\n",
      "[2.029s] [ext: omni.kit.window.content_browser-2.4.28] startup\n",
      "[2.039s] [ext: omni.kit.widget.prompt-1.0.1] startup\n",
      "[2.040s] [ext: omni.kit.property.usd-3.14.8] startup\n",
      "[2.074s] [ext: omni.hydra.engine.stats-1.0.0] startup\n",
      "[2.081s] [ext: omni.kit.widget.settings-1.0.0] startup\n",
      "[2.082s] [ext: omni.graph.tools-1.3.5] startup\n",
      "[2.103s] [ext: omni.graph.core-2.27.0] startup\n",
      "[2.108s] [ext: omni.hydra.rtx-0.1.0] startup\n",
      "[2.118s] [ext: omni.kit.viewport.legacy_gizmos-1.0.0] startup\n",
      "[2.122s] [ext: omni.ui_query-1.1.1] startup\n",
      "[2.124s] [ext: omni.graph-1.22.1] startup\n",
      "[2.177s] [ext: omni.kit.window.viewport-0.0.0] startup\n"
     ]
    },
    {
     "name": "stderr",
     "output_type": "stream",
     "text": [
      "2022-07-15 22:44:28 [2,269ms] [Error] [rtx.neuraylib.plugin] [DYNLIB:IO]   0.1   DYNLIB io   error: /home/yizhou/.local/share/ov/pkg/isaac_sim-2022.1.0/kit/python/bin/libs/iray/libnvindex.so: cannot open shared object file: No such file or directory\n",
      "2022-07-15 22:44:28 [2,270ms] [Error] [rtx.neuraylib.plugin] [INDEX:MAIN]   0.1   INDEX  main error: Failed to load /home/yizhou/.local/share/ov/pkg/isaac_sim-2022.1.0/kit/python/bin/libs/iray/libnvindex.so\n"
     ]
    },
    {
     "name": "stdout",
     "output_type": "stream",
     "text": [
      "Warp initialized:\n",
      "   Version: 0.2.1\n",
      "   Using CUDA device: NVIDIA GeForce RTX 3090\n",
      "   Using CPU compiler: /usr/bin/g++\n",
      "[3.099s] [ext: omni.kit.window.preferences-1.2.1] startup\n",
      "[3.134s] [ext: omni.kit.ui_test-1.2.0] startup\n",
      "[3.136s] [ext: omni.graph.ui-1.6.1] startup\n",
      "[3.211s] [ext: omni.kvdb-0.0.0] startup\n",
      "[3.214s] [ext: omni.kit.widget.searchfield-1.0.6] startup\n",
      "[3.216s] [ext: omni.convexdecomposition-1.4.12] startup\n",
      "[3.219s] [ext: omni.graph.action-1.17.0] startup\n",
      "[3.233s] [ext: omni.localcache-0.0.0] startup\n",
      "[3.236s] [ext: omni.usdphysics-1.4.12] startup\n",
      "[3.239s] [ext: omni.graph.scriptnode-0.5.0] startup\n",
      "[3.241s] [ext: omni.physx-1.4.12-5.1] startup\n",
      "[3.267s] [ext: omni.kit.usd_undo-0.1.0] startup\n",
      "[3.269s] [ext: omni.graph.nodes-1.25.0] startup\n",
      "[3.288s] [ext: omni.physx.commands-1.4.12-5.1] startup\n",
      "[3.294s] [ext: omni.syntheticdata-0.2.1] startup\n",
      "[3.335s] [ext: omni.physx.ui-1.4.12-5.1] startup\n",
      "[3.421s] [ext: omni.warp-0.2.1] startup\n",
      "[5.704s] [ext: omni.kit.renderer.capture-0.0.0] startup\n",
      "[5.708s] [ext: omni.kit.property.material-1.8.5] startup\n",
      "[5.712s] [ext: omni.physx.demos-1.4.12-5.1] startup\n",
      "[5.715s] [ext: omni.physics.tensors-0.1.0] startup\n",
      "[5.724s] [ext: omni.kit.property.physx-0.1.0] startup\n",
      "2022-07-15 22:44:32 [5,801ms] [Warning] [omni.physx.plugin] Deprecated: getSimulationEventStream is deprecated, please use getSimulationEventStreamV2\n",
      "[5.810s] [ext: omni.kit.window.toolbar-1.2.4] startup\n",
      "[5.817s] [ext: omni.physx.tensors-0.1.0] startup\n",
      "[5.824s] [ext: omni.physx.vehicle-1.4.12-5.1] startup\n",
      "[5.837s] [ext: omni.physx.tests-1.4.12-5.1] startup\n",
      "[5.986s] [ext: omni.kit.numpy.common-0.1.0] startup\n",
      "[5.989s] [ext: omni.physx.camera-1.4.12-5.1] startup\n",
      "[5.997s] [ext: omni.physx.cct-1.4.12-5.1] startup\n",
      "[6.092s] [ext: omni.isaac.version-1.0.0] startup\n",
      "[6.093s] [ext: omni.isaac.dynamic_control-1.0.0] startup\n",
      "[6.101s] [ext: omni.physx.bundle-1.4.12-5.1] startup\n",
      "[6.101s] [ext: omni.kit.primitive.mesh-1.0.0] startup\n",
      "[6.105s] [ext: omni.command.usd-1.0.1] startup\n",
      "[6.109s] [ext: omni.isaac.core-1.15.1] startup\n",
      "[6.215s] [ext: omni.replicator.core-1.2.0] startup\n",
      "[6.330s] [ext: omni.kit.window.extensions-1.1.0] startup\n",
      "[6.335s] [ext: omni.isaac.core_nodes-0.9.0] startup\n",
      "[6.355s] [ext: omni.isaac.ui-0.2.1] startup\n",
      "[6.358s] [ext: omni.kit.window.script_editor-1.6.2] startup\n",
      "[6.374s] [ext: omni.isaac.wheeled_robots-0.5.4] startup\n",
      "[6.385s] [ext: omni.kit.menu.common-1.0.0] startup\n",
      "[6.387s] [ext: omni.kit.graph.delegate.default-1.0.15] startup\n",
      "[6.389s] [ext: omni.kit.graph.delegate.modern-1.6.0] startup\n",
      "[6.391s] [ext: omni.kit.widget.zoombar-1.0.3] startup\n",
      "[6.393s] [ext: omni.kit.graph.editor.core-1.3.3] startup\n",
      "[6.396s] [ext: omni.kit.widget.stage_icons-1.0.2] startup\n",
      "[6.397s] [ext: omni.kit.browser.core-2.0.12] startup\n",
      "[6.403s] [ext: omni.kit.graph.widget.variables-2.0.2] startup\n",
      "[6.405s] [ext: omni.kit.window.stage-2.3.7] startup\n",
      "[6.408s] [ext: omni.kit.browser.folder.core-1.1.13] startup\n",
      "[6.411s] [ext: omni.graph.window.core-1.22.1] startup\n",
      "[6.419s] [ext: omni.isaac.lula-1.1.0] startup\n",
      "[6.436s] [ext: omni.graph.instancing-1.1.4] startup\n",
      "[6.444s] [ext: omni.graph.window.action-1.3.8] startup\n",
      "[6.445s] [ext: omni.graph.tutorials-1.1.2] startup\n",
      "[6.464s] [ext: omni.rtx.window.settings-0.6.1] startup\n",
      "[6.470s] [ext: omni.isaac.motion_planning-0.2.0] startup\n",
      "[6.479s] [ext: omni.graph.bundle.action-1.0.0] startup\n",
      "[6.479s] [ext: omni.rtx.settings.core-0.5.5] startup\n",
      "[6.484s] [ext: omni.isaac.motion_generation-3.1.2] startup\n",
      "[6.490s] [ext: omni.isaac.kit-0.1.9] startup\n",
      "[6.491s] [ext: omni.isaac.debug_draw-0.1.2] startup\n",
      "[6.498s] [ext: omni.kit.selection-0.1.0] startup\n",
      "[6.499s] [ext: omni.isaac.franka-0.0.0] startup\n",
      "[6.500s] [ext: omni.kit.widget.layers-1.5.17] startup\n",
      "[6.515s] [ext: omni.kit.menu.edit-1.0.6] startup\n",
      "[6.517s] [ext: omni.isaac.isaac_sensor-0.3.4] startup\n",
      "2022-07-15 22:44:32 [6,518ms] [Warning] [omni.physx.plugin] Deprecated: getSimulationEventStream is deprecated, please use getSimulationEventStreamV2\n",
      "[6.526s] [ext: omni.kit.widget.live-0.1.0] startup\n",
      "[6.532s] [ext: omni.isaac.surface_gripper-0.1.2] startup\n",
      "[6.537s] [ext: omni.kit.property.layer-1.1.2] startup\n",
      "[6.539s] [ext: omni.isaac.range_sensor-0.4.2] startup\n",
      "[6.569s] [ext: omni.graph.wiOpening usd file at  omniverse://localhost/Users/yizhou/test_jetbot.usd  ...Done.\n",
      "Saving a temp livesync stage at  omniverse://localhost/Users/yizhou/test_jetbot.usd  ...Done.\n"
     ]
    }
   ],
   "source": [
    "from omni.isaac.kit import SimulationApp\n",
    "\n",
    "simulation_app = SimulationApp({\"headless\": True, \"open_usd\": f\"omniverse://localhost/Users/{user}/test_jetbot.usd\", \n",
    "                                \"livesync_usd\": f\"omniverse://localhost/Users/{user}/test_jetbot.usd\"})\n"
   ]
  },
  {
   "cell_type": "code",
   "execution_count": 5,
   "id": "6c61b39d",
   "metadata": {},
   "outputs": [],
   "source": [
    "import omni\n",
    "from omni.isaac.core import World\n",
    "from pxr import Gf, Sdf, UsdGeom, UsdShade\n",
    "\n",
    "import torch\n",
    "import numpy as np"
   ]
  },
  {
   "cell_type": "code",
   "execution_count": 6,
   "id": "f1f3acf1",
   "metadata": {},
   "outputs": [],
   "source": [
    "world = World(physics_dt= 1.0 / 30, backend = \"torch\")"
   ]
  },
  {
   "cell_type": "code",
   "execution_count": 7,
   "id": "e5f2a9dd",
   "metadata": {},
   "outputs": [],
   "source": [
    "from omni.isaac.core.utils.stage import set_stage_up_axis\n",
    "\n",
    "set_stage_up_axis(\"y\")\n",
    "world.get_physics_context().set_gravity(-9.81)"
   ]
  },
  {
   "cell_type": "code",
   "execution_count": 8,
   "id": "7e58dd3a",
   "metadata": {},
   "outputs": [
    {
     "data": {
      "text/plain": [
       "'Y'"
      ]
     },
     "execution_count": 8,
     "metadata": {},
     "output_type": "execute_result"
    }
   ],
   "source": [
    "from omni.isaac.core.utils.stage import get_current_stage\n",
    "UsdGeom.GetStageUpAxis(get_current_stage())"
   ]
  },
  {
   "cell_type": "code",
   "execution_count": 9,
   "id": "6d06b2bf",
   "metadata": {},
   "outputs": [
    {
     "data": {
      "text/plain": [
       "Gf.Vec3f(0.0, -1.0, 0.0)"
      ]
     },
     "execution_count": 9,
     "metadata": {},
     "output_type": "execute_result"
    }
   ],
   "source": [
    "world.get_physics_context()._physics_scene.GetGravityDirectionAttr().Get()"
   ]
  },
  {
   "cell_type": "code",
   "execution_count": 10,
   "id": "9bc39687",
   "metadata": {},
   "outputs": [
    {
     "data": {
      "text/plain": [
       "729"
      ]
     },
     "execution_count": 10,
     "metadata": {},
     "output_type": "execute_result"
    }
   ],
   "source": [
    "# get prims\n",
    "len(list(world.scene.stage.TraverseAll()))"
   ]
  },
  {
   "cell_type": "code",
   "execution_count": 11,
   "id": "b0617379",
   "metadata": {},
   "outputs": [],
   "source": [
    "world.render()"
   ]
  },
  {
   "cell_type": "code",
   "execution_count": 12,
   "id": "8fddfe07",
   "metadata": {},
   "outputs": [],
   "source": [
    "from rl.robot_env import RobotEnv\n",
    "\n",
    "env = RobotEnv(\"/World/envs/*/jetbot\", [10.0, 10.0])"
   ]
  },
  {
   "cell_type": "code",
   "execution_count": 13,
   "id": "0656697c",
   "metadata": {},
   "outputs": [],
   "source": [
    "world.reset()"
   ]
  },
  {
   "cell_type": "code",
   "execution_count": 14,
   "id": "9021b6e4",
   "metadata": {
    "scrolled": true
   },
   "outputs": [
    {
     "name": "stdout",
     "output_type": "stream",
     "text": [
      "simlation context torch None\n",
      "num_envs 4\n",
      "default joint state tensor([[0., 0.],\n",
      "        [0., 0.],\n",
      "        [0., 0.],\n",
      "        [0., 0.]]) tensor([[0., 0.],\n",
      "        [0., 0.],\n",
      "        [0., 0.],\n",
      "        [0., 0.]]) tensor([[0., 0.],\n",
      "        [0., 0.],\n",
      "        [0., 0.],\n",
      "        [0., 0.]])\n"
     ]
    },
    {
     "data": {
      "text/plain": [
       "<omni.isaac.core.robots.robot_view.RobotView at 0x7fe9b4ee51d0>"
      ]
     },
     "execution_count": 14,
     "metadata": {},
     "output_type": "execute_result"
    }
   ],
   "source": [
    "env.start()\n",
    "world.scene.add(env.robots)"
   ]
  },
  {
   "cell_type": "code",
   "execution_count": 15,
   "id": "982bdf27",
   "metadata": {},
   "outputs": [],
   "source": [
    "total_step = 0"
   ]
  },
  {
   "cell_type": "code",
   "execution_count": 16,
   "id": "413cfd00",
   "metadata": {},
   "outputs": [],
   "source": [
    "action_shape = env.robots._default_joints_state.positions.shape"
   ]
  },
  {
   "cell_type": "code",
   "execution_count": 17,
   "id": "afa5a435",
   "metadata": {},
   "outputs": [],
   "source": [
    "# step\n",
    "def step(warm_up_steps = 1000):\n",
    "    env.progress_buf += 1\n",
    "    if total_step < warm_up_steps:\n",
    "        actions = 10 * (2 * torch.rand(action_shape) - 1)\n",
    "    else:\n",
    "        actions = 10 * trainer.sample_action(current_obs.to(trainer.device))\n",
    "        \n",
    "    env.robots.set_joint_velocities(actions)\n",
    "    \n",
    "    return actions"
   ]
  },
  {
   "cell_type": "code",
   "execution_count": 18,
   "id": "3dbd3577",
   "metadata": {},
   "outputs": [],
   "source": [
    "# observation\n",
    "def get_obs():\n",
    "    torso_position, torso_rotation  = env.robots.get_world_poses()\n",
    "\n",
    "    dof_pos = env.robots.get_joint_positions()\n",
    "    dof_vel = env.robots.get_joint_velocities()\n",
    "\n",
    "    obs = torch.cat([torso_position[...,[1,2]], torso_rotation, dof_pos, 0.1 * dof_vel], dim = 1)\n",
    "\n",
    "    return obs"
   ]
  },
  {
   "cell_type": "code",
   "execution_count": 19,
   "id": "498a0c85",
   "metadata": {},
   "outputs": [],
   "source": [
    "def get_reward_done():\n",
    "    torso_position, _  = env.robots.get_world_poses()\n",
    "    reward = 10 * torso_position[...,2].clone()\n",
    "    \n",
    "    done = torch.where(torso_position[...,2] < -0.5, 1.0, 0.0)\n",
    "    done = torch.where(env.progress_buf > 1000, torch.ones(done.shape[0]), done)\n",
    "    \n",
    "    return reward, done"
   ]
  },
  {
   "cell_type": "code",
   "execution_count": 20,
   "id": "67a4bdce",
   "metadata": {},
   "outputs": [],
   "source": [
    "current_obs = get_obs().data.clone()\n",
    "reward, done = get_reward_done()"
   ]
  },
  {
   "cell_type": "code",
   "execution_count": 21,
   "id": "2931e15b",
   "metadata": {},
   "outputs": [
    {
     "data": {
      "text/plain": [
       "(tensor([[-1.6958e-02, -4.1089e-03,  7.0911e-01, -6.9760e-01,  7.3104e-02,\n",
       "           7.1919e-02,  3.3897e-03,  2.7943e-04, -8.0068e-05, -1.3697e-04],\n",
       "         [-1.6958e-02, -6.6637e-02, -2.0434e-01,  2.0102e-01,  6.8295e-01,\n",
       "           6.7187e-01,  2.4705e-04,  1.3495e-03,  1.9817e-05,  2.0423e-04],\n",
       "         [-1.6958e-02,  5.5819e-02,  6.5686e-01, -6.4620e-01,  2.7698e-01,\n",
       "           2.7249e-01,  5.9838e-04,  6.0042e-04, -4.0208e-03,  2.1139e-03],\n",
       "         [-1.6958e-02,  1.3668e-02, -3.8181e-01,  3.7562e-01,  6.0199e-01,\n",
       "           5.9223e-01,  2.4224e-03, -4.1809e-03,  5.6301e-05, -3.3861e-06]]),\n",
       " tensor([-0.0411, -0.6664,  0.5582,  0.1367]),\n",
       " tensor([0., 0., 0., 0.]))"
      ]
     },
     "execution_count": 21,
     "metadata": {},
     "output_type": "execute_result"
    }
   ],
   "source": [
    "current_obs, reward, done"
   ]
  },
  {
   "cell_type": "code",
   "execution_count": 22,
   "id": "d24e76e2",
   "metadata": {},
   "outputs": [],
   "source": [
    "# need to reset\n",
    "def reset(done):\n",
    "    if torch.sum(done) >= 1:\n",
    "        env_ids = []\n",
    "        for i in range(len(done)):\n",
    "            if done[i] > 0:\n",
    "                env_ids.append(i)\n",
    "\n",
    "        env.reset_idx(env_ids)"
   ]
  },
  {
   "cell_type": "code",
   "execution_count": 23,
   "id": "e3542d6a",
   "metadata": {},
   "outputs": [],
   "source": [
    "world.step(render=True)"
   ]
  },
  {
   "cell_type": "code",
   "execution_count": 26,
   "id": "540bd006",
   "metadata": {
    "scrolled": true
   },
   "outputs": [
    {
     "name": "stdout",
     "output_type": "stream",
     "text": [
      "11099 reward 1.8965692520141602\n",
      "12099 reward 1.226741075515747\n",
      "13099 reward 11.225682258605957\n",
      "14099 reward 3.710864543914795\n",
      "15099 reward 25.747421264648438\n",
      "16099 reward 13.528891563415527\n",
      "17099 reward 3.0023953914642334\n",
      "18099 reward 12.764226913452148\n",
      "19099 reward 23.02794075012207\n",
      "20099 reward 16.30008888244629\n",
      "21099 reward 11.695813179016113\n",
      "22099 reward 20.615360260009766\n",
      "23099 reward 3.6890244483947754\n",
      "24099 reward 5.016439437866211\n",
      "25099 reward 21.05942153930664\n",
      "26099 reward 19.894643783569336\n",
      "27099 reward 19.79549789428711\n",
      "28099 reward 26.892061233520508\n",
      "29099 reward 4.886970043182373\n",
      "30099 reward 10.601360321044922\n",
      "31099 reward 7.6523308753967285\n",
      "32099 reward 3.9452171325683594\n",
      "33099 reward 4.744142532348633\n",
      "34099 reward 13.566095352172852\n",
      "35099 reward 10.389758110046387\n",
      "36099 reward 23.1983642578125\n",
      "37099 reward 3.6956143379211426\n",
      "38099 reward 12.152158737182617\n",
      "39099 reward 12.224940299987793\n",
      "40099 reward 10.150224685668945\n",
      "41099 reward 15.241021156311035\n",
      "42099 reward 8.990320205688477\n",
      "43099 reward 8.072157859802246\n",
      "44099 reward 22.044864654541016\n",
      "45099 reward 24.779300689697266\n",
      "46099 reward 23.95781707763672\n",
      "47099 reward 23.656003952026367\n",
      "48099 reward 24.411531448364258\n",
      "49099 reward 21.66911506652832\n",
      "50099 reward 21.207901000976562\n",
      "51099 reward 3.620906352996826\n",
      "52099 reward 1.1787056922912598\n",
      "53099 reward 0.30081498622894287\n",
      "54099 reward 4.716822624206543\n",
      "55099 reward 1.0635013580322266\n",
      "56099 reward 0.05355210602283478\n",
      "57099 reward 0.8851801156997681\n",
      "58099 reward 0.17444343864917755\n",
      "59099 reward 3.8387022018432617\n",
      "60099 reward 1.9816179275512695\n",
      "61099 reward 23.718908309936523\n",
      "62099 reward 2.3861682415008545\n",
      "63099 reward 7.7811279296875\n",
      "64099 reward 8.475397109985352\n",
      "65099 reward 23.17040252685547\n",
      "66099 reward 46.295127868652344\n",
      "67099 reward 41.73137283325195\n",
      "68099 reward 34.196285247802734\n",
      "69099 reward 16.149919509887695\n",
      "70099 reward 2.475104331970215\n",
      "71099 reward 10.499641418457031\n",
      "72099 reward 34.92451095581055\n",
      "73099 reward 35.990413665771484\n",
      "74099 reward 35.836029052734375\n",
      "75099 reward 21.784421920776367\n",
      "76099 reward 19.526885986328125\n",
      "77099 reward 24.62075424194336\n",
      "78099 reward 35.086124420166016\n",
      "79099 reward 35.552703857421875\n",
      "80099 reward 35.12751770019531\n",
      "81099 reward 28.541250228881836\n",
      "82099 reward 33.7464714050293\n",
      "83099 reward 31.859554290771484\n",
      "84099 reward 32.256103515625\n",
      "85099 reward 33.194419860839844\n",
      "86099 reward 29.726844787597656\n",
      "87099 reward 31.65751838684082\n",
      "88099 reward 28.030376434326172\n",
      "89099 reward 23.91194725036621\n",
      "90099 reward 27.542818069458008\n",
      "91099 reward 31.81071662902832\n",
      "92099 reward 20.094650268554688\n",
      "93099 reward 11.687714576721191\n",
      "94099 reward 30.789228439331055\n",
      "95099 reward 20.070125579833984\n",
      "96099 reward 27.91118621826172\n",
      "97099 reward 15.50294017791748\n",
      "98099 reward 28.063451766967773\n",
      "99099 reward 30.744916915893555\n",
      "100099 reward 30.074031829833984\n",
      "101099 reward 33.364803314208984\n",
      "102099 reward 28.581180572509766\n",
      "103099 reward 32.19337463378906\n",
      "104099 reward 32.05121994018555\n",
      "105099 reward 26.02662467956543\n",
      "106099 reward 24.673282623291016\n",
      "107099 reward 27.227127075195312\n",
      "108099 reward 28.96244239807129\n",
      "109099 reward 14.438220024108887\n",
      "110099 reward 21.32390022277832\n"
     ]
    }
   ],
   "source": [
    "for i in range(100000):\n",
    "    total_step += 1\n",
    "    \n",
    "    # step\n",
    "    current_obs = get_obs().clone()\n",
    "    actions = step()\n",
    "    # actions = 10 * torch.ones(4, 2)\n",
    "    # env.robots.set_joint_velocities(10 * torch.ones(4, 2))\n",
    "    world.step(render=False)\n",
    "    \n",
    "    # get obs\n",
    "    new_obs = get_obs().clone()\n",
    "    \n",
    "    # get reward done\n",
    "    reward, done = get_reward_done()\n",
    "    \n",
    "    # reset\n",
    "    reset(done)\n",
    "    \n",
    "    # buffer\n",
    "    trainer.buf.add_batch(current_obs, 0.1 * actions, new_obs, reward, done)\n",
    "    # print(total_step, \"current_obs, actions, new_obs, reward, done \\n\\n\", current_obs, actions, new_obs, reward, done)\n",
    "    \n",
    "\n",
    "    # debug\n",
    "    if total_step % 1000 == 99:\n",
    "        print(total_step, \"reward\", torch.mean(reward).tolist())\n",
    "        world.render()\n",
    "    \n",
    "    # train\n",
    "    if total_step > 1000:\n",
    "        trainer.train_debug(batch_size = 32)\n",
    "    \n",
    "    "
   ]
  },
  {
   "cell_type": "code",
   "execution_count": 22,
   "id": "56d36ec4",
   "metadata": {},
   "outputs": [],
   "source": [
    "world.reset()"
   ]
  },
  {
   "cell_type": "code",
   "execution_count": 26,
   "id": "9f2814cd",
   "metadata": {},
   "outputs": [],
   "source": [
    "world.render()"
   ]
  },
  {
   "cell_type": "code",
   "execution_count": null,
   "id": "93560164",
   "metadata": {},
   "outputs": [],
   "source": []
  }
 ],
 "metadata": {
  "kernelspec": {
   "display_name": "Isaac Sim Python 3",
   "language": "python",
   "name": "isaac_sim_python3"
  },
  "language_info": {
   "codemirror_mode": {
    "name": "ipython",
    "version": 3
   },
   "file_extension": ".py",
   "mimetype": "text/x-python",
   "name": "python",
   "nbconvert_exporter": "python",
   "pygments_lexer": "ipython3",
   "version": "3.7.13"
  }
 },
 "nbformat": 4,
 "nbformat_minor": 5
}
